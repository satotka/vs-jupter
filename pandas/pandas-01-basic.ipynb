{
 "nbformat": 4,
 "nbformat_minor": 2,
 "metadata": {
  "language_info": {
   "name": "python",
   "codemirror_mode": {
    "name": "ipython",
    "version": 3
   },
   "version": "3.7.4-final"
  },
  "orig_nbformat": 2,
  "file_extension": ".py",
  "mimetype": "text/x-python",
  "name": "python",
  "npconvert_exporter": "python",
  "pygments_lexer": "ipython3",
  "version": 3,
  "kernelspec": {
   "name": "python37464bitvenvvenva9e3bd5c1ed14c808c57203a7fc6fd2c",
   "display_name": "Python 3.7.4 64-bit ('venv': venv)"
  }
 },
 "cells": [
  {
   "cell_type": "markdown",
   "execution_count": null,
   "metadata": {},
   "outputs": [],
   "source": [
    "データ分析で頻出のPandas基本操作\n",
    "\n",
    "https://qiita.com/ysdyt/items/9ccca82fc5b504e7913a\n"
   ]
  },
  {
   "cell_type": "code",
   "execution_count": 2,
   "metadata": {},
   "outputs": [],
   "source": [
    "import plotly.express as px\n",
    "df = px.data.tips()"
   ]
  },
  {
   "cell_type": "code",
   "execution_count": 3,
   "metadata": {},
   "outputs": [
    {
     "name": "stdout",
     "output_type": "stream",
     "text": "dataframeの行数・列数の確認==>\n (244, 7)\nindexの確認==>\n RangeIndex(start=0, stop=244, step=1)\ncolumnの確認==>\n Index(['total_bill', 'tip', 'sex', 'smoker', 'day', 'time', 'size'], dtype='object')\ndataframeの各列のデータ型を確認==>\n total_bill    float64\ntip           float64\nsex            object\nsmoker         object\nday            object\ntime           object\nsize            int64\ndtype: object\n"
    }
   ],
   "source": [
    "print('dataframeの行数・列数の確認==>\\n', df.shape)\n",
    "print('indexの確認==>\\n', df.index)\n",
    "print('columnの確認==>\\n', df.columns)\n",
    "print('dataframeの各列のデータ型を確認==>\\n', df.dtypes)"
   ]
  },
  {
   "cell_type": "code",
   "execution_count": 4,
   "metadata": {},
   "outputs": [
    {
     "data": {
      "text/html": "<div>\n<style scoped>\n    .dataframe tbody tr th:only-of-type {\n        vertical-align: middle;\n    }\n\n    .dataframe tbody tr th {\n        vertical-align: top;\n    }\n\n    .dataframe thead th {\n        text-align: right;\n    }\n</style>\n<table border=\"1\" class=\"dataframe\">\n  <thead>\n    <tr style=\"text-align: right;\">\n      <th></th>\n      <th>total_bill</th>\n      <th>tip</th>\n      <th>day</th>\n      <th>time</th>\n    </tr>\n  </thead>\n  <tbody>\n    <tr>\n      <th>0</th>\n      <td>16.99</td>\n      <td>1.01</td>\n      <td>Sun</td>\n      <td>Dinner</td>\n    </tr>\n    <tr>\n      <th>1</th>\n      <td>10.34</td>\n      <td>1.66</td>\n      <td>Sun</td>\n      <td>Dinner</td>\n    </tr>\n    <tr>\n      <th>2</th>\n      <td>21.01</td>\n      <td>3.50</td>\n      <td>Sun</td>\n      <td>Dinner</td>\n    </tr>\n    <tr>\n      <th>3</th>\n      <td>23.68</td>\n      <td>3.31</td>\n      <td>Sun</td>\n      <td>Dinner</td>\n    </tr>\n    <tr>\n      <th>4</th>\n      <td>24.59</td>\n      <td>3.61</td>\n      <td>Sun</td>\n      <td>Dinner</td>\n    </tr>\n  </tbody>\n</table>\n</div>",
      "text/plain": "   total_bill   tip  day    time\n0       16.99  1.01  Sun  Dinner\n1       10.34  1.66  Sun  Dinner\n2       21.01  3.50  Sun  Dinner\n3       23.68  3.31  Sun  Dinner\n4       24.59  3.61  Sun  Dinner"
     },
     "execution_count": 4,
     "metadata": {},
     "output_type": "execute_result"
    }
   ],
   "source": [
    "# 任意の列だけ取り出したい場合\n",
    "df[['total_bill', 'tip', 'day', 'time']].head()\n"
   ]
  },
  {
   "cell_type": "code",
   "execution_count": 5,
   "metadata": {},
   "outputs": [
    {
     "data": {
      "text/html": "<div>\n<style scoped>\n    .dataframe tbody tr th:only-of-type {\n        vertical-align: middle;\n    }\n\n    .dataframe tbody tr th {\n        vertical-align: top;\n    }\n\n    .dataframe thead th {\n        text-align: right;\n    }\n</style>\n<table border=\"1\" class=\"dataframe\">\n  <thead>\n    <tr style=\"text-align: right;\">\n      <th></th>\n      <th>total_bill</th>\n      <th>tip</th>\n      <th>sex</th>\n      <th>smoker</th>\n      <th>day</th>\n      <th>time</th>\n      <th>size</th>\n    </tr>\n  </thead>\n  <tbody>\n    <tr>\n      <th>170</th>\n      <td>50.81</td>\n      <td>10.0</td>\n      <td>Male</td>\n      <td>Yes</td>\n      <td>Sat</td>\n      <td>Dinner</td>\n      <td>3</td>\n    </tr>\n    <tr>\n      <th>212</th>\n      <td>48.33</td>\n      <td>9.0</td>\n      <td>Male</td>\n      <td>No</td>\n      <td>Sat</td>\n      <td>Dinner</td>\n      <td>4</td>\n    </tr>\n  </tbody>\n</table>\n</div>",
      "text/plain": "     total_bill   tip   sex smoker  day    time  size\n170       50.81  10.0  Male    Yes  Sat  Dinner     3\n212       48.33   9.0  Male     No  Sat  Dinner     4"
     },
     "execution_count": 5,
     "metadata": {},
     "output_type": "execute_result"
    }
   ],
   "source": [
    "# 条件を指定して抽出\n",
    "df[df['tip'] > 8]"
   ]
  },
  {
   "cell_type": "code",
   "execution_count": 6,
   "metadata": {},
   "outputs": [
    {
     "data": {
      "text/html": "<div>\n<style scoped>\n    .dataframe tbody tr th:only-of-type {\n        vertical-align: middle;\n    }\n\n    .dataframe tbody tr th {\n        vertical-align: top;\n    }\n\n    .dataframe thead th {\n        text-align: right;\n    }\n</style>\n<table border=\"1\" class=\"dataframe\">\n  <thead>\n    <tr style=\"text-align: right;\">\n      <th></th>\n      <th>total_bill</th>\n      <th>tip</th>\n      <th>size</th>\n    </tr>\n  </thead>\n  <tbody>\n    <tr>\n      <th>170</th>\n      <td>50.81</td>\n      <td>10.0</td>\n      <td>3</td>\n    </tr>\n  </tbody>\n</table>\n</div>",
      "text/plain": "     total_bill   tip  size\n170       50.81  10.0     3"
     },
     "execution_count": 6,
     "metadata": {},
     "output_type": "execute_result"
    }
   ],
   "source": [
    "# queryメソッドを使うと、複数条件の指定で、特定カラムだけ出力もできる\n",
    "df[['total_bill', 'tip', 'size']].query('size == 3 and tip > 8') #query内のシングル/ダブルクオーテーションの使い方に注意"
   ]
  },
  {
   "cell_type": "code",
   "execution_count": 7,
   "metadata": {},
   "outputs": [
    {
     "data": {
      "text/plain": "array(['No', 'Yes'], dtype=object)"
     },
     "execution_count": 7,
     "metadata": {},
     "output_type": "execute_result"
    }
   ],
   "source": [
    "# どんなデータが入っているか確認\n",
    "df['smoker'].unique()"
   ]
  },
  {
   "cell_type": "code",
   "execution_count": 8,
   "metadata": {},
   "outputs": [
    {
     "data": {
      "text/html": "<div>\n<style scoped>\n    .dataframe tbody tr th:only-of-type {\n        vertical-align: middle;\n    }\n\n    .dataframe tbody tr th {\n        vertical-align: top;\n    }\n\n    .dataframe thead th {\n        text-align: right;\n    }\n</style>\n<table border=\"1\" class=\"dataframe\">\n  <thead>\n    <tr style=\"text-align: right;\">\n      <th></th>\n      <th>total_bill</th>\n      <th>tip</th>\n      <th>size</th>\n    </tr>\n  </thead>\n  <tbody>\n    <tr>\n      <th>count</th>\n      <td>244.000000</td>\n      <td>244.000000</td>\n      <td>244.000000</td>\n    </tr>\n    <tr>\n      <th>mean</th>\n      <td>19.785943</td>\n      <td>2.998279</td>\n      <td>2.569672</td>\n    </tr>\n    <tr>\n      <th>std</th>\n      <td>8.902412</td>\n      <td>1.383638</td>\n      <td>0.951100</td>\n    </tr>\n    <tr>\n      <th>min</th>\n      <td>3.070000</td>\n      <td>1.000000</td>\n      <td>1.000000</td>\n    </tr>\n    <tr>\n      <th>25%</th>\n      <td>13.347500</td>\n      <td>2.000000</td>\n      <td>2.000000</td>\n    </tr>\n    <tr>\n      <th>50%</th>\n      <td>17.795000</td>\n      <td>2.900000</td>\n      <td>2.000000</td>\n    </tr>\n    <tr>\n      <th>75%</th>\n      <td>24.127500</td>\n      <td>3.562500</td>\n      <td>3.000000</td>\n    </tr>\n    <tr>\n      <th>max</th>\n      <td>50.810000</td>\n      <td>10.000000</td>\n      <td>6.000000</td>\n    </tr>\n  </tbody>\n</table>\n</div>",
      "text/plain": "       total_bill         tip        size\ncount  244.000000  244.000000  244.000000\nmean    19.785943    2.998279    2.569672\nstd      8.902412    1.383638    0.951100\nmin      3.070000    1.000000    1.000000\n25%     13.347500    2.000000    2.000000\n50%     17.795000    2.900000    2.000000\n75%     24.127500    3.562500    3.000000\nmax     50.810000   10.000000    6.000000"
     },
     "execution_count": 8,
     "metadata": {},
     "output_type": "execute_result"
    }
   ],
   "source": [
    "# 要約統計量の表示\n",
    "df.describe()"
   ]
  },
  {
   "cell_type": "code",
   "execution_count": 15,
   "metadata": {},
   "outputs": [
    {
     "data": {
      "text/plain": "2    156\n3     38\n4     37\n5      5\n6      4\n1      4\nName: size, dtype: int64"
     },
     "execution_count": 15,
     "metadata": {},
     "output_type": "execute_result"
    }
   ],
   "source": [
    "# 列の集計\n",
    "df['size'].value_counts()"
   ]
  },
  {
   "cell_type": "code",
   "execution_count": 25,
   "metadata": {},
   "outputs": [
    {
     "data": {
      "text/plain": "day   sex   \nFri   Female     9\n      Male      10\nSat   Female    28\n      Male      59\nSun   Female    18\n      Male      58\nThur  Female    32\n      Male      30\nName: tip, dtype: int64"
     },
     "execution_count": 25,
     "metadata": {},
     "output_type": "execute_result"
    }
   ],
   "source": [
    "# groupbyメソッドで、列ごとに数をカウントする\n",
    "df.groupby(['day','sex'])['tip'].count()"
   ]
  },
  {
   "cell_type": "code",
   "execution_count": 51,
   "metadata": {},
   "outputs": [
    {
     "data": {
      "text/html": "<div>\n<style scoped>\n    .dataframe tbody tr th:only-of-type {\n        vertical-align: middle;\n    }\n\n    .dataframe tbody tr th {\n        vertical-align: top;\n    }\n\n    .dataframe thead th {\n        text-align: right;\n    }\n</style>\n<table border=\"1\" class=\"dataframe\">\n  <thead>\n    <tr style=\"text-align: right;\">\n      <th></th>\n      <th></th>\n      <th>tip</th>\n      <th>total_bill</th>\n    </tr>\n    <tr>\n      <th>day</th>\n      <th>time</th>\n      <th></th>\n      <th></th>\n    </tr>\n  </thead>\n  <tbody>\n    <tr>\n      <th rowspan=\"2\" valign=\"top\">Fri</th>\n      <th>Dinner</th>\n      <td>2.940000</td>\n      <td>19.663333</td>\n    </tr>\n    <tr>\n      <th>Lunch</th>\n      <td>2.382857</td>\n      <td>12.845714</td>\n    </tr>\n    <tr>\n      <th>Sat</th>\n      <th>Dinner</th>\n      <td>2.993103</td>\n      <td>20.441379</td>\n    </tr>\n    <tr>\n      <th>Sun</th>\n      <th>Dinner</th>\n      <td>3.255132</td>\n      <td>21.410000</td>\n    </tr>\n    <tr>\n      <th rowspan=\"2\" valign=\"top\">Thur</th>\n      <th>Dinner</th>\n      <td>3.000000</td>\n      <td>18.780000</td>\n    </tr>\n    <tr>\n      <th>Lunch</th>\n      <td>2.767705</td>\n      <td>17.664754</td>\n    </tr>\n  </tbody>\n</table>\n</div>",
      "text/plain": "                  tip  total_bill\nday  time                        \nFri  Dinner  2.940000   19.663333\n     Lunch   2.382857   12.845714\nSat  Dinner  2.993103   20.441379\nSun  Dinner  3.255132   21.410000\nThur Dinner  3.000000   18.780000\n     Lunch   2.767705   17.664754"
     },
     "execution_count": 51,
     "metadata": {},
     "output_type": "execute_result"
    }
   ],
   "source": [
    "# wetherごとにtemperatureの平均値を出す\n",
    "df.groupby(['day','time'])['tip','total_bill'].mean()"
   ]
  },
  {
   "cell_type": "code",
   "execution_count": 43,
   "metadata": {},
   "outputs": [
    {
     "data": {
      "application/vnd.plotly.v1+json": {
       "config": {
        "plotlyServerURL": "https://plot.ly"
       },
       "data": [
        {
         "hoverlabel": {
          "namelength": 0
         },
         "hovertemplate": "time=Dinner<br>day=Sun<br>sex=Female<br>total_bill=%{x}<br>tip=%{y}",
         "legendgroup": "Dinner",
         "marker": {
          "color": "#636efa",
          "symbol": "circle"
         },
         "mode": "markers",
         "name": "Dinner",
         "showlegend": true,
         "type": "scatter",
         "x": [
          16.99,
          24.59,
          35.26,
          14.83,
          10.33,
          16.97,
          10.29,
          34.81,
          25.71,
          17.31,
          29.85,
          25,
          13.39,
          16.21,
          17.51,
          9.6,
          20.9,
          18.15
         ],
         "xaxis": "x7",
         "y": [
          1.01,
          3.61,
          5,
          3.02,
          1.67,
          3.5,
          2.6,
          5.2,
          4,
          3.5,
          5.14,
          3.75,
          2.61,
          2,
          3,
          4,
          3.5,
          3.5
         ],
         "yaxis": "y7"
        },
        {
         "hoverlabel": {
          "namelength": 0
         },
         "hovertemplate": "time=Dinner<br>day=Sun<br>sex=Male<br>total_bill=%{x}<br>tip=%{y}",
         "legendgroup": "Dinner",
         "marker": {
          "color": "#636efa",
          "symbol": "circle"
         },
         "mode": "markers",
         "name": "Dinner",
         "showlegend": false,
         "type": "scatter",
         "x": [
          10.34,
          21.01,
          23.68,
          25.29,
          8.77,
          26.88,
          15.04,
          14.78,
          10.27,
          15.42,
          18.43,
          21.58,
          16.29,
          17.46,
          13.94,
          9.68,
          30.4,
          18.29,
          22.23,
          32.4,
          28.55,
          18.04,
          12.54,
          9.94,
          25.56,
          19.49,
          38.07,
          23.95,
          29.93,
          14.07,
          13.13,
          17.26,
          24.55,
          19.77,
          48.17,
          16.49,
          21.5,
          12.66,
          13.81,
          24.52,
          20.76,
          31.71,
          7.25,
          31.85,
          16.82,
          32.9,
          17.89,
          14.48,
          34.63,
          34.65,
          23.33,
          45.35,
          23.17,
          40.55,
          20.69,
          30.46,
          23.1,
          15.69
         ],
         "xaxis": "x8",
         "y": [
          1.66,
          3.5,
          3.31,
          4.71,
          2,
          3.12,
          1.96,
          3.23,
          1.71,
          1.57,
          3,
          3.92,
          3.71,
          2.54,
          3.06,
          1.32,
          5.6,
          3,
          5,
          6,
          2.05,
          3,
          2.5,
          1.56,
          4.34,
          3.51,
          4,
          2.55,
          5.07,
          2.5,
          2,
          2.74,
          2,
          2,
          5,
          2,
          3.5,
          2.5,
          2,
          3.48,
          2.24,
          4.5,
          5.15,
          3.18,
          4,
          3.11,
          2,
          2,
          3.55,
          3.68,
          5.65,
          3.5,
          6.5,
          3,
          5,
          2,
          4,
          1.5
         ],
         "yaxis": "y8"
        },
        {
         "hoverlabel": {
          "namelength": 0
         },
         "hovertemplate": "time=Dinner<br>day=Sat<br>sex=Female<br>total_bill=%{x}<br>tip=%{y}",
         "legendgroup": "Dinner",
         "marker": {
          "color": "#636efa",
          "symbol": "circle"
         },
         "mode": "markers",
         "name": "Dinner",
         "showlegend": false,
         "type": "scatter",
         "x": [
          20.29,
          15.77,
          19.65,
          15.06,
          20.69,
          16.93,
          26.41,
          16.45,
          3.07,
          17.07,
          26.86,
          25.28,
          14.73,
          44.3,
          22.42,
          20.92,
          14.31,
          7.25,
          10.59,
          10.63,
          12.76,
          13.27,
          28.17,
          12.9,
          30.14,
          22.12,
          35.83,
          27.18
         ],
         "xaxis": "x5",
         "y": [
          2.75,
          2.23,
          3,
          3,
          2.45,
          3.07,
          1.5,
          2.47,
          1,
          3,
          3.14,
          5,
          2.2,
          2.5,
          3.48,
          4.08,
          4,
          1,
          1.61,
          2,
          2.23,
          2.5,
          6.5,
          1.1,
          3.09,
          2.88,
          4.67,
          2
         ],
         "yaxis": "y5"
        },
        {
         "hoverlabel": {
          "namelength": 0
         },
         "hovertemplate": "time=Dinner<br>day=Sat<br>sex=Male<br>total_bill=%{x}<br>tip=%{y}",
         "legendgroup": "Dinner",
         "marker": {
          "color": "#636efa",
          "symbol": "circle"
         },
         "mode": "markers",
         "name": "Dinner",
         "showlegend": false,
         "type": "scatter",
         "x": [
          20.65,
          17.92,
          39.42,
          19.82,
          17.81,
          13.37,
          12.69,
          21.7,
          9.55,
          18.35,
          17.78,
          24.06,
          16.31,
          18.69,
          31.27,
          16.04,
          38.01,
          11.24,
          48.27,
          20.29,
          13.81,
          11.02,
          18.29,
          17.59,
          20.08,
          20.23,
          15.01,
          12.02,
          10.51,
          17.92,
          15.36,
          20.49,
          25.21,
          18.24,
          14,
          50.81,
          15.81,
          26.59,
          38.73,
          24.27,
          30.06,
          25.89,
          48.33,
          28.15,
          11.59,
          7.74,
          20.45,
          13.28,
          24.01,
          15.69,
          11.61,
          10.77,
          15.53,
          10.07,
          12.6,
          32.83,
          29.03,
          22.67,
          17.82
         ],
         "xaxis": "x6",
         "y": [
          3.35,
          4.08,
          7.58,
          3.18,
          2.34,
          2,
          2,
          4.3,
          1.45,
          2.5,
          3.27,
          3.6,
          2,
          2.31,
          5,
          2.24,
          3,
          1.76,
          6.73,
          3.21,
          2,
          1.98,
          3.76,
          2.64,
          3.15,
          2.01,
          2.09,
          1.97,
          1.25,
          3.08,
          1.64,
          4.06,
          4.29,
          3.76,
          3,
          10,
          3.16,
          3.41,
          3,
          2.03,
          2,
          5.16,
          9,
          3,
          1.5,
          1.44,
          3,
          2.72,
          2,
          3,
          3.39,
          1.47,
          3,
          1.25,
          1,
          1.17,
          5.92,
          2,
          1.75
         ],
         "yaxis": "y6"
        },
        {
         "hoverlabel": {
          "namelength": 0
         },
         "hovertemplate": "time=Dinner<br>day=Thur<br>sex=Female<br>total_bill=%{x}<br>tip=%{y}",
         "legendgroup": "Dinner",
         "marker": {
          "color": "#636efa",
          "symbol": "circle"
         },
         "mode": "markers",
         "name": "Dinner",
         "showlegend": false,
         "type": "scatter",
         "x": [
          18.78
         ],
         "xaxis": "x3",
         "y": [
          3
         ],
         "yaxis": "y3"
        },
        {
         "hoverlabel": {
          "namelength": 0
         },
         "hovertemplate": "time=Dinner<br>day=Fri<br>sex=Female<br>total_bill=%{x}<br>tip=%{y}",
         "legendgroup": "Dinner",
         "marker": {
          "color": "#636efa",
          "symbol": "circle"
         },
         "mode": "markers",
         "name": "Dinner",
         "showlegend": false,
         "type": "scatter",
         "x": [
          5.75,
          16.32,
          22.75,
          11.35,
          15.38
         ],
         "xaxis": "x",
         "y": [
          1,
          4.3,
          3.25,
          2.5,
          3
         ],
         "yaxis": "y"
        },
        {
         "hoverlabel": {
          "namelength": 0
         },
         "hovertemplate": "time=Dinner<br>day=Fri<br>sex=Male<br>total_bill=%{x}<br>tip=%{y}",
         "legendgroup": "Dinner",
         "marker": {
          "color": "#636efa",
          "symbol": "circle"
         },
         "mode": "markers",
         "name": "Dinner",
         "showlegend": false,
         "type": "scatter",
         "x": [
          28.97,
          22.49,
          40.17,
          27.28,
          12.03,
          21.01,
          12.46
         ],
         "xaxis": "x2",
         "y": [
          3,
          3.5,
          4.73,
          4,
          1.5,
          3,
          1.5
         ],
         "yaxis": "y2"
        },
        {
         "hoverlabel": {
          "namelength": 0
         },
         "hovertemplate": "time=Lunch<br>day=Thur<br>sex=Female<br>total_bill=%{x}<br>tip=%{y}",
         "legendgroup": "Lunch",
         "marker": {
          "color": "#EF553B",
          "symbol": "circle"
         },
         "mode": "markers",
         "name": "Lunch",
         "showlegend": true,
         "type": "scatter",
         "x": [
          10.07,
          34.83,
          10.65,
          12.43,
          24.08,
          13.42,
          12.48,
          29.8,
          14.52,
          11.38,
          20.27,
          11.17,
          12.26,
          18.26,
          8.51,
          10.33,
          14.15,
          13.16,
          17.47,
          27.05,
          16.43,
          8.35,
          18.64,
          11.87,
          19.81,
          43.11,
          13,
          12.74,
          13,
          16.4,
          16.47
         ],
         "xaxis": "x3",
         "y": [
          1.83,
          5.17,
          1.5,
          1.8,
          2.92,
          1.68,
          2.52,
          4.2,
          2,
          2,
          2.83,
          1.5,
          2,
          3.25,
          1.25,
          2,
          2,
          2.75,
          3.5,
          5,
          2.3,
          1.5,
          1.36,
          1.63,
          4.19,
          5,
          2,
          2.01,
          2,
          2.5,
          3.23
         ],
         "yaxis": "y3"
        },
        {
         "hoverlabel": {
          "namelength": 0
         },
         "hovertemplate": "time=Lunch<br>day=Thur<br>sex=Male<br>total_bill=%{x}<br>tip=%{y}",
         "legendgroup": "Lunch",
         "marker": {
          "color": "#EF553B",
          "symbol": "circle"
         },
         "mode": "markers",
         "name": "Lunch",
         "showlegend": false,
         "type": "scatter",
         "x": [
          27.2,
          22.76,
          17.29,
          19.44,
          16.66,
          32.68,
          15.98,
          13.03,
          18.28,
          24.71,
          21.16,
          11.69,
          14.26,
          15.95,
          8.52,
          22.82,
          19.08,
          16,
          34.3,
          41.19,
          9.78,
          7.51,
          28.44,
          15.48,
          16.58,
          7.56,
          10.34,
          13.51,
          18.71,
          20.53
         ],
         "xaxis": "x4",
         "y": [
          4,
          3,
          2.71,
          3,
          3.4,
          5,
          2.03,
          2,
          4,
          5.85,
          3,
          2.31,
          2.5,
          2,
          1.48,
          2.18,
          1.5,
          2,
          6.7,
          5,
          1.73,
          2,
          2.56,
          2.02,
          4,
          1.44,
          2,
          2,
          4,
          4
         ],
         "yaxis": "y4"
        },
        {
         "hoverlabel": {
          "namelength": 0
         },
         "hovertemplate": "time=Lunch<br>day=Fri<br>sex=Female<br>total_bill=%{x}<br>tip=%{y}",
         "legendgroup": "Lunch",
         "marker": {
          "color": "#EF553B",
          "symbol": "circle"
         },
         "mode": "markers",
         "name": "Lunch",
         "showlegend": false,
         "type": "scatter",
         "x": [
          13.42,
          15.98,
          16.27,
          10.09
         ],
         "xaxis": "x",
         "y": [
          3.48,
          3,
          2.5,
          2
         ],
         "yaxis": "y"
        },
        {
         "hoverlabel": {
          "namelength": 0
         },
         "hovertemplate": "time=Lunch<br>day=Fri<br>sex=Male<br>total_bill=%{x}<br>tip=%{y}",
         "legendgroup": "Lunch",
         "marker": {
          "color": "#EF553B",
          "symbol": "circle"
         },
         "mode": "markers",
         "name": "Lunch",
         "showlegend": false,
         "type": "scatter",
         "x": [
          12.16,
          8.58,
          13.42
         ],
         "xaxis": "x2",
         "y": [
          2.2,
          1.92,
          1.58
         ],
         "yaxis": "y2"
        }
       ],
       "layout": {
        "annotations": [
         {
          "font": {},
          "showarrow": false,
          "text": "sex=Female",
          "x": 0.24,
          "xanchor": "center",
          "xref": "paper",
          "y": 1,
          "yanchor": "bottom",
          "yref": "paper"
         },
         {
          "font": {},
          "showarrow": false,
          "text": "sex=Male",
          "x": 0.74,
          "xanchor": "center",
          "xref": "paper",
          "y": 1,
          "yanchor": "bottom",
          "yref": "paper"
         },
         {
          "font": {},
          "showarrow": false,
          "text": "day=Fri",
          "textangle": 90,
          "x": 0.98,
          "xanchor": "left",
          "xref": "paper",
          "y": 0.11375,
          "yanchor": "middle",
          "yref": "paper"
         },
         {
          "font": {},
          "showarrow": false,
          "text": "day=Thur",
          "textangle": 90,
          "x": 0.98,
          "xanchor": "left",
          "xref": "paper",
          "y": 0.37124999999999997,
          "yanchor": "middle",
          "yref": "paper"
         },
         {
          "font": {},
          "showarrow": false,
          "text": "day=Sat",
          "textangle": 90,
          "x": 0.98,
          "xanchor": "left",
          "xref": "paper",
          "y": 0.62875,
          "yanchor": "middle",
          "yref": "paper"
         },
         {
          "font": {},
          "showarrow": false,
          "text": "day=Sun",
          "textangle": 90,
          "x": 0.98,
          "xanchor": "left",
          "xref": "paper",
          "y": 0.88625,
          "yanchor": "middle",
          "yref": "paper"
         }
        ],
        "legend": {
         "title": {
          "text": "time"
         },
         "tracegroupgap": 0
        },
        "margin": {
         "t": 60
        },
        "template": {
         "data": {
          "bar": [
           {
            "error_x": {
             "color": "#2a3f5f"
            },
            "error_y": {
             "color": "#2a3f5f"
            },
            "marker": {
             "line": {
              "color": "#E5ECF6",
              "width": 0.5
             }
            },
            "type": "bar"
           }
          ],
          "barpolar": [
           {
            "marker": {
             "line": {
              "color": "#E5ECF6",
              "width": 0.5
             }
            },
            "type": "barpolar"
           }
          ],
          "carpet": [
           {
            "aaxis": {
             "endlinecolor": "#2a3f5f",
             "gridcolor": "white",
             "linecolor": "white",
             "minorgridcolor": "white",
             "startlinecolor": "#2a3f5f"
            },
            "baxis": {
             "endlinecolor": "#2a3f5f",
             "gridcolor": "white",
             "linecolor": "white",
             "minorgridcolor": "white",
             "startlinecolor": "#2a3f5f"
            },
            "type": "carpet"
           }
          ],
          "choropleth": [
           {
            "colorbar": {
             "outlinewidth": 0,
             "ticks": ""
            },
            "type": "choropleth"
           }
          ],
          "contour": [
           {
            "colorbar": {
             "outlinewidth": 0,
             "ticks": ""
            },
            "colorscale": [
             [
              0,
              "#0d0887"
             ],
             [
              0.1111111111111111,
              "#46039f"
             ],
             [
              0.2222222222222222,
              "#7201a8"
             ],
             [
              0.3333333333333333,
              "#9c179e"
             ],
             [
              0.4444444444444444,
              "#bd3786"
             ],
             [
              0.5555555555555556,
              "#d8576b"
             ],
             [
              0.6666666666666666,
              "#ed7953"
             ],
             [
              0.7777777777777778,
              "#fb9f3a"
             ],
             [
              0.8888888888888888,
              "#fdca26"
             ],
             [
              1,
              "#f0f921"
             ]
            ],
            "type": "contour"
           }
          ],
          "contourcarpet": [
           {
            "colorbar": {
             "outlinewidth": 0,
             "ticks": ""
            },
            "type": "contourcarpet"
           }
          ],
          "heatmap": [
           {
            "colorbar": {
             "outlinewidth": 0,
             "ticks": ""
            },
            "colorscale": [
             [
              0,
              "#0d0887"
             ],
             [
              0.1111111111111111,
              "#46039f"
             ],
             [
              0.2222222222222222,
              "#7201a8"
             ],
             [
              0.3333333333333333,
              "#9c179e"
             ],
             [
              0.4444444444444444,
              "#bd3786"
             ],
             [
              0.5555555555555556,
              "#d8576b"
             ],
             [
              0.6666666666666666,
              "#ed7953"
             ],
             [
              0.7777777777777778,
              "#fb9f3a"
             ],
             [
              0.8888888888888888,
              "#fdca26"
             ],
             [
              1,
              "#f0f921"
             ]
            ],
            "type": "heatmap"
           }
          ],
          "heatmapgl": [
           {
            "colorbar": {
             "outlinewidth": 0,
             "ticks": ""
            },
            "colorscale": [
             [
              0,
              "#0d0887"
             ],
             [
              0.1111111111111111,
              "#46039f"
             ],
             [
              0.2222222222222222,
              "#7201a8"
             ],
             [
              0.3333333333333333,
              "#9c179e"
             ],
             [
              0.4444444444444444,
              "#bd3786"
             ],
             [
              0.5555555555555556,
              "#d8576b"
             ],
             [
              0.6666666666666666,
              "#ed7953"
             ],
             [
              0.7777777777777778,
              "#fb9f3a"
             ],
             [
              0.8888888888888888,
              "#fdca26"
             ],
             [
              1,
              "#f0f921"
             ]
            ],
            "type": "heatmapgl"
           }
          ],
          "histogram": [
           {
            "marker": {
             "colorbar": {
              "outlinewidth": 0,
              "ticks": ""
             }
            },
            "type": "histogram"
           }
          ],
          "histogram2d": [
           {
            "colorbar": {
             "outlinewidth": 0,
             "ticks": ""
            },
            "colorscale": [
             [
              0,
              "#0d0887"
             ],
             [
              0.1111111111111111,
              "#46039f"
             ],
             [
              0.2222222222222222,
              "#7201a8"
             ],
             [
              0.3333333333333333,
              "#9c179e"
             ],
             [
              0.4444444444444444,
              "#bd3786"
             ],
             [
              0.5555555555555556,
              "#d8576b"
             ],
             [
              0.6666666666666666,
              "#ed7953"
             ],
             [
              0.7777777777777778,
              "#fb9f3a"
             ],
             [
              0.8888888888888888,
              "#fdca26"
             ],
             [
              1,
              "#f0f921"
             ]
            ],
            "type": "histogram2d"
           }
          ],
          "histogram2dcontour": [
           {
            "colorbar": {
             "outlinewidth": 0,
             "ticks": ""
            },
            "colorscale": [
             [
              0,
              "#0d0887"
             ],
             [
              0.1111111111111111,
              "#46039f"
             ],
             [
              0.2222222222222222,
              "#7201a8"
             ],
             [
              0.3333333333333333,
              "#9c179e"
             ],
             [
              0.4444444444444444,
              "#bd3786"
             ],
             [
              0.5555555555555556,
              "#d8576b"
             ],
             [
              0.6666666666666666,
              "#ed7953"
             ],
             [
              0.7777777777777778,
              "#fb9f3a"
             ],
             [
              0.8888888888888888,
              "#fdca26"
             ],
             [
              1,
              "#f0f921"
             ]
            ],
            "type": "histogram2dcontour"
           }
          ],
          "mesh3d": [
           {
            "colorbar": {
             "outlinewidth": 0,
             "ticks": ""
            },
            "type": "mesh3d"
           }
          ],
          "parcoords": [
           {
            "line": {
             "colorbar": {
              "outlinewidth": 0,
              "ticks": ""
             }
            },
            "type": "parcoords"
           }
          ],
          "pie": [
           {
            "automargin": true,
            "type": "pie"
           }
          ],
          "scatter": [
           {
            "marker": {
             "colorbar": {
              "outlinewidth": 0,
              "ticks": ""
             }
            },
            "type": "scatter"
           }
          ],
          "scatter3d": [
           {
            "line": {
             "colorbar": {
              "outlinewidth": 0,
              "ticks": ""
             }
            },
            "marker": {
             "colorbar": {
              "outlinewidth": 0,
              "ticks": ""
             }
            },
            "type": "scatter3d"
           }
          ],
          "scattercarpet": [
           {
            "marker": {
             "colorbar": {
              "outlinewidth": 0,
              "ticks": ""
             }
            },
            "type": "scattercarpet"
           }
          ],
          "scattergeo": [
           {
            "marker": {
             "colorbar": {
              "outlinewidth": 0,
              "ticks": ""
             }
            },
            "type": "scattergeo"
           }
          ],
          "scattergl": [
           {
            "marker": {
             "colorbar": {
              "outlinewidth": 0,
              "ticks": ""
             }
            },
            "type": "scattergl"
           }
          ],
          "scattermapbox": [
           {
            "marker": {
             "colorbar": {
              "outlinewidth": 0,
              "ticks": ""
             }
            },
            "type": "scattermapbox"
           }
          ],
          "scatterpolar": [
           {
            "marker": {
             "colorbar": {
              "outlinewidth": 0,
              "ticks": ""
             }
            },
            "type": "scatterpolar"
           }
          ],
          "scatterpolargl": [
           {
            "marker": {
             "colorbar": {
              "outlinewidth": 0,
              "ticks": ""
             }
            },
            "type": "scatterpolargl"
           }
          ],
          "scatterternary": [
           {
            "marker": {
             "colorbar": {
              "outlinewidth": 0,
              "ticks": ""
             }
            },
            "type": "scatterternary"
           }
          ],
          "surface": [
           {
            "colorbar": {
             "outlinewidth": 0,
             "ticks": ""
            },
            "colorscale": [
             [
              0,
              "#0d0887"
             ],
             [
              0.1111111111111111,
              "#46039f"
             ],
             [
              0.2222222222222222,
              "#7201a8"
             ],
             [
              0.3333333333333333,
              "#9c179e"
             ],
             [
              0.4444444444444444,
              "#bd3786"
             ],
             [
              0.5555555555555556,
              "#d8576b"
             ],
             [
              0.6666666666666666,
              "#ed7953"
             ],
             [
              0.7777777777777778,
              "#fb9f3a"
             ],
             [
              0.8888888888888888,
              "#fdca26"
             ],
             [
              1,
              "#f0f921"
             ]
            ],
            "type": "surface"
           }
          ],
          "table": [
           {
            "cells": {
             "fill": {
              "color": "#EBF0F8"
             },
             "line": {
              "color": "white"
             }
            },
            "header": {
             "fill": {
              "color": "#C8D4E3"
             },
             "line": {
              "color": "white"
             }
            },
            "type": "table"
           }
          ]
         },
         "layout": {
          "annotationdefaults": {
           "arrowcolor": "#2a3f5f",
           "arrowhead": 0,
           "arrowwidth": 1
          },
          "coloraxis": {
           "colorbar": {
            "outlinewidth": 0,
            "ticks": ""
           }
          },
          "colorscale": {
           "diverging": [
            [
             0,
             "#8e0152"
            ],
            [
             0.1,
             "#c51b7d"
            ],
            [
             0.2,
             "#de77ae"
            ],
            [
             0.3,
             "#f1b6da"
            ],
            [
             0.4,
             "#fde0ef"
            ],
            [
             0.5,
             "#f7f7f7"
            ],
            [
             0.6,
             "#e6f5d0"
            ],
            [
             0.7,
             "#b8e186"
            ],
            [
             0.8,
             "#7fbc41"
            ],
            [
             0.9,
             "#4d9221"
            ],
            [
             1,
             "#276419"
            ]
           ],
           "sequential": [
            [
             0,
             "#0d0887"
            ],
            [
             0.1111111111111111,
             "#46039f"
            ],
            [
             0.2222222222222222,
             "#7201a8"
            ],
            [
             0.3333333333333333,
             "#9c179e"
            ],
            [
             0.4444444444444444,
             "#bd3786"
            ],
            [
             0.5555555555555556,
             "#d8576b"
            ],
            [
             0.6666666666666666,
             "#ed7953"
            ],
            [
             0.7777777777777778,
             "#fb9f3a"
            ],
            [
             0.8888888888888888,
             "#fdca26"
            ],
            [
             1,
             "#f0f921"
            ]
           ],
           "sequentialminus": [
            [
             0,
             "#0d0887"
            ],
            [
             0.1111111111111111,
             "#46039f"
            ],
            [
             0.2222222222222222,
             "#7201a8"
            ],
            [
             0.3333333333333333,
             "#9c179e"
            ],
            [
             0.4444444444444444,
             "#bd3786"
            ],
            [
             0.5555555555555556,
             "#d8576b"
            ],
            [
             0.6666666666666666,
             "#ed7953"
            ],
            [
             0.7777777777777778,
             "#fb9f3a"
            ],
            [
             0.8888888888888888,
             "#fdca26"
            ],
            [
             1,
             "#f0f921"
            ]
           ]
          },
          "colorway": [
           "#636efa",
           "#EF553B",
           "#00cc96",
           "#ab63fa",
           "#FFA15A",
           "#19d3f3",
           "#FF6692",
           "#B6E880",
           "#FF97FF",
           "#FECB52"
          ],
          "font": {
           "color": "#2a3f5f"
          },
          "geo": {
           "bgcolor": "white",
           "lakecolor": "white",
           "landcolor": "#E5ECF6",
           "showlakes": true,
           "showland": true,
           "subunitcolor": "white"
          },
          "hoverlabel": {
           "align": "left"
          },
          "hovermode": "closest",
          "mapbox": {
           "style": "light"
          },
          "paper_bgcolor": "white",
          "plot_bgcolor": "#E5ECF6",
          "polar": {
           "angularaxis": {
            "gridcolor": "white",
            "linecolor": "white",
            "ticks": ""
           },
           "bgcolor": "#E5ECF6",
           "radialaxis": {
            "gridcolor": "white",
            "linecolor": "white",
            "ticks": ""
           }
          },
          "scene": {
           "xaxis": {
            "backgroundcolor": "#E5ECF6",
            "gridcolor": "white",
            "gridwidth": 2,
            "linecolor": "white",
            "showbackground": true,
            "ticks": "",
            "zerolinecolor": "white"
           },
           "yaxis": {
            "backgroundcolor": "#E5ECF6",
            "gridcolor": "white",
            "gridwidth": 2,
            "linecolor": "white",
            "showbackground": true,
            "ticks": "",
            "zerolinecolor": "white"
           },
           "zaxis": {
            "backgroundcolor": "#E5ECF6",
            "gridcolor": "white",
            "gridwidth": 2,
            "linecolor": "white",
            "showbackground": true,
            "ticks": "",
            "zerolinecolor": "white"
           }
          },
          "shapedefaults": {
           "line": {
            "color": "#2a3f5f"
           }
          },
          "ternary": {
           "aaxis": {
            "gridcolor": "white",
            "linecolor": "white",
            "ticks": ""
           },
           "baxis": {
            "gridcolor": "white",
            "linecolor": "white",
            "ticks": ""
           },
           "bgcolor": "#E5ECF6",
           "caxis": {
            "gridcolor": "white",
            "linecolor": "white",
            "ticks": ""
           }
          },
          "title": {
           "x": 0.05
          },
          "xaxis": {
           "automargin": true,
           "gridcolor": "white",
           "linecolor": "white",
           "ticks": "",
           "title": {
            "standoff": 15
           },
           "zerolinecolor": "white",
           "zerolinewidth": 2
          },
          "yaxis": {
           "automargin": true,
           "gridcolor": "white",
           "linecolor": "white",
           "ticks": "",
           "title": {
            "standoff": 15
           },
           "zerolinecolor": "white",
           "zerolinewidth": 2
          }
         }
        },
        "xaxis": {
         "anchor": "y",
         "domain": [
          0,
          0.48
         ],
         "title": {
          "text": "total_bill"
         }
        },
        "xaxis2": {
         "anchor": "y2",
         "domain": [
          0.5,
          0.98
         ],
         "matches": "x",
         "title": {
          "text": "total_bill"
         }
        },
        "xaxis3": {
         "anchor": "y3",
         "domain": [
          0,
          0.48
         ],
         "matches": "x",
         "showticklabels": false
        },
        "xaxis4": {
         "anchor": "y4",
         "domain": [
          0.5,
          0.98
         ],
         "matches": "x",
         "showticklabels": false
        },
        "xaxis5": {
         "anchor": "y5",
         "domain": [
          0,
          0.48
         ],
         "matches": "x",
         "showticklabels": false
        },
        "xaxis6": {
         "anchor": "y6",
         "domain": [
          0.5,
          0.98
         ],
         "matches": "x",
         "showticklabels": false
        },
        "xaxis7": {
         "anchor": "y7",
         "domain": [
          0,
          0.48
         ],
         "matches": "x",
         "showticklabels": false
        },
        "xaxis8": {
         "anchor": "y8",
         "domain": [
          0.5,
          0.98
         ],
         "matches": "x",
         "showticklabels": false
        },
        "yaxis": {
         "anchor": "x",
         "domain": [
          0,
          0.2275
         ],
         "title": {
          "text": "tip"
         }
        },
        "yaxis2": {
         "anchor": "x2",
         "domain": [
          0,
          0.2275
         ],
         "matches": "y",
         "showticklabels": false
        },
        "yaxis3": {
         "anchor": "x3",
         "domain": [
          0.2575,
          0.485
         ],
         "matches": "y",
         "title": {
          "text": "tip"
         }
        },
        "yaxis4": {
         "anchor": "x4",
         "domain": [
          0.2575,
          0.485
         ],
         "matches": "y",
         "showticklabels": false
        },
        "yaxis5": {
         "anchor": "x5",
         "domain": [
          0.515,
          0.7425
         ],
         "matches": "y",
         "title": {
          "text": "tip"
         }
        },
        "yaxis6": {
         "anchor": "x6",
         "domain": [
          0.515,
          0.7425
         ],
         "matches": "y",
         "showticklabels": false
        },
        "yaxis7": {
         "anchor": "x7",
         "domain": [
          0.7725,
          1
         ],
         "matches": "y",
         "title": {
          "text": "tip"
         }
        },
        "yaxis8": {
         "anchor": "x8",
         "domain": [
          0.7725,
          1
         ],
         "matches": "y",
         "showticklabels": false
        }
       }
      }
     },
     "metadata": {},
     "output_type": "display_data"
    }
   ],
   "source": [
    "import plotly.express as px\n",
    "\n",
    "px.scatter(df, x='total_bill', y='tip', color='time',facet_col='sex', facet_row='day')"
   ]
  },
  {
   "cell_type": "code",
   "execution_count": 60,
   "metadata": {},
   "outputs": [
    {
     "data": {
      "text/html": "<div>\n<style scoped>\n    .dataframe tbody tr th:only-of-type {\n        vertical-align: middle;\n    }\n\n    .dataframe tbody tr th {\n        vertical-align: top;\n    }\n\n    .dataframe thead th {\n        text-align: right;\n    }\n</style>\n<table border=\"1\" class=\"dataframe\">\n  <thead>\n    <tr style=\"text-align: right;\">\n      <th></th>\n      <th>tip</th>\n      <th>total_bill</th>\n      <th>size</th>\n    </tr>\n  </thead>\n  <tbody>\n    <tr>\n      <th>tip</th>\n      <td>1.000000</td>\n      <td>0.675734</td>\n      <td>0.489299</td>\n    </tr>\n    <tr>\n      <th>total_bill</th>\n      <td>0.675734</td>\n      <td>1.000000</td>\n      <td>0.598315</td>\n    </tr>\n    <tr>\n      <th>size</th>\n      <td>0.489299</td>\n      <td>0.598315</td>\n      <td>1.000000</td>\n    </tr>\n  </tbody>\n</table>\n</div>",
      "text/plain": "                 tip  total_bill      size\ntip         1.000000    0.675734  0.489299\ntotal_bill  0.675734    1.000000  0.598315\nsize        0.489299    0.598315  1.000000"
     },
     "execution_count": 60,
     "metadata": {},
     "output_type": "execute_result"
    }
   ],
   "source": [
    "# 相関\n",
    "df[['tip', 'total_bill', 'size']].corr()"
   ]
  },
  {
   "cell_type": "code",
   "execution_count": 70,
   "metadata": {},
   "outputs": [
    {
     "data": {
      "application/vnd.plotly.v1+json": {
       "config": {
        "plotlyServerURL": "https://plot.ly"
       },
       "data": [
        {
         "dimensions": [
          {
           "axis": {
            "matches": true
           },
           "label": "total_bill",
           "values": [
            16.99,
            10.34,
            21.01,
            23.68,
            24.59,
            25.29,
            8.77,
            26.88,
            15.04,
            14.78,
            10.27,
            35.26,
            15.42,
            18.43,
            14.83,
            21.58,
            10.33,
            16.29,
            16.97,
            20.65,
            17.92,
            20.29,
            15.77,
            39.42,
            19.82,
            17.81,
            13.37,
            12.69,
            21.7,
            19.65,
            9.55,
            18.35,
            15.06,
            20.69,
            17.78,
            24.06,
            16.31,
            16.93,
            18.69,
            31.27,
            16.04,
            17.46,
            13.94,
            9.68,
            30.4,
            18.29,
            22.23,
            32.4,
            28.55,
            18.04,
            12.54,
            10.29,
            34.81,
            9.94,
            25.56,
            19.49,
            38.01,
            26.41,
            11.24,
            48.27,
            20.29,
            13.81,
            11.02,
            18.29,
            17.59,
            20.08,
            16.45,
            3.07,
            20.23,
            15.01,
            12.02,
            17.07,
            26.86,
            25.28,
            14.73,
            10.51,
            17.92,
            27.2,
            22.76,
            17.29,
            19.44,
            16.66,
            10.07,
            32.68,
            15.98,
            34.83,
            13.03,
            18.28,
            24.71,
            21.16,
            28.97,
            22.49,
            5.75,
            16.32,
            22.75,
            40.17,
            27.28,
            12.03,
            21.01,
            12.46,
            11.35,
            15.38,
            44.3,
            22.42,
            20.92,
            15.36,
            20.49,
            25.21,
            18.24,
            14.31,
            14,
            7.25,
            38.07,
            23.95,
            25.71,
            17.31,
            29.93,
            10.65,
            12.43,
            24.08,
            11.69,
            13.42,
            14.26,
            15.95,
            12.48,
            29.8,
            8.52,
            14.52,
            11.38,
            22.82,
            19.08,
            20.27,
            11.17,
            12.26,
            18.26,
            8.51,
            10.33,
            14.15,
            16,
            13.16,
            17.47,
            34.3,
            41.19,
            27.05,
            16.43,
            8.35,
            18.64,
            11.87,
            9.78,
            7.51,
            14.07,
            13.13,
            17.26,
            24.55,
            19.77,
            29.85,
            48.17,
            25,
            13.39,
            16.49,
            21.5,
            12.66,
            16.21,
            13.81,
            17.51,
            24.52,
            20.76,
            31.71,
            10.59,
            10.63,
            50.81,
            15.81,
            7.25,
            31.85,
            16.82,
            32.9,
            17.89,
            14.48,
            9.6,
            34.63,
            34.65,
            23.33,
            45.35,
            23.17,
            40.55,
            20.69,
            20.9,
            30.46,
            18.15,
            23.1,
            15.69,
            19.81,
            28.44,
            15.48,
            16.58,
            7.56,
            10.34,
            43.11,
            13,
            13.51,
            18.71,
            12.74,
            13,
            16.4,
            20.53,
            16.47,
            26.59,
            38.73,
            24.27,
            12.76,
            30.06,
            25.89,
            48.33,
            13.27,
            28.17,
            12.9,
            28.15,
            11.59,
            7.74,
            30.14,
            12.16,
            13.42,
            8.58,
            15.98,
            13.42,
            16.27,
            10.09,
            20.45,
            13.28,
            22.12,
            24.01,
            15.69,
            11.61,
            10.77,
            15.53,
            10.07,
            12.6,
            32.83,
            35.83,
            29.03,
            27.18,
            22.67,
            17.82,
            18.78
           ]
          },
          {
           "axis": {
            "matches": true
           },
           "label": "tip",
           "values": [
            1.01,
            1.66,
            3.5,
            3.31,
            3.61,
            4.71,
            2,
            3.12,
            1.96,
            3.23,
            1.71,
            5,
            1.57,
            3,
            3.02,
            3.92,
            1.67,
            3.71,
            3.5,
            3.35,
            4.08,
            2.75,
            2.23,
            7.58,
            3.18,
            2.34,
            2,
            2,
            4.3,
            3,
            1.45,
            2.5,
            3,
            2.45,
            3.27,
            3.6,
            2,
            3.07,
            2.31,
            5,
            2.24,
            2.54,
            3.06,
            1.32,
            5.6,
            3,
            5,
            6,
            2.05,
            3,
            2.5,
            2.6,
            5.2,
            1.56,
            4.34,
            3.51,
            3,
            1.5,
            1.76,
            6.73,
            3.21,
            2,
            1.98,
            3.76,
            2.64,
            3.15,
            2.47,
            1,
            2.01,
            2.09,
            1.97,
            3,
            3.14,
            5,
            2.2,
            1.25,
            3.08,
            4,
            3,
            2.71,
            3,
            3.4,
            1.83,
            5,
            2.03,
            5.17,
            2,
            4,
            5.85,
            3,
            3,
            3.5,
            1,
            4.3,
            3.25,
            4.73,
            4,
            1.5,
            3,
            1.5,
            2.5,
            3,
            2.5,
            3.48,
            4.08,
            1.64,
            4.06,
            4.29,
            3.76,
            4,
            3,
            1,
            4,
            2.55,
            4,
            3.5,
            5.07,
            1.5,
            1.8,
            2.92,
            2.31,
            1.68,
            2.5,
            2,
            2.52,
            4.2,
            1.48,
            2,
            2,
            2.18,
            1.5,
            2.83,
            1.5,
            2,
            3.25,
            1.25,
            2,
            2,
            2,
            2.75,
            3.5,
            6.7,
            5,
            5,
            2.3,
            1.5,
            1.36,
            1.63,
            1.73,
            2,
            2.5,
            2,
            2.74,
            2,
            2,
            5.14,
            5,
            3.75,
            2.61,
            2,
            3.5,
            2.5,
            2,
            2,
            3,
            3.48,
            2.24,
            4.5,
            1.61,
            2,
            10,
            3.16,
            5.15,
            3.18,
            4,
            3.11,
            2,
            2,
            4,
            3.55,
            3.68,
            5.65,
            3.5,
            6.5,
            3,
            5,
            3.5,
            2,
            3.5,
            4,
            1.5,
            4.19,
            2.56,
            2.02,
            4,
            1.44,
            2,
            5,
            2,
            2,
            4,
            2.01,
            2,
            2.5,
            4,
            3.23,
            3.41,
            3,
            2.03,
            2.23,
            2,
            5.16,
            9,
            2.5,
            6.5,
            1.1,
            3,
            1.5,
            1.44,
            3.09,
            2.2,
            3.48,
            1.92,
            3,
            1.58,
            2.5,
            2,
            3,
            2.72,
            2.88,
            2,
            3,
            3.39,
            1.47,
            3,
            1.25,
            1,
            1.17,
            4.67,
            5.92,
            2,
            2,
            1.75,
            3
           ]
          },
          {
           "axis": {
            "matches": true
           },
           "label": "sex",
           "values": [
            "Female",
            "Male",
            "Male",
            "Male",
            "Female",
            "Male",
            "Male",
            "Male",
            "Male",
            "Male",
            "Male",
            "Female",
            "Male",
            "Male",
            "Female",
            "Male",
            "Female",
            "Male",
            "Female",
            "Male",
            "Male",
            "Female",
            "Female",
            "Male",
            "Male",
            "Male",
            "Male",
            "Male",
            "Male",
            "Female",
            "Male",
            "Male",
            "Female",
            "Female",
            "Male",
            "Male",
            "Male",
            "Female",
            "Male",
            "Male",
            "Male",
            "Male",
            "Male",
            "Male",
            "Male",
            "Male",
            "Male",
            "Male",
            "Male",
            "Male",
            "Male",
            "Female",
            "Female",
            "Male",
            "Male",
            "Male",
            "Male",
            "Female",
            "Male",
            "Male",
            "Male",
            "Male",
            "Male",
            "Male",
            "Male",
            "Male",
            "Female",
            "Female",
            "Male",
            "Male",
            "Male",
            "Female",
            "Female",
            "Female",
            "Female",
            "Male",
            "Male",
            "Male",
            "Male",
            "Male",
            "Male",
            "Male",
            "Female",
            "Male",
            "Male",
            "Female",
            "Male",
            "Male",
            "Male",
            "Male",
            "Male",
            "Male",
            "Female",
            "Female",
            "Female",
            "Male",
            "Male",
            "Male",
            "Male",
            "Male",
            "Female",
            "Female",
            "Female",
            "Female",
            "Female",
            "Male",
            "Male",
            "Male",
            "Male",
            "Female",
            "Male",
            "Female",
            "Male",
            "Male",
            "Female",
            "Female",
            "Male",
            "Female",
            "Female",
            "Female",
            "Male",
            "Female",
            "Male",
            "Male",
            "Female",
            "Female",
            "Male",
            "Female",
            "Female",
            "Male",
            "Male",
            "Female",
            "Female",
            "Female",
            "Female",
            "Female",
            "Female",
            "Female",
            "Male",
            "Female",
            "Female",
            "Male",
            "Male",
            "Female",
            "Female",
            "Female",
            "Female",
            "Female",
            "Male",
            "Male",
            "Male",
            "Male",
            "Male",
            "Male",
            "Male",
            "Female",
            "Male",
            "Female",
            "Female",
            "Male",
            "Male",
            "Male",
            "Female",
            "Male",
            "Female",
            "Male",
            "Male",
            "Male",
            "Female",
            "Female",
            "Male",
            "Male",
            "Male",
            "Male",
            "Male",
            "Male",
            "Male",
            "Male",
            "Female",
            "Male",
            "Male",
            "Male",
            "Male",
            "Male",
            "Male",
            "Male",
            "Female",
            "Male",
            "Female",
            "Male",
            "Male",
            "Female",
            "Male",
            "Male",
            "Male",
            "Male",
            "Male",
            "Female",
            "Female",
            "Male",
            "Male",
            "Female",
            "Female",
            "Female",
            "Male",
            "Female",
            "Male",
            "Male",
            "Male",
            "Female",
            "Male",
            "Male",
            "Male",
            "Female",
            "Female",
            "Female",
            "Male",
            "Male",
            "Male",
            "Female",
            "Male",
            "Female",
            "Male",
            "Female",
            "Male",
            "Female",
            "Female",
            "Male",
            "Male",
            "Female",
            "Male",
            "Male",
            "Male",
            "Male",
            "Male",
            "Male",
            "Male",
            "Male",
            "Female",
            "Male",
            "Female",
            "Male",
            "Male",
            "Female"
           ]
          },
          {
           "axis": {
            "matches": true
           },
           "label": "smoker",
           "values": [
            "No",
            "No",
            "No",
            "No",
            "No",
            "No",
            "No",
            "No",
            "No",
            "No",
            "No",
            "No",
            "No",
            "No",
            "No",
            "No",
            "No",
            "No",
            "No",
            "No",
            "No",
            "No",
            "No",
            "No",
            "No",
            "No",
            "No",
            "No",
            "No",
            "No",
            "No",
            "No",
            "No",
            "No",
            "No",
            "No",
            "No",
            "No",
            "No",
            "No",
            "No",
            "No",
            "No",
            "No",
            "No",
            "No",
            "No",
            "No",
            "No",
            "No",
            "No",
            "No",
            "No",
            "No",
            "No",
            "No",
            "Yes",
            "No",
            "Yes",
            "No",
            "Yes",
            "Yes",
            "Yes",
            "Yes",
            "No",
            "No",
            "No",
            "Yes",
            "No",
            "Yes",
            "No",
            "No",
            "Yes",
            "Yes",
            "No",
            "No",
            "Yes",
            "No",
            "No",
            "No",
            "Yes",
            "No",
            "No",
            "Yes",
            "No",
            "No",
            "No",
            "No",
            "No",
            "No",
            "Yes",
            "No",
            "Yes",
            "Yes",
            "No",
            "Yes",
            "Yes",
            "Yes",
            "Yes",
            "No",
            "Yes",
            "Yes",
            "Yes",
            "Yes",
            "No",
            "Yes",
            "Yes",
            "Yes",
            "No",
            "Yes",
            "No",
            "No",
            "No",
            "No",
            "No",
            "No",
            "No",
            "No",
            "No",
            "No",
            "No",
            "No",
            "No",
            "No",
            "No",
            "No",
            "No",
            "No",
            "No",
            "No",
            "No",
            "No",
            "No",
            "No",
            "No",
            "No",
            "No",
            "No",
            "Yes",
            "No",
            "No",
            "No",
            "No",
            "No",
            "No",
            "No",
            "No",
            "No",
            "No",
            "No",
            "No",
            "No",
            "No",
            "No",
            "No",
            "No",
            "No",
            "No",
            "No",
            "No",
            "No",
            "No",
            "No",
            "No",
            "Yes",
            "No",
            "No",
            "No",
            "Yes",
            "Yes",
            "Yes",
            "Yes",
            "Yes",
            "Yes",
            "Yes",
            "Yes",
            "Yes",
            "Yes",
            "Yes",
            "Yes",
            "Yes",
            "Yes",
            "Yes",
            "Yes",
            "Yes",
            "No",
            "Yes",
            "Yes",
            "Yes",
            "Yes",
            "Yes",
            "Yes",
            "Yes",
            "Yes",
            "Yes",
            "No",
            "Yes",
            "Yes",
            "Yes",
            "Yes",
            "Yes",
            "Yes",
            "Yes",
            "Yes",
            "Yes",
            "Yes",
            "Yes",
            "Yes",
            "Yes",
            "Yes",
            "Yes",
            "Yes",
            "No",
            "Yes",
            "Yes",
            "Yes",
            "Yes",
            "Yes",
            "Yes",
            "Yes",
            "Yes",
            "Yes",
            "Yes",
            "No",
            "Yes",
            "Yes",
            "Yes",
            "No",
            "No",
            "Yes",
            "Yes",
            "Yes",
            "No",
            "No",
            "Yes",
            "No",
            "Yes",
            "Yes",
            "No",
            "No",
            "Yes",
            "Yes",
            "No",
            "No"
           ]
          },
          {
           "axis": {
            "matches": true
           },
           "label": "day",
           "values": [
            "Sun",
            "Sun",
            "Sun",
            "Sun",
            "Sun",
            "Sun",
            "Sun",
            "Sun",
            "Sun",
            "Sun",
            "Sun",
            "Sun",
            "Sun",
            "Sun",
            "Sun",
            "Sun",
            "Sun",
            "Sun",
            "Sun",
            "Sat",
            "Sat",
            "Sat",
            "Sat",
            "Sat",
            "Sat",
            "Sat",
            "Sat",
            "Sat",
            "Sat",
            "Sat",
            "Sat",
            "Sat",
            "Sat",
            "Sat",
            "Sat",
            "Sat",
            "Sat",
            "Sat",
            "Sat",
            "Sat",
            "Sat",
            "Sun",
            "Sun",
            "Sun",
            "Sun",
            "Sun",
            "Sun",
            "Sun",
            "Sun",
            "Sun",
            "Sun",
            "Sun",
            "Sun",
            "Sun",
            "Sun",
            "Sun",
            "Sat",
            "Sat",
            "Sat",
            "Sat",
            "Sat",
            "Sat",
            "Sat",
            "Sat",
            "Sat",
            "Sat",
            "Sat",
            "Sat",
            "Sat",
            "Sat",
            "Sat",
            "Sat",
            "Sat",
            "Sat",
            "Sat",
            "Sat",
            "Sat",
            "Thur",
            "Thur",
            "Thur",
            "Thur",
            "Thur",
            "Thur",
            "Thur",
            "Thur",
            "Thur",
            "Thur",
            "Thur",
            "Thur",
            "Thur",
            "Fri",
            "Fri",
            "Fri",
            "Fri",
            "Fri",
            "Fri",
            "Fri",
            "Fri",
            "Fri",
            "Fri",
            "Fri",
            "Fri",
            "Sat",
            "Sat",
            "Sat",
            "Sat",
            "Sat",
            "Sat",
            "Sat",
            "Sat",
            "Sat",
            "Sat",
            "Sun",
            "Sun",
            "Sun",
            "Sun",
            "Sun",
            "Thur",
            "Thur",
            "Thur",
            "Thur",
            "Thur",
            "Thur",
            "Thur",
            "Thur",
            "Thur",
            "Thur",
            "Thur",
            "Thur",
            "Thur",
            "Thur",
            "Thur",
            "Thur",
            "Thur",
            "Thur",
            "Thur",
            "Thur",
            "Thur",
            "Thur",
            "Thur",
            "Thur",
            "Thur",
            "Thur",
            "Thur",
            "Thur",
            "Thur",
            "Thur",
            "Thur",
            "Thur",
            "Thur",
            "Sun",
            "Sun",
            "Sun",
            "Sun",
            "Sun",
            "Sun",
            "Sun",
            "Sun",
            "Sun",
            "Sun",
            "Sun",
            "Sun",
            "Sun",
            "Sun",
            "Sun",
            "Sun",
            "Sun",
            "Sun",
            "Sat",
            "Sat",
            "Sat",
            "Sat",
            "Sun",
            "Sun",
            "Sun",
            "Sun",
            "Sun",
            "Sun",
            "Sun",
            "Sun",
            "Sun",
            "Sun",
            "Sun",
            "Sun",
            "Sun",
            "Sun",
            "Sun",
            "Sun",
            "Sun",
            "Sun",
            "Sun",
            "Thur",
            "Thur",
            "Thur",
            "Thur",
            "Thur",
            "Thur",
            "Thur",
            "Thur",
            "Thur",
            "Thur",
            "Thur",
            "Thur",
            "Thur",
            "Thur",
            "Thur",
            "Sat",
            "Sat",
            "Sat",
            "Sat",
            "Sat",
            "Sat",
            "Sat",
            "Sat",
            "Sat",
            "Sat",
            "Sat",
            "Sat",
            "Sat",
            "Sat",
            "Fri",
            "Fri",
            "Fri",
            "Fri",
            "Fri",
            "Fri",
            "Fri",
            "Sat",
            "Sat",
            "Sat",
            "Sat",
            "Sat",
            "Sat",
            "Sat",
            "Sat",
            "Sat",
            "Sat",
            "Sat",
            "Sat",
            "Sat",
            "Sat",
            "Sat",
            "Sat",
            "Thur"
           ]
          },
          {
           "axis": {
            "matches": true
           },
           "label": "time",
           "values": [
            "Dinner",
            "Dinner",
            "Dinner",
            "Dinner",
            "Dinner",
            "Dinner",
            "Dinner",
            "Dinner",
            "Dinner",
            "Dinner",
            "Dinner",
            "Dinner",
            "Dinner",
            "Dinner",
            "Dinner",
            "Dinner",
            "Dinner",
            "Dinner",
            "Dinner",
            "Dinner",
            "Dinner",
            "Dinner",
            "Dinner",
            "Dinner",
            "Dinner",
            "Dinner",
            "Dinner",
            "Dinner",
            "Dinner",
            "Dinner",
            "Dinner",
            "Dinner",
            "Dinner",
            "Dinner",
            "Dinner",
            "Dinner",
            "Dinner",
            "Dinner",
            "Dinner",
            "Dinner",
            "Dinner",
            "Dinner",
            "Dinner",
            "Dinner",
            "Dinner",
            "Dinner",
            "Dinner",
            "Dinner",
            "Dinner",
            "Dinner",
            "Dinner",
            "Dinner",
            "Dinner",
            "Dinner",
            "Dinner",
            "Dinner",
            "Dinner",
            "Dinner",
            "Dinner",
            "Dinner",
            "Dinner",
            "Dinner",
            "Dinner",
            "Dinner",
            "Dinner",
            "Dinner",
            "Dinner",
            "Dinner",
            "Dinner",
            "Dinner",
            "Dinner",
            "Dinner",
            "Dinner",
            "Dinner",
            "Dinner",
            "Dinner",
            "Dinner",
            "Lunch",
            "Lunch",
            "Lunch",
            "Lunch",
            "Lunch",
            "Lunch",
            "Lunch",
            "Lunch",
            "Lunch",
            "Lunch",
            "Lunch",
            "Lunch",
            "Lunch",
            "Dinner",
            "Dinner",
            "Dinner",
            "Dinner",
            "Dinner",
            "Dinner",
            "Dinner",
            "Dinner",
            "Dinner",
            "Dinner",
            "Dinner",
            "Dinner",
            "Dinner",
            "Dinner",
            "Dinner",
            "Dinner",
            "Dinner",
            "Dinner",
            "Dinner",
            "Dinner",
            "Dinner",
            "Dinner",
            "Dinner",
            "Dinner",
            "Dinner",
            "Dinner",
            "Dinner",
            "Lunch",
            "Lunch",
            "Lunch",
            "Lunch",
            "Lunch",
            "Lunch",
            "Lunch",
            "Lunch",
            "Lunch",
            "Lunch",
            "Lunch",
            "Lunch",
            "Lunch",
            "Lunch",
            "Lunch",
            "Lunch",
            "Lunch",
            "Lunch",
            "Lunch",
            "Lunch",
            "Lunch",
            "Lunch",
            "Lunch",
            "Lunch",
            "Lunch",
            "Lunch",
            "Lunch",
            "Lunch",
            "Lunch",
            "Lunch",
            "Lunch",
            "Lunch",
            "Lunch",
            "Dinner",
            "Dinner",
            "Dinner",
            "Dinner",
            "Dinner",
            "Dinner",
            "Dinner",
            "Dinner",
            "Dinner",
            "Dinner",
            "Dinner",
            "Dinner",
            "Dinner",
            "Dinner",
            "Dinner",
            "Dinner",
            "Dinner",
            "Dinner",
            "Dinner",
            "Dinner",
            "Dinner",
            "Dinner",
            "Dinner",
            "Dinner",
            "Dinner",
            "Dinner",
            "Dinner",
            "Dinner",
            "Dinner",
            "Dinner",
            "Dinner",
            "Dinner",
            "Dinner",
            "Dinner",
            "Dinner",
            "Dinner",
            "Dinner",
            "Dinner",
            "Dinner",
            "Dinner",
            "Dinner",
            "Lunch",
            "Lunch",
            "Lunch",
            "Lunch",
            "Lunch",
            "Lunch",
            "Lunch",
            "Lunch",
            "Lunch",
            "Lunch",
            "Lunch",
            "Lunch",
            "Lunch",
            "Lunch",
            "Lunch",
            "Dinner",
            "Dinner",
            "Dinner",
            "Dinner",
            "Dinner",
            "Dinner",
            "Dinner",
            "Dinner",
            "Dinner",
            "Dinner",
            "Dinner",
            "Dinner",
            "Dinner",
            "Dinner",
            "Lunch",
            "Lunch",
            "Lunch",
            "Lunch",
            "Lunch",
            "Lunch",
            "Lunch",
            "Dinner",
            "Dinner",
            "Dinner",
            "Dinner",
            "Dinner",
            "Dinner",
            "Dinner",
            "Dinner",
            "Dinner",
            "Dinner",
            "Dinner",
            "Dinner",
            "Dinner",
            "Dinner",
            "Dinner",
            "Dinner",
            "Dinner"
           ]
          },
          {
           "axis": {
            "matches": true
           },
           "label": "size",
           "values": [
            2,
            3,
            3,
            2,
            4,
            4,
            2,
            4,
            2,
            2,
            2,
            4,
            2,
            4,
            2,
            2,
            3,
            3,
            3,
            3,
            2,
            2,
            2,
            4,
            2,
            4,
            2,
            2,
            2,
            2,
            2,
            4,
            2,
            4,
            2,
            3,
            3,
            3,
            3,
            3,
            3,
            2,
            2,
            2,
            4,
            2,
            2,
            4,
            3,
            2,
            2,
            2,
            4,
            2,
            4,
            2,
            4,
            2,
            2,
            4,
            2,
            2,
            2,
            4,
            3,
            3,
            2,
            1,
            2,
            2,
            2,
            3,
            2,
            2,
            2,
            2,
            2,
            4,
            2,
            2,
            2,
            2,
            1,
            2,
            2,
            4,
            2,
            2,
            2,
            2,
            2,
            2,
            2,
            2,
            2,
            4,
            2,
            2,
            2,
            2,
            2,
            2,
            3,
            2,
            2,
            2,
            2,
            2,
            2,
            2,
            2,
            1,
            3,
            2,
            3,
            2,
            4,
            2,
            2,
            4,
            2,
            2,
            2,
            2,
            2,
            6,
            2,
            2,
            2,
            3,
            2,
            2,
            2,
            2,
            2,
            2,
            2,
            2,
            2,
            2,
            2,
            6,
            5,
            6,
            2,
            2,
            3,
            2,
            2,
            2,
            2,
            2,
            3,
            4,
            4,
            5,
            6,
            4,
            2,
            4,
            4,
            2,
            3,
            2,
            2,
            3,
            2,
            4,
            2,
            2,
            3,
            2,
            2,
            2,
            2,
            2,
            2,
            2,
            2,
            2,
            4,
            2,
            3,
            4,
            2,
            5,
            3,
            5,
            3,
            3,
            2,
            2,
            2,
            2,
            2,
            2,
            2,
            4,
            2,
            2,
            3,
            2,
            2,
            2,
            4,
            3,
            3,
            4,
            2,
            2,
            3,
            4,
            4,
            2,
            3,
            2,
            5,
            2,
            2,
            4,
            2,
            2,
            1,
            3,
            2,
            2,
            2,
            4,
            2,
            2,
            4,
            3,
            2,
            2,
            2,
            2,
            2,
            2,
            3,
            3,
            2,
            2,
            2,
            2
           ]
          }
         ],
         "hoverlabel": {
          "namelength": 0
         },
         "hovertemplate": "%{xaxis.title.text}=%{x}<br>%{yaxis.title.text}=%{y}<br>tip=%{marker.color}",
         "legendgroup": "",
         "marker": {
          "color": [
           1.01,
           1.66,
           3.5,
           3.31,
           3.61,
           4.71,
           2,
           3.12,
           1.96,
           3.23,
           1.71,
           5,
           1.57,
           3,
           3.02,
           3.92,
           1.67,
           3.71,
           3.5,
           3.35,
           4.08,
           2.75,
           2.23,
           7.58,
           3.18,
           2.34,
           2,
           2,
           4.3,
           3,
           1.45,
           2.5,
           3,
           2.45,
           3.27,
           3.6,
           2,
           3.07,
           2.31,
           5,
           2.24,
           2.54,
           3.06,
           1.32,
           5.6,
           3,
           5,
           6,
           2.05,
           3,
           2.5,
           2.6,
           5.2,
           1.56,
           4.34,
           3.51,
           3,
           1.5,
           1.76,
           6.73,
           3.21,
           2,
           1.98,
           3.76,
           2.64,
           3.15,
           2.47,
           1,
           2.01,
           2.09,
           1.97,
           3,
           3.14,
           5,
           2.2,
           1.25,
           3.08,
           4,
           3,
           2.71,
           3,
           3.4,
           1.83,
           5,
           2.03,
           5.17,
           2,
           4,
           5.85,
           3,
           3,
           3.5,
           1,
           4.3,
           3.25,
           4.73,
           4,
           1.5,
           3,
           1.5,
           2.5,
           3,
           2.5,
           3.48,
           4.08,
           1.64,
           4.06,
           4.29,
           3.76,
           4,
           3,
           1,
           4,
           2.55,
           4,
           3.5,
           5.07,
           1.5,
           1.8,
           2.92,
           2.31,
           1.68,
           2.5,
           2,
           2.52,
           4.2,
           1.48,
           2,
           2,
           2.18,
           1.5,
           2.83,
           1.5,
           2,
           3.25,
           1.25,
           2,
           2,
           2,
           2.75,
           3.5,
           6.7,
           5,
           5,
           2.3,
           1.5,
           1.36,
           1.63,
           1.73,
           2,
           2.5,
           2,
           2.74,
           2,
           2,
           5.14,
           5,
           3.75,
           2.61,
           2,
           3.5,
           2.5,
           2,
           2,
           3,
           3.48,
           2.24,
           4.5,
           1.61,
           2,
           10,
           3.16,
           5.15,
           3.18,
           4,
           3.11,
           2,
           2,
           4,
           3.55,
           3.68,
           5.65,
           3.5,
           6.5,
           3,
           5,
           3.5,
           2,
           3.5,
           4,
           1.5,
           4.19,
           2.56,
           2.02,
           4,
           1.44,
           2,
           5,
           2,
           2,
           4,
           2.01,
           2,
           2.5,
           4,
           3.23,
           3.41,
           3,
           2.03,
           2.23,
           2,
           5.16,
           9,
           2.5,
           6.5,
           1.1,
           3,
           1.5,
           1.44,
           3.09,
           2.2,
           3.48,
           1.92,
           3,
           1.58,
           2.5,
           2,
           3,
           2.72,
           2.88,
           2,
           3,
           3.39,
           1.47,
           3,
           1.25,
           1,
           1.17,
           4.67,
           5.92,
           2,
           2,
           1.75,
           3
          ],
          "coloraxis": "coloraxis",
          "symbol": "circle"
         },
         "name": "",
         "showlegend": false,
         "type": "splom"
        }
       ],
       "layout": {
        "coloraxis": {
         "colorbar": {
          "title": {
           "text": "tip"
          }
         },
         "colorscale": [
          [
           0,
           "#0d0887"
          ],
          [
           0.1111111111111111,
           "#46039f"
          ],
          [
           0.2222222222222222,
           "#7201a8"
          ],
          [
           0.3333333333333333,
           "#9c179e"
          ],
          [
           0.4444444444444444,
           "#bd3786"
          ],
          [
           0.5555555555555556,
           "#d8576b"
          ],
          [
           0.6666666666666666,
           "#ed7953"
          ],
          [
           0.7777777777777778,
           "#fb9f3a"
          ],
          [
           0.8888888888888888,
           "#fdca26"
          ],
          [
           1,
           "#f0f921"
          ]
         ]
        },
        "dragmode": "select",
        "legend": {
         "tracegroupgap": 0
        },
        "margin": {
         "t": 60
        },
        "template": {
         "data": {
          "bar": [
           {
            "error_x": {
             "color": "#2a3f5f"
            },
            "error_y": {
             "color": "#2a3f5f"
            },
            "marker": {
             "line": {
              "color": "#E5ECF6",
              "width": 0.5
             }
            },
            "type": "bar"
           }
          ],
          "barpolar": [
           {
            "marker": {
             "line": {
              "color": "#E5ECF6",
              "width": 0.5
             }
            },
            "type": "barpolar"
           }
          ],
          "carpet": [
           {
            "aaxis": {
             "endlinecolor": "#2a3f5f",
             "gridcolor": "white",
             "linecolor": "white",
             "minorgridcolor": "white",
             "startlinecolor": "#2a3f5f"
            },
            "baxis": {
             "endlinecolor": "#2a3f5f",
             "gridcolor": "white",
             "linecolor": "white",
             "minorgridcolor": "white",
             "startlinecolor": "#2a3f5f"
            },
            "type": "carpet"
           }
          ],
          "choropleth": [
           {
            "colorbar": {
             "outlinewidth": 0,
             "ticks": ""
            },
            "type": "choropleth"
           }
          ],
          "contour": [
           {
            "colorbar": {
             "outlinewidth": 0,
             "ticks": ""
            },
            "colorscale": [
             [
              0,
              "#0d0887"
             ],
             [
              0.1111111111111111,
              "#46039f"
             ],
             [
              0.2222222222222222,
              "#7201a8"
             ],
             [
              0.3333333333333333,
              "#9c179e"
             ],
             [
              0.4444444444444444,
              "#bd3786"
             ],
             [
              0.5555555555555556,
              "#d8576b"
             ],
             [
              0.6666666666666666,
              "#ed7953"
             ],
             [
              0.7777777777777778,
              "#fb9f3a"
             ],
             [
              0.8888888888888888,
              "#fdca26"
             ],
             [
              1,
              "#f0f921"
             ]
            ],
            "type": "contour"
           }
          ],
          "contourcarpet": [
           {
            "colorbar": {
             "outlinewidth": 0,
             "ticks": ""
            },
            "type": "contourcarpet"
           }
          ],
          "heatmap": [
           {
            "colorbar": {
             "outlinewidth": 0,
             "ticks": ""
            },
            "colorscale": [
             [
              0,
              "#0d0887"
             ],
             [
              0.1111111111111111,
              "#46039f"
             ],
             [
              0.2222222222222222,
              "#7201a8"
             ],
             [
              0.3333333333333333,
              "#9c179e"
             ],
             [
              0.4444444444444444,
              "#bd3786"
             ],
             [
              0.5555555555555556,
              "#d8576b"
             ],
             [
              0.6666666666666666,
              "#ed7953"
             ],
             [
              0.7777777777777778,
              "#fb9f3a"
             ],
             [
              0.8888888888888888,
              "#fdca26"
             ],
             [
              1,
              "#f0f921"
             ]
            ],
            "type": "heatmap"
           }
          ],
          "heatmapgl": [
           {
            "colorbar": {
             "outlinewidth": 0,
             "ticks": ""
            },
            "colorscale": [
             [
              0,
              "#0d0887"
             ],
             [
              0.1111111111111111,
              "#46039f"
             ],
             [
              0.2222222222222222,
              "#7201a8"
             ],
             [
              0.3333333333333333,
              "#9c179e"
             ],
             [
              0.4444444444444444,
              "#bd3786"
             ],
             [
              0.5555555555555556,
              "#d8576b"
             ],
             [
              0.6666666666666666,
              "#ed7953"
             ],
             [
              0.7777777777777778,
              "#fb9f3a"
             ],
             [
              0.8888888888888888,
              "#fdca26"
             ],
             [
              1,
              "#f0f921"
             ]
            ],
            "type": "heatmapgl"
           }
          ],
          "histogram": [
           {
            "marker": {
             "colorbar": {
              "outlinewidth": 0,
              "ticks": ""
             }
            },
            "type": "histogram"
           }
          ],
          "histogram2d": [
           {
            "colorbar": {
             "outlinewidth": 0,
             "ticks": ""
            },
            "colorscale": [
             [
              0,
              "#0d0887"
             ],
             [
              0.1111111111111111,
              "#46039f"
             ],
             [
              0.2222222222222222,
              "#7201a8"
             ],
             [
              0.3333333333333333,
              "#9c179e"
             ],
             [
              0.4444444444444444,
              "#bd3786"
             ],
             [
              0.5555555555555556,
              "#d8576b"
             ],
             [
              0.6666666666666666,
              "#ed7953"
             ],
             [
              0.7777777777777778,
              "#fb9f3a"
             ],
             [
              0.8888888888888888,
              "#fdca26"
             ],
             [
              1,
              "#f0f921"
             ]
            ],
            "type": "histogram2d"
           }
          ],
          "histogram2dcontour": [
           {
            "colorbar": {
             "outlinewidth": 0,
             "ticks": ""
            },
            "colorscale": [
             [
              0,
              "#0d0887"
             ],
             [
              0.1111111111111111,
              "#46039f"
             ],
             [
              0.2222222222222222,
              "#7201a8"
             ],
             [
              0.3333333333333333,
              "#9c179e"
             ],
             [
              0.4444444444444444,
              "#bd3786"
             ],
             [
              0.5555555555555556,
              "#d8576b"
             ],
             [
              0.6666666666666666,
              "#ed7953"
             ],
             [
              0.7777777777777778,
              "#fb9f3a"
             ],
             [
              0.8888888888888888,
              "#fdca26"
             ],
             [
              1,
              "#f0f921"
             ]
            ],
            "type": "histogram2dcontour"
           }
          ],
          "mesh3d": [
           {
            "colorbar": {
             "outlinewidth": 0,
             "ticks": ""
            },
            "type": "mesh3d"
           }
          ],
          "parcoords": [
           {
            "line": {
             "colorbar": {
              "outlinewidth": 0,
              "ticks": ""
             }
            },
            "type": "parcoords"
           }
          ],
          "pie": [
           {
            "automargin": true,
            "type": "pie"
           }
          ],
          "scatter": [
           {
            "marker": {
             "colorbar": {
              "outlinewidth": 0,
              "ticks": ""
             }
            },
            "type": "scatter"
           }
          ],
          "scatter3d": [
           {
            "line": {
             "colorbar": {
              "outlinewidth": 0,
              "ticks": ""
             }
            },
            "marker": {
             "colorbar": {
              "outlinewidth": 0,
              "ticks": ""
             }
            },
            "type": "scatter3d"
           }
          ],
          "scattercarpet": [
           {
            "marker": {
             "colorbar": {
              "outlinewidth": 0,
              "ticks": ""
             }
            },
            "type": "scattercarpet"
           }
          ],
          "scattergeo": [
           {
            "marker": {
             "colorbar": {
              "outlinewidth": 0,
              "ticks": ""
             }
            },
            "type": "scattergeo"
           }
          ],
          "scattergl": [
           {
            "marker": {
             "colorbar": {
              "outlinewidth": 0,
              "ticks": ""
             }
            },
            "type": "scattergl"
           }
          ],
          "scattermapbox": [
           {
            "marker": {
             "colorbar": {
              "outlinewidth": 0,
              "ticks": ""
             }
            },
            "type": "scattermapbox"
           }
          ],
          "scatterpolar": [
           {
            "marker": {
             "colorbar": {
              "outlinewidth": 0,
              "ticks": ""
             }
            },
            "type": "scatterpolar"
           }
          ],
          "scatterpolargl": [
           {
            "marker": {
             "colorbar": {
              "outlinewidth": 0,
              "ticks": ""
             }
            },
            "type": "scatterpolargl"
           }
          ],
          "scatterternary": [
           {
            "marker": {
             "colorbar": {
              "outlinewidth": 0,
              "ticks": ""
             }
            },
            "type": "scatterternary"
           }
          ],
          "surface": [
           {
            "colorbar": {
             "outlinewidth": 0,
             "ticks": ""
            },
            "colorscale": [
             [
              0,
              "#0d0887"
             ],
             [
              0.1111111111111111,
              "#46039f"
             ],
             [
              0.2222222222222222,
              "#7201a8"
             ],
             [
              0.3333333333333333,
              "#9c179e"
             ],
             [
              0.4444444444444444,
              "#bd3786"
             ],
             [
              0.5555555555555556,
              "#d8576b"
             ],
             [
              0.6666666666666666,
              "#ed7953"
             ],
             [
              0.7777777777777778,
              "#fb9f3a"
             ],
             [
              0.8888888888888888,
              "#fdca26"
             ],
             [
              1,
              "#f0f921"
             ]
            ],
            "type": "surface"
           }
          ],
          "table": [
           {
            "cells": {
             "fill": {
              "color": "#EBF0F8"
             },
             "line": {
              "color": "white"
             }
            },
            "header": {
             "fill": {
              "color": "#C8D4E3"
             },
             "line": {
              "color": "white"
             }
            },
            "type": "table"
           }
          ]
         },
         "layout": {
          "annotationdefaults": {
           "arrowcolor": "#2a3f5f",
           "arrowhead": 0,
           "arrowwidth": 1
          },
          "coloraxis": {
           "colorbar": {
            "outlinewidth": 0,
            "ticks": ""
           }
          },
          "colorscale": {
           "diverging": [
            [
             0,
             "#8e0152"
            ],
            [
             0.1,
             "#c51b7d"
            ],
            [
             0.2,
             "#de77ae"
            ],
            [
             0.3,
             "#f1b6da"
            ],
            [
             0.4,
             "#fde0ef"
            ],
            [
             0.5,
             "#f7f7f7"
            ],
            [
             0.6,
             "#e6f5d0"
            ],
            [
             0.7,
             "#b8e186"
            ],
            [
             0.8,
             "#7fbc41"
            ],
            [
             0.9,
             "#4d9221"
            ],
            [
             1,
             "#276419"
            ]
           ],
           "sequential": [
            [
             0,
             "#0d0887"
            ],
            [
             0.1111111111111111,
             "#46039f"
            ],
            [
             0.2222222222222222,
             "#7201a8"
            ],
            [
             0.3333333333333333,
             "#9c179e"
            ],
            [
             0.4444444444444444,
             "#bd3786"
            ],
            [
             0.5555555555555556,
             "#d8576b"
            ],
            [
             0.6666666666666666,
             "#ed7953"
            ],
            [
             0.7777777777777778,
             "#fb9f3a"
            ],
            [
             0.8888888888888888,
             "#fdca26"
            ],
            [
             1,
             "#f0f921"
            ]
           ],
           "sequentialminus": [
            [
             0,
             "#0d0887"
            ],
            [
             0.1111111111111111,
             "#46039f"
            ],
            [
             0.2222222222222222,
             "#7201a8"
            ],
            [
             0.3333333333333333,
             "#9c179e"
            ],
            [
             0.4444444444444444,
             "#bd3786"
            ],
            [
             0.5555555555555556,
             "#d8576b"
            ],
            [
             0.6666666666666666,
             "#ed7953"
            ],
            [
             0.7777777777777778,
             "#fb9f3a"
            ],
            [
             0.8888888888888888,
             "#fdca26"
            ],
            [
             1,
             "#f0f921"
            ]
           ]
          },
          "colorway": [
           "#636efa",
           "#EF553B",
           "#00cc96",
           "#ab63fa",
           "#FFA15A",
           "#19d3f3",
           "#FF6692",
           "#B6E880",
           "#FF97FF",
           "#FECB52"
          ],
          "font": {
           "color": "#2a3f5f"
          },
          "geo": {
           "bgcolor": "white",
           "lakecolor": "white",
           "landcolor": "#E5ECF6",
           "showlakes": true,
           "showland": true,
           "subunitcolor": "white"
          },
          "hoverlabel": {
           "align": "left"
          },
          "hovermode": "closest",
          "mapbox": {
           "style": "light"
          },
          "paper_bgcolor": "white",
          "plot_bgcolor": "#E5ECF6",
          "polar": {
           "angularaxis": {
            "gridcolor": "white",
            "linecolor": "white",
            "ticks": ""
           },
           "bgcolor": "#E5ECF6",
           "radialaxis": {
            "gridcolor": "white",
            "linecolor": "white",
            "ticks": ""
           }
          },
          "scene": {
           "xaxis": {
            "backgroundcolor": "#E5ECF6",
            "gridcolor": "white",
            "gridwidth": 2,
            "linecolor": "white",
            "showbackground": true,
            "ticks": "",
            "zerolinecolor": "white"
           },
           "yaxis": {
            "backgroundcolor": "#E5ECF6",
            "gridcolor": "white",
            "gridwidth": 2,
            "linecolor": "white",
            "showbackground": true,
            "ticks": "",
            "zerolinecolor": "white"
           },
           "zaxis": {
            "backgroundcolor": "#E5ECF6",
            "gridcolor": "white",
            "gridwidth": 2,
            "linecolor": "white",
            "showbackground": true,
            "ticks": "",
            "zerolinecolor": "white"
           }
          },
          "shapedefaults": {
           "line": {
            "color": "#2a3f5f"
           }
          },
          "ternary": {
           "aaxis": {
            "gridcolor": "white",
            "linecolor": "white",
            "ticks": ""
           },
           "baxis": {
            "gridcolor": "white",
            "linecolor": "white",
            "ticks": ""
           },
           "bgcolor": "#E5ECF6",
           "caxis": {
            "gridcolor": "white",
            "linecolor": "white",
            "ticks": ""
           }
          },
          "title": {
           "x": 0.05
          },
          "xaxis": {
           "automargin": true,
           "gridcolor": "white",
           "linecolor": "white",
           "ticks": "",
           "title": {
            "standoff": 15
           },
           "zerolinecolor": "white",
           "zerolinewidth": 2
          },
          "yaxis": {
           "automargin": true,
           "gridcolor": "white",
           "linecolor": "white",
           "ticks": "",
           "title": {
            "standoff": 15
           },
           "zerolinecolor": "white",
           "zerolinewidth": 2
          }
         }
        }
       }
      }
     },
     "metadata": {},
     "output_type": "display_data"
    }
   ],
   "source": [
    "px.scatter_matrix(df, color='tip')"
   ]
  }
 ]
}