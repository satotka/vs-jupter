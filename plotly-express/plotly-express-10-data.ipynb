{
 "nbformat": 4,
 "nbformat_minor": 2,
 "metadata": {
  "language_info": {
   "name": "python",
   "codemirror_mode": {
    "name": "ipython",
    "version": 3
   },
   "version": "3.7.4-final"
  },
  "orig_nbformat": 2,
  "file_extension": ".py",
  "mimetype": "text/x-python",
  "name": "python",
  "npconvert_exporter": "python",
  "pygments_lexer": "ipython3",
  "version": 3,
  "kernelspec": {
   "name": "python37464bitvenvvenva9e3bd5c1ed14c808c57203a7fc6fd2c",
   "display_name": "Python 3.7.4 64-bit ('venv': venv)"
  }
 },
 "cells": [
  {
   "cell_type": "markdown",
   "execution_count": null,
   "metadata": {},
   "outputs": [],
   "source": [
    "# Plotly Express\n",
    "\n",
    "https://plot.ly/python/plotly-express/\n"
   ]
  },
  {
   "source": [
    "import plotly.express as px"
   ],
   "cell_type": "code",
   "outputs": [],
   "metadata": {},
   "execution_count": 1
  },
  {
   "source": [
    "print(px.data.iris.__doc__)\n",
    "px.data.iris().head()"
   ],
   "cell_type": "code",
   "outputs": [
    {
     "output_type": "stream",
     "name": "stdout",
     "text": "\nEach row represents a flower.\n\nhttps://en.wikipedia.org/wiki/Iris_flower_data_set\n\nReturns:\n    A `pandas.DataFrame` with 150 rows and the following columns:\n    `['sepal_length', 'sepal_width', 'petal_length', 'petal_width', 'species', 'species_id']`.\n\n"
    },
    {
     "output_type": "execute_result",
     "data": {
      "text/plain": "   sepal_length  sepal_width  petal_length  petal_width species  species_id\n0           5.1          3.5           1.4          0.2  setosa           1\n1           4.9          3.0           1.4          0.2  setosa           1\n2           4.7          3.2           1.3          0.2  setosa           1\n3           4.6          3.1           1.5          0.2  setosa           1\n4           5.0          3.6           1.4          0.2  setosa           1",
      "text/html": "<div>\n<style scoped>\n    .dataframe tbody tr th:only-of-type {\n        vertical-align: middle;\n    }\n\n    .dataframe tbody tr th {\n        vertical-align: top;\n    }\n\n    .dataframe thead th {\n        text-align: right;\n    }\n</style>\n<table border=\"1\" class=\"dataframe\">\n  <thead>\n    <tr style=\"text-align: right;\">\n      <th></th>\n      <th>sepal_length</th>\n      <th>sepal_width</th>\n      <th>petal_length</th>\n      <th>petal_width</th>\n      <th>species</th>\n      <th>species_id</th>\n    </tr>\n  </thead>\n  <tbody>\n    <tr>\n      <th>0</th>\n      <td>5.1</td>\n      <td>3.5</td>\n      <td>1.4</td>\n      <td>0.2</td>\n      <td>setosa</td>\n      <td>1</td>\n    </tr>\n    <tr>\n      <th>1</th>\n      <td>4.9</td>\n      <td>3.0</td>\n      <td>1.4</td>\n      <td>0.2</td>\n      <td>setosa</td>\n      <td>1</td>\n    </tr>\n    <tr>\n      <th>2</th>\n      <td>4.7</td>\n      <td>3.2</td>\n      <td>1.3</td>\n      <td>0.2</td>\n      <td>setosa</td>\n      <td>1</td>\n    </tr>\n    <tr>\n      <th>3</th>\n      <td>4.6</td>\n      <td>3.1</td>\n      <td>1.5</td>\n      <td>0.2</td>\n      <td>setosa</td>\n      <td>1</td>\n    </tr>\n    <tr>\n      <th>4</th>\n      <td>5.0</td>\n      <td>3.6</td>\n      <td>1.4</td>\n      <td>0.2</td>\n      <td>setosa</td>\n      <td>1</td>\n    </tr>\n  </tbody>\n</table>\n</div>"
     },
     "metadata": {},
     "execution_count": 2
    }
   ],
   "metadata": {},
   "execution_count": 2
  },
  {
   "source": [
    "print(px.data.tips.__doc__)\n",
    "px.data.tips()"
   ],
   "cell_type": "code",
   "outputs": [
    {
     "output_type": "stream",
     "name": "stdout",
     "text": "\nEach row represents a restaurant bill.\n\nhttps://vincentarelbundock.github.io/Rdatasets/doc/reshape2/tips.html\n\nReturns:\n    A `pandas.DataFrame` with 244 rows and the following columns:\n    `['total_bill', 'tip', 'sex', 'smoker', 'day', 'time', 'size']`.\n\n"
    },
    {
     "output_type": "execute_result",
     "data": {
      "text/plain": "     total_bill   tip     sex smoker   day    time  size\n0         16.99  1.01  Female     No   Sun  Dinner     2\n1         10.34  1.66    Male     No   Sun  Dinner     3\n2         21.01  3.50    Male     No   Sun  Dinner     3\n3         23.68  3.31    Male     No   Sun  Dinner     2\n4         24.59  3.61  Female     No   Sun  Dinner     4\n..          ...   ...     ...    ...   ...     ...   ...\n239       29.03  5.92    Male     No   Sat  Dinner     3\n240       27.18  2.00  Female    Yes   Sat  Dinner     2\n241       22.67  2.00    Male    Yes   Sat  Dinner     2\n242       17.82  1.75    Male     No   Sat  Dinner     2\n243       18.78  3.00  Female     No  Thur  Dinner     2\n\n[244 rows x 7 columns]",
      "text/html": "<div>\n<style scoped>\n    .dataframe tbody tr th:only-of-type {\n        vertical-align: middle;\n    }\n\n    .dataframe tbody tr th {\n        vertical-align: top;\n    }\n\n    .dataframe thead th {\n        text-align: right;\n    }\n</style>\n<table border=\"1\" class=\"dataframe\">\n  <thead>\n    <tr style=\"text-align: right;\">\n      <th></th>\n      <th>total_bill</th>\n      <th>tip</th>\n      <th>sex</th>\n      <th>smoker</th>\n      <th>day</th>\n      <th>time</th>\n      <th>size</th>\n    </tr>\n  </thead>\n  <tbody>\n    <tr>\n      <th>0</th>\n      <td>16.99</td>\n      <td>1.01</td>\n      <td>Female</td>\n      <td>No</td>\n      <td>Sun</td>\n      <td>Dinner</td>\n      <td>2</td>\n    </tr>\n    <tr>\n      <th>1</th>\n      <td>10.34</td>\n      <td>1.66</td>\n      <td>Male</td>\n      <td>No</td>\n      <td>Sun</td>\n      <td>Dinner</td>\n      <td>3</td>\n    </tr>\n    <tr>\n      <th>2</th>\n      <td>21.01</td>\n      <td>3.50</td>\n      <td>Male</td>\n      <td>No</td>\n      <td>Sun</td>\n      <td>Dinner</td>\n      <td>3</td>\n    </tr>\n    <tr>\n      <th>3</th>\n      <td>23.68</td>\n      <td>3.31</td>\n      <td>Male</td>\n      <td>No</td>\n      <td>Sun</td>\n      <td>Dinner</td>\n      <td>2</td>\n    </tr>\n    <tr>\n      <th>4</th>\n      <td>24.59</td>\n      <td>3.61</td>\n      <td>Female</td>\n      <td>No</td>\n      <td>Sun</td>\n      <td>Dinner</td>\n      <td>4</td>\n    </tr>\n    <tr>\n      <th>...</th>\n      <td>...</td>\n      <td>...</td>\n      <td>...</td>\n      <td>...</td>\n      <td>...</td>\n      <td>...</td>\n      <td>...</td>\n    </tr>\n    <tr>\n      <th>239</th>\n      <td>29.03</td>\n      <td>5.92</td>\n      <td>Male</td>\n      <td>No</td>\n      <td>Sat</td>\n      <td>Dinner</td>\n      <td>3</td>\n    </tr>\n    <tr>\n      <th>240</th>\n      <td>27.18</td>\n      <td>2.00</td>\n      <td>Female</td>\n      <td>Yes</td>\n      <td>Sat</td>\n      <td>Dinner</td>\n      <td>2</td>\n    </tr>\n    <tr>\n      <th>241</th>\n      <td>22.67</td>\n      <td>2.00</td>\n      <td>Male</td>\n      <td>Yes</td>\n      <td>Sat</td>\n      <td>Dinner</td>\n      <td>2</td>\n    </tr>\n    <tr>\n      <th>242</th>\n      <td>17.82</td>\n      <td>1.75</td>\n      <td>Male</td>\n      <td>No</td>\n      <td>Sat</td>\n      <td>Dinner</td>\n      <td>2</td>\n    </tr>\n    <tr>\n      <th>243</th>\n      <td>18.78</td>\n      <td>3.00</td>\n      <td>Female</td>\n      <td>No</td>\n      <td>Thur</td>\n      <td>Dinner</td>\n      <td>2</td>\n    </tr>\n  </tbody>\n</table>\n<p>244 rows × 7 columns</p>\n</div>"
     },
     "metadata": {},
     "execution_count": 3
    }
   ],
   "metadata": {},
   "execution_count": 3
  },
  {
   "source": [
    "print(px.data.carshare.__doc__)\n",
    "px.data.carshare()"
   ],
   "cell_type": "code",
   "outputs": [
    {
     "output_type": "stream",
     "name": "stdout",
     "text": "\nEach row represents the availability of car-sharing services near the centroid of a zone\nin Montreal.\n\nReturns:\n    A `pandas.DataFrame` with 249 rows and the following columns:\n    `['centroid_lat', 'centroid_lon', 'car_hours', 'peak_hour']`.\n\n"
    },
    {
     "output_type": "execute_result",
     "data": {
      "text/plain": "     centroid_lat  centroid_lon    car_hours  peak_hour\n0       45.471549    -73.588684  1772.750000          2\n1       45.543865    -73.562456   986.333333         23\n2       45.487640    -73.642767   354.750000         20\n3       45.522870    -73.595677   560.166667         23\n4       45.453971    -73.738946  2836.666667         19\n..            ...           ...          ...        ...\n244     45.547171    -73.556258   951.416667          3\n245     45.546482    -73.574939   795.416667          2\n246     45.495523    -73.627725   425.750000          8\n247     45.521199    -73.581789  1044.833333         17\n248     45.532564    -73.567535   694.916667          5\n\n[249 rows x 4 columns]",
      "text/html": "<div>\n<style scoped>\n    .dataframe tbody tr th:only-of-type {\n        vertical-align: middle;\n    }\n\n    .dataframe tbody tr th {\n        vertical-align: top;\n    }\n\n    .dataframe thead th {\n        text-align: right;\n    }\n</style>\n<table border=\"1\" class=\"dataframe\">\n  <thead>\n    <tr style=\"text-align: right;\">\n      <th></th>\n      <th>centroid_lat</th>\n      <th>centroid_lon</th>\n      <th>car_hours</th>\n      <th>peak_hour</th>\n    </tr>\n  </thead>\n  <tbody>\n    <tr>\n      <th>0</th>\n      <td>45.471549</td>\n      <td>-73.588684</td>\n      <td>1772.750000</td>\n      <td>2</td>\n    </tr>\n    <tr>\n      <th>1</th>\n      <td>45.543865</td>\n      <td>-73.562456</td>\n      <td>986.333333</td>\n      <td>23</td>\n    </tr>\n    <tr>\n      <th>2</th>\n      <td>45.487640</td>\n      <td>-73.642767</td>\n      <td>354.750000</td>\n      <td>20</td>\n    </tr>\n    <tr>\n      <th>3</th>\n      <td>45.522870</td>\n      <td>-73.595677</td>\n      <td>560.166667</td>\n      <td>23</td>\n    </tr>\n    <tr>\n      <th>4</th>\n      <td>45.453971</td>\n      <td>-73.738946</td>\n      <td>2836.666667</td>\n      <td>19</td>\n    </tr>\n    <tr>\n      <th>...</th>\n      <td>...</td>\n      <td>...</td>\n      <td>...</td>\n      <td>...</td>\n    </tr>\n    <tr>\n      <th>244</th>\n      <td>45.547171</td>\n      <td>-73.556258</td>\n      <td>951.416667</td>\n      <td>3</td>\n    </tr>\n    <tr>\n      <th>245</th>\n      <td>45.546482</td>\n      <td>-73.574939</td>\n      <td>795.416667</td>\n      <td>2</td>\n    </tr>\n    <tr>\n      <th>246</th>\n      <td>45.495523</td>\n      <td>-73.627725</td>\n      <td>425.750000</td>\n      <td>8</td>\n    </tr>\n    <tr>\n      <th>247</th>\n      <td>45.521199</td>\n      <td>-73.581789</td>\n      <td>1044.833333</td>\n      <td>17</td>\n    </tr>\n    <tr>\n      <th>248</th>\n      <td>45.532564</td>\n      <td>-73.567535</td>\n      <td>694.916667</td>\n      <td>5</td>\n    </tr>\n  </tbody>\n</table>\n<p>249 rows × 4 columns</p>\n</div>"
     },
     "metadata": {},
     "execution_count": 4
    }
   ],
   "metadata": {},
   "execution_count": 4
  }
 ]
}