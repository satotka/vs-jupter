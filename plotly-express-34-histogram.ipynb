{
 "nbformat": 4,
 "nbformat_minor": 2,
 "metadata": {
  "language_info": {
   "name": "python",
   "codemirror_mode": {
    "name": "ipython",
    "version": 3
   },
   "version": "3.7.4-final"
  },
  "orig_nbformat": 2,
  "file_extension": ".py",
  "mimetype": "text/x-python",
  "name": "python",
  "npconvert_exporter": "python",
  "pygments_lexer": "ipython3",
  "version": 3,
  "kernelspec": {
   "name": "python37464bitvenvvenv7c84bf66d1c3488bbf5f4c87725ef740",
   "display_name": "Python 3.7.4 64-bit ('venv': venv)"
  }
 },
 "cells": [
  {
   "cell_type": "code",
   "execution_count": 11,
   "metadata": {},
   "outputs": [
    {
     "data": {
      "application/vnd.plotly.v1+json": {
       "config": {
        "plotlyServerURL": "https://plot.ly"
       },
       "data": [
        {
         "alignmentgroup": "True",
         "bingroup": "x",
         "hoverlabel": {
          "namelength": 0
         },
         "hovertemplate": "sex=Female<br>total_bill=%{x}<br>count=%{y}",
         "legendgroup": "Female",
         "marker": {
          "color": "#636efa"
         },
         "name": "Female",
         "offsetgroup": "Female",
         "orientation": "v",
         "showlegend": true,
         "type": "histogram",
         "x": [
          16.99,
          24.59,
          35.26,
          14.83,
          10.33,
          16.97,
          20.29,
          15.77,
          19.65,
          15.06,
          20.69,
          16.93,
          10.29,
          34.81,
          26.41,
          16.45,
          3.07,
          17.07,
          26.86,
          25.28,
          14.73,
          10.07,
          34.83,
          5.75,
          16.32,
          22.75,
          11.35,
          15.38,
          44.3,
          22.42,
          20.92,
          14.31,
          7.25,
          25.71,
          17.31,
          10.65,
          12.43,
          24.08,
          13.42,
          12.48,
          29.8,
          14.52,
          11.38,
          20.27,
          11.17,
          12.26,
          18.26,
          8.51,
          10.33,
          14.15,
          13.16,
          17.47,
          27.05,
          16.43,
          8.35,
          18.64,
          11.87,
          29.85,
          25,
          13.39,
          16.21,
          17.51,
          10.59,
          10.63,
          9.6,
          20.9,
          18.15,
          19.81,
          43.11,
          13,
          12.74,
          13,
          16.4,
          16.47,
          12.76,
          13.27,
          28.17,
          12.9,
          30.14,
          13.42,
          15.98,
          16.27,
          10.09,
          22.12,
          35.83,
          27.18,
          18.78
         ],
         "xaxis": "x",
         "yaxis": "y"
        },
        {
         "alignmentgroup": "True",
         "boxpoints": "all",
         "customdata": [
          [
           16.99,
           1.01,
           "Female",
           "No",
           "Sun",
           "Dinner",
           2
          ],
          [
           24.59,
           3.61,
           "Female",
           "No",
           "Sun",
           "Dinner",
           4
          ],
          [
           35.26,
           5,
           "Female",
           "No",
           "Sun",
           "Dinner",
           4
          ],
          [
           14.83,
           3.02,
           "Female",
           "No",
           "Sun",
           "Dinner",
           2
          ],
          [
           10.33,
           1.67,
           "Female",
           "No",
           "Sun",
           "Dinner",
           3
          ],
          [
           16.97,
           3.5,
           "Female",
           "No",
           "Sun",
           "Dinner",
           3
          ],
          [
           20.29,
           2.75,
           "Female",
           "No",
           "Sat",
           "Dinner",
           2
          ],
          [
           15.77,
           2.23,
           "Female",
           "No",
           "Sat",
           "Dinner",
           2
          ],
          [
           19.65,
           3,
           "Female",
           "No",
           "Sat",
           "Dinner",
           2
          ],
          [
           15.06,
           3,
           "Female",
           "No",
           "Sat",
           "Dinner",
           2
          ],
          [
           20.69,
           2.45,
           "Female",
           "No",
           "Sat",
           "Dinner",
           4
          ],
          [
           16.93,
           3.07,
           "Female",
           "No",
           "Sat",
           "Dinner",
           3
          ],
          [
           10.29,
           2.6,
           "Female",
           "No",
           "Sun",
           "Dinner",
           2
          ],
          [
           34.81,
           5.2,
           "Female",
           "No",
           "Sun",
           "Dinner",
           4
          ],
          [
           26.41,
           1.5,
           "Female",
           "No",
           "Sat",
           "Dinner",
           2
          ],
          [
           16.45,
           2.47,
           "Female",
           "No",
           "Sat",
           "Dinner",
           2
          ],
          [
           3.07,
           1,
           "Female",
           "Yes",
           "Sat",
           "Dinner",
           1
          ],
          [
           17.07,
           3,
           "Female",
           "No",
           "Sat",
           "Dinner",
           3
          ],
          [
           26.86,
           3.14,
           "Female",
           "Yes",
           "Sat",
           "Dinner",
           2
          ],
          [
           25.28,
           5,
           "Female",
           "Yes",
           "Sat",
           "Dinner",
           2
          ],
          [
           14.73,
           2.2,
           "Female",
           "No",
           "Sat",
           "Dinner",
           2
          ],
          [
           10.07,
           1.83,
           "Female",
           "No",
           "Thur",
           "Lunch",
           1
          ],
          [
           34.83,
           5.17,
           "Female",
           "No",
           "Thur",
           "Lunch",
           4
          ],
          [
           5.75,
           1,
           "Female",
           "Yes",
           "Fri",
           "Dinner",
           2
          ],
          [
           16.32,
           4.3,
           "Female",
           "Yes",
           "Fri",
           "Dinner",
           2
          ],
          [
           22.75,
           3.25,
           "Female",
           "No",
           "Fri",
           "Dinner",
           2
          ],
          [
           11.35,
           2.5,
           "Female",
           "Yes",
           "Fri",
           "Dinner",
           2
          ],
          [
           15.38,
           3,
           "Female",
           "Yes",
           "Fri",
           "Dinner",
           2
          ],
          [
           44.3,
           2.5,
           "Female",
           "Yes",
           "Sat",
           "Dinner",
           3
          ],
          [
           22.42,
           3.48,
           "Female",
           "Yes",
           "Sat",
           "Dinner",
           2
          ],
          [
           20.92,
           4.08,
           "Female",
           "No",
           "Sat",
           "Dinner",
           2
          ],
          [
           14.31,
           4,
           "Female",
           "Yes",
           "Sat",
           "Dinner",
           2
          ],
          [
           7.25,
           1,
           "Female",
           "No",
           "Sat",
           "Dinner",
           1
          ],
          [
           25.71,
           4,
           "Female",
           "No",
           "Sun",
           "Dinner",
           3
          ],
          [
           17.31,
           3.5,
           "Female",
           "No",
           "Sun",
           "Dinner",
           2
          ],
          [
           10.65,
           1.5,
           "Female",
           "No",
           "Thur",
           "Lunch",
           2
          ],
          [
           12.43,
           1.8,
           "Female",
           "No",
           "Thur",
           "Lunch",
           2
          ],
          [
           24.08,
           2.92,
           "Female",
           "No",
           "Thur",
           "Lunch",
           4
          ],
          [
           13.42,
           1.68,
           "Female",
           "No",
           "Thur",
           "Lunch",
           2
          ],
          [
           12.48,
           2.52,
           "Female",
           "No",
           "Thur",
           "Lunch",
           2
          ],
          [
           29.8,
           4.2,
           "Female",
           "No",
           "Thur",
           "Lunch",
           6
          ],
          [
           14.52,
           2,
           "Female",
           "No",
           "Thur",
           "Lunch",
           2
          ],
          [
           11.38,
           2,
           "Female",
           "No",
           "Thur",
           "Lunch",
           2
          ],
          [
           20.27,
           2.83,
           "Female",
           "No",
           "Thur",
           "Lunch",
           2
          ],
          [
           11.17,
           1.5,
           "Female",
           "No",
           "Thur",
           "Lunch",
           2
          ],
          [
           12.26,
           2,
           "Female",
           "No",
           "Thur",
           "Lunch",
           2
          ],
          [
           18.26,
           3.25,
           "Female",
           "No",
           "Thur",
           "Lunch",
           2
          ],
          [
           8.51,
           1.25,
           "Female",
           "No",
           "Thur",
           "Lunch",
           2
          ],
          [
           10.33,
           2,
           "Female",
           "No",
           "Thur",
           "Lunch",
           2
          ],
          [
           14.15,
           2,
           "Female",
           "No",
           "Thur",
           "Lunch",
           2
          ],
          [
           13.16,
           2.75,
           "Female",
           "No",
           "Thur",
           "Lunch",
           2
          ],
          [
           17.47,
           3.5,
           "Female",
           "No",
           "Thur",
           "Lunch",
           2
          ],
          [
           27.05,
           5,
           "Female",
           "No",
           "Thur",
           "Lunch",
           6
          ],
          [
           16.43,
           2.3,
           "Female",
           "No",
           "Thur",
           "Lunch",
           2
          ],
          [
           8.35,
           1.5,
           "Female",
           "No",
           "Thur",
           "Lunch",
           2
          ],
          [
           18.64,
           1.36,
           "Female",
           "No",
           "Thur",
           "Lunch",
           3
          ],
          [
           11.87,
           1.63,
           "Female",
           "No",
           "Thur",
           "Lunch",
           2
          ],
          [
           29.85,
           5.14,
           "Female",
           "No",
           "Sun",
           "Dinner",
           5
          ],
          [
           25,
           3.75,
           "Female",
           "No",
           "Sun",
           "Dinner",
           4
          ],
          [
           13.39,
           2.61,
           "Female",
           "No",
           "Sun",
           "Dinner",
           2
          ],
          [
           16.21,
           2,
           "Female",
           "No",
           "Sun",
           "Dinner",
           3
          ],
          [
           17.51,
           3,
           "Female",
           "Yes",
           "Sun",
           "Dinner",
           2
          ],
          [
           10.59,
           1.61,
           "Female",
           "Yes",
           "Sat",
           "Dinner",
           2
          ],
          [
           10.63,
           2,
           "Female",
           "Yes",
           "Sat",
           "Dinner",
           2
          ],
          [
           9.6,
           4,
           "Female",
           "Yes",
           "Sun",
           "Dinner",
           2
          ],
          [
           20.9,
           3.5,
           "Female",
           "Yes",
           "Sun",
           "Dinner",
           3
          ],
          [
           18.15,
           3.5,
           "Female",
           "Yes",
           "Sun",
           "Dinner",
           3
          ],
          [
           19.81,
           4.19,
           "Female",
           "Yes",
           "Thur",
           "Lunch",
           2
          ],
          [
           43.11,
           5,
           "Female",
           "Yes",
           "Thur",
           "Lunch",
           4
          ],
          [
           13,
           2,
           "Female",
           "Yes",
           "Thur",
           "Lunch",
           2
          ],
          [
           12.74,
           2.01,
           "Female",
           "Yes",
           "Thur",
           "Lunch",
           2
          ],
          [
           13,
           2,
           "Female",
           "Yes",
           "Thur",
           "Lunch",
           2
          ],
          [
           16.4,
           2.5,
           "Female",
           "Yes",
           "Thur",
           "Lunch",
           2
          ],
          [
           16.47,
           3.23,
           "Female",
           "Yes",
           "Thur",
           "Lunch",
           3
          ],
          [
           12.76,
           2.23,
           "Female",
           "Yes",
           "Sat",
           "Dinner",
           2
          ],
          [
           13.27,
           2.5,
           "Female",
           "Yes",
           "Sat",
           "Dinner",
           2
          ],
          [
           28.17,
           6.5,
           "Female",
           "Yes",
           "Sat",
           "Dinner",
           3
          ],
          [
           12.9,
           1.1,
           "Female",
           "Yes",
           "Sat",
           "Dinner",
           2
          ],
          [
           30.14,
           3.09,
           "Female",
           "Yes",
           "Sat",
           "Dinner",
           4
          ],
          [
           13.42,
           3.48,
           "Female",
           "Yes",
           "Fri",
           "Lunch",
           2
          ],
          [
           15.98,
           3,
           "Female",
           "No",
           "Fri",
           "Lunch",
           3
          ],
          [
           16.27,
           2.5,
           "Female",
           "Yes",
           "Fri",
           "Lunch",
           2
          ],
          [
           10.09,
           2,
           "Female",
           "Yes",
           "Fri",
           "Lunch",
           2
          ],
          [
           22.12,
           2.88,
           "Female",
           "Yes",
           "Sat",
           "Dinner",
           2
          ],
          [
           35.83,
           4.67,
           "Female",
           "No",
           "Sat",
           "Dinner",
           3
          ],
          [
           27.18,
           2,
           "Female",
           "Yes",
           "Sat",
           "Dinner",
           2
          ],
          [
           18.78,
           3,
           "Female",
           "No",
           "Thur",
           "Dinner",
           2
          ]
         ],
         "fillcolor": "rgba(255,255,255,0)",
         "hoverlabel": {
          "namelength": 0
         },
         "hoveron": "points",
         "hovertemplate": "sex=%{customdata[2]}<br>total_bill=%{customdata[0]}<br>tip=%{customdata[1]}<br>smoker=%{customdata[3]}<br>day=%{customdata[4]}<br>time=%{customdata[5]}<br>size=%{customdata[6]}",
         "jitter": 0,
         "legendgroup": "Female",
         "line": {
          "color": "rgba(255,255,255,0)"
         },
         "marker": {
          "color": "#636efa",
          "symbol": "line-ns-open"
         },
         "name": "Female",
         "offsetgroup": "Female",
         "showlegend": false,
         "type": "box",
         "x": [
          16.99,
          24.59,
          35.26,
          14.83,
          10.33,
          16.97,
          20.29,
          15.77,
          19.65,
          15.06,
          20.69,
          16.93,
          10.29,
          34.81,
          26.41,
          16.45,
          3.07,
          17.07,
          26.86,
          25.28,
          14.73,
          10.07,
          34.83,
          5.75,
          16.32,
          22.75,
          11.35,
          15.38,
          44.3,
          22.42,
          20.92,
          14.31,
          7.25,
          25.71,
          17.31,
          10.65,
          12.43,
          24.08,
          13.42,
          12.48,
          29.8,
          14.52,
          11.38,
          20.27,
          11.17,
          12.26,
          18.26,
          8.51,
          10.33,
          14.15,
          13.16,
          17.47,
          27.05,
          16.43,
          8.35,
          18.64,
          11.87,
          29.85,
          25,
          13.39,
          16.21,
          17.51,
          10.59,
          10.63,
          9.6,
          20.9,
          18.15,
          19.81,
          43.11,
          13,
          12.74,
          13,
          16.4,
          16.47,
          12.76,
          13.27,
          28.17,
          12.9,
          30.14,
          13.42,
          15.98,
          16.27,
          10.09,
          22.12,
          35.83,
          27.18,
          18.78
         ],
         "xaxis": "x2",
         "yaxis": "y2"
        },
        {
         "alignmentgroup": "True",
         "bingroup": "x",
         "hoverlabel": {
          "namelength": 0
         },
         "hovertemplate": "sex=Male<br>total_bill=%{x}<br>count=%{y}",
         "legendgroup": "Male",
         "marker": {
          "color": "#EF553B"
         },
         "name": "Male",
         "offsetgroup": "Male",
         "orientation": "v",
         "showlegend": true,
         "type": "histogram",
         "x": [
          10.34,
          21.01,
          23.68,
          25.29,
          8.77,
          26.88,
          15.04,
          14.78,
          10.27,
          15.42,
          18.43,
          21.58,
          16.29,
          20.65,
          17.92,
          39.42,
          19.82,
          17.81,
          13.37,
          12.69,
          21.7,
          9.55,
          18.35,
          17.78,
          24.06,
          16.31,
          18.69,
          31.27,
          16.04,
          17.46,
          13.94,
          9.68,
          30.4,
          18.29,
          22.23,
          32.4,
          28.55,
          18.04,
          12.54,
          9.94,
          25.56,
          19.49,
          38.01,
          11.24,
          48.27,
          20.29,
          13.81,
          11.02,
          18.29,
          17.59,
          20.08,
          20.23,
          15.01,
          12.02,
          10.51,
          17.92,
          27.2,
          22.76,
          17.29,
          19.44,
          16.66,
          32.68,
          15.98,
          13.03,
          18.28,
          24.71,
          21.16,
          28.97,
          22.49,
          40.17,
          27.28,
          12.03,
          21.01,
          12.46,
          15.36,
          20.49,
          25.21,
          18.24,
          14,
          38.07,
          23.95,
          29.93,
          11.69,
          14.26,
          15.95,
          8.52,
          22.82,
          19.08,
          16,
          34.3,
          41.19,
          9.78,
          7.51,
          14.07,
          13.13,
          17.26,
          24.55,
          19.77,
          48.17,
          16.49,
          21.5,
          12.66,
          13.81,
          24.52,
          20.76,
          31.71,
          50.81,
          15.81,
          7.25,
          31.85,
          16.82,
          32.9,
          17.89,
          14.48,
          34.63,
          34.65,
          23.33,
          45.35,
          23.17,
          40.55,
          20.69,
          30.46,
          23.1,
          15.69,
          28.44,
          15.48,
          16.58,
          7.56,
          10.34,
          13.51,
          18.71,
          20.53,
          26.59,
          38.73,
          24.27,
          30.06,
          25.89,
          48.33,
          28.15,
          11.59,
          7.74,
          12.16,
          8.58,
          13.42,
          20.45,
          13.28,
          24.01,
          15.69,
          11.61,
          10.77,
          15.53,
          10.07,
          12.6,
          32.83,
          29.03,
          22.67,
          17.82
         ],
         "xaxis": "x",
         "yaxis": "y"
        },
        {
         "alignmentgroup": "True",
         "boxpoints": "all",
         "customdata": [
          [
           10.34,
           1.66,
           "Male",
           "No",
           "Sun",
           "Dinner",
           3
          ],
          [
           21.01,
           3.5,
           "Male",
           "No",
           "Sun",
           "Dinner",
           3
          ],
          [
           23.68,
           3.31,
           "Male",
           "No",
           "Sun",
           "Dinner",
           2
          ],
          [
           25.29,
           4.71,
           "Male",
           "No",
           "Sun",
           "Dinner",
           4
          ],
          [
           8.77,
           2,
           "Male",
           "No",
           "Sun",
           "Dinner",
           2
          ],
          [
           26.88,
           3.12,
           "Male",
           "No",
           "Sun",
           "Dinner",
           4
          ],
          [
           15.04,
           1.96,
           "Male",
           "No",
           "Sun",
           "Dinner",
           2
          ],
          [
           14.78,
           3.23,
           "Male",
           "No",
           "Sun",
           "Dinner",
           2
          ],
          [
           10.27,
           1.71,
           "Male",
           "No",
           "Sun",
           "Dinner",
           2
          ],
          [
           15.42,
           1.57,
           "Male",
           "No",
           "Sun",
           "Dinner",
           2
          ],
          [
           18.43,
           3,
           "Male",
           "No",
           "Sun",
           "Dinner",
           4
          ],
          [
           21.58,
           3.92,
           "Male",
           "No",
           "Sun",
           "Dinner",
           2
          ],
          [
           16.29,
           3.71,
           "Male",
           "No",
           "Sun",
           "Dinner",
           3
          ],
          [
           20.65,
           3.35,
           "Male",
           "No",
           "Sat",
           "Dinner",
           3
          ],
          [
           17.92,
           4.08,
           "Male",
           "No",
           "Sat",
           "Dinner",
           2
          ],
          [
           39.42,
           7.58,
           "Male",
           "No",
           "Sat",
           "Dinner",
           4
          ],
          [
           19.82,
           3.18,
           "Male",
           "No",
           "Sat",
           "Dinner",
           2
          ],
          [
           17.81,
           2.34,
           "Male",
           "No",
           "Sat",
           "Dinner",
           4
          ],
          [
           13.37,
           2,
           "Male",
           "No",
           "Sat",
           "Dinner",
           2
          ],
          [
           12.69,
           2,
           "Male",
           "No",
           "Sat",
           "Dinner",
           2
          ],
          [
           21.7,
           4.3,
           "Male",
           "No",
           "Sat",
           "Dinner",
           2
          ],
          [
           9.55,
           1.45,
           "Male",
           "No",
           "Sat",
           "Dinner",
           2
          ],
          [
           18.35,
           2.5,
           "Male",
           "No",
           "Sat",
           "Dinner",
           4
          ],
          [
           17.78,
           3.27,
           "Male",
           "No",
           "Sat",
           "Dinner",
           2
          ],
          [
           24.06,
           3.6,
           "Male",
           "No",
           "Sat",
           "Dinner",
           3
          ],
          [
           16.31,
           2,
           "Male",
           "No",
           "Sat",
           "Dinner",
           3
          ],
          [
           18.69,
           2.31,
           "Male",
           "No",
           "Sat",
           "Dinner",
           3
          ],
          [
           31.27,
           5,
           "Male",
           "No",
           "Sat",
           "Dinner",
           3
          ],
          [
           16.04,
           2.24,
           "Male",
           "No",
           "Sat",
           "Dinner",
           3
          ],
          [
           17.46,
           2.54,
           "Male",
           "No",
           "Sun",
           "Dinner",
           2
          ],
          [
           13.94,
           3.06,
           "Male",
           "No",
           "Sun",
           "Dinner",
           2
          ],
          [
           9.68,
           1.32,
           "Male",
           "No",
           "Sun",
           "Dinner",
           2
          ],
          [
           30.4,
           5.6,
           "Male",
           "No",
           "Sun",
           "Dinner",
           4
          ],
          [
           18.29,
           3,
           "Male",
           "No",
           "Sun",
           "Dinner",
           2
          ],
          [
           22.23,
           5,
           "Male",
           "No",
           "Sun",
           "Dinner",
           2
          ],
          [
           32.4,
           6,
           "Male",
           "No",
           "Sun",
           "Dinner",
           4
          ],
          [
           28.55,
           2.05,
           "Male",
           "No",
           "Sun",
           "Dinner",
           3
          ],
          [
           18.04,
           3,
           "Male",
           "No",
           "Sun",
           "Dinner",
           2
          ],
          [
           12.54,
           2.5,
           "Male",
           "No",
           "Sun",
           "Dinner",
           2
          ],
          [
           9.94,
           1.56,
           "Male",
           "No",
           "Sun",
           "Dinner",
           2
          ],
          [
           25.56,
           4.34,
           "Male",
           "No",
           "Sun",
           "Dinner",
           4
          ],
          [
           19.49,
           3.51,
           "Male",
           "No",
           "Sun",
           "Dinner",
           2
          ],
          [
           38.01,
           3,
           "Male",
           "Yes",
           "Sat",
           "Dinner",
           4
          ],
          [
           11.24,
           1.76,
           "Male",
           "Yes",
           "Sat",
           "Dinner",
           2
          ],
          [
           48.27,
           6.73,
           "Male",
           "No",
           "Sat",
           "Dinner",
           4
          ],
          [
           20.29,
           3.21,
           "Male",
           "Yes",
           "Sat",
           "Dinner",
           2
          ],
          [
           13.81,
           2,
           "Male",
           "Yes",
           "Sat",
           "Dinner",
           2
          ],
          [
           11.02,
           1.98,
           "Male",
           "Yes",
           "Sat",
           "Dinner",
           2
          ],
          [
           18.29,
           3.76,
           "Male",
           "Yes",
           "Sat",
           "Dinner",
           4
          ],
          [
           17.59,
           2.64,
           "Male",
           "No",
           "Sat",
           "Dinner",
           3
          ],
          [
           20.08,
           3.15,
           "Male",
           "No",
           "Sat",
           "Dinner",
           3
          ],
          [
           20.23,
           2.01,
           "Male",
           "No",
           "Sat",
           "Dinner",
           2
          ],
          [
           15.01,
           2.09,
           "Male",
           "Yes",
           "Sat",
           "Dinner",
           2
          ],
          [
           12.02,
           1.97,
           "Male",
           "No",
           "Sat",
           "Dinner",
           2
          ],
          [
           10.51,
           1.25,
           "Male",
           "No",
           "Sat",
           "Dinner",
           2
          ],
          [
           17.92,
           3.08,
           "Male",
           "Yes",
           "Sat",
           "Dinner",
           2
          ],
          [
           27.2,
           4,
           "Male",
           "No",
           "Thur",
           "Lunch",
           4
          ],
          [
           22.76,
           3,
           "Male",
           "No",
           "Thur",
           "Lunch",
           2
          ],
          [
           17.29,
           2.71,
           "Male",
           "No",
           "Thur",
           "Lunch",
           2
          ],
          [
           19.44,
           3,
           "Male",
           "Yes",
           "Thur",
           "Lunch",
           2
          ],
          [
           16.66,
           3.4,
           "Male",
           "No",
           "Thur",
           "Lunch",
           2
          ],
          [
           32.68,
           5,
           "Male",
           "Yes",
           "Thur",
           "Lunch",
           2
          ],
          [
           15.98,
           2.03,
           "Male",
           "No",
           "Thur",
           "Lunch",
           2
          ],
          [
           13.03,
           2,
           "Male",
           "No",
           "Thur",
           "Lunch",
           2
          ],
          [
           18.28,
           4,
           "Male",
           "No",
           "Thur",
           "Lunch",
           2
          ],
          [
           24.71,
           5.85,
           "Male",
           "No",
           "Thur",
           "Lunch",
           2
          ],
          [
           21.16,
           3,
           "Male",
           "No",
           "Thur",
           "Lunch",
           2
          ],
          [
           28.97,
           3,
           "Male",
           "Yes",
           "Fri",
           "Dinner",
           2
          ],
          [
           22.49,
           3.5,
           "Male",
           "No",
           "Fri",
           "Dinner",
           2
          ],
          [
           40.17,
           4.73,
           "Male",
           "Yes",
           "Fri",
           "Dinner",
           4
          ],
          [
           27.28,
           4,
           "Male",
           "Yes",
           "Fri",
           "Dinner",
           2
          ],
          [
           12.03,
           1.5,
           "Male",
           "Yes",
           "Fri",
           "Dinner",
           2
          ],
          [
           21.01,
           3,
           "Male",
           "Yes",
           "Fri",
           "Dinner",
           2
          ],
          [
           12.46,
           1.5,
           "Male",
           "No",
           "Fri",
           "Dinner",
           2
          ],
          [
           15.36,
           1.64,
           "Male",
           "Yes",
           "Sat",
           "Dinner",
           2
          ],
          [
           20.49,
           4.06,
           "Male",
           "Yes",
           "Sat",
           "Dinner",
           2
          ],
          [
           25.21,
           4.29,
           "Male",
           "Yes",
           "Sat",
           "Dinner",
           2
          ],
          [
           18.24,
           3.76,
           "Male",
           "No",
           "Sat",
           "Dinner",
           2
          ],
          [
           14,
           3,
           "Male",
           "No",
           "Sat",
           "Dinner",
           2
          ],
          [
           38.07,
           4,
           "Male",
           "No",
           "Sun",
           "Dinner",
           3
          ],
          [
           23.95,
           2.55,
           "Male",
           "No",
           "Sun",
           "Dinner",
           2
          ],
          [
           29.93,
           5.07,
           "Male",
           "No",
           "Sun",
           "Dinner",
           4
          ],
          [
           11.69,
           2.31,
           "Male",
           "No",
           "Thur",
           "Lunch",
           2
          ],
          [
           14.26,
           2.5,
           "Male",
           "No",
           "Thur",
           "Lunch",
           2
          ],
          [
           15.95,
           2,
           "Male",
           "No",
           "Thur",
           "Lunch",
           2
          ],
          [
           8.52,
           1.48,
           "Male",
           "No",
           "Thur",
           "Lunch",
           2
          ],
          [
           22.82,
           2.18,
           "Male",
           "No",
           "Thur",
           "Lunch",
           3
          ],
          [
           19.08,
           1.5,
           "Male",
           "No",
           "Thur",
           "Lunch",
           2
          ],
          [
           16,
           2,
           "Male",
           "Yes",
           "Thur",
           "Lunch",
           2
          ],
          [
           34.3,
           6.7,
           "Male",
           "No",
           "Thur",
           "Lunch",
           6
          ],
          [
           41.19,
           5,
           "Male",
           "No",
           "Thur",
           "Lunch",
           5
          ],
          [
           9.78,
           1.73,
           "Male",
           "No",
           "Thur",
           "Lunch",
           2
          ],
          [
           7.51,
           2,
           "Male",
           "No",
           "Thur",
           "Lunch",
           2
          ],
          [
           14.07,
           2.5,
           "Male",
           "No",
           "Sun",
           "Dinner",
           2
          ],
          [
           13.13,
           2,
           "Male",
           "No",
           "Sun",
           "Dinner",
           2
          ],
          [
           17.26,
           2.74,
           "Male",
           "No",
           "Sun",
           "Dinner",
           3
          ],
          [
           24.55,
           2,
           "Male",
           "No",
           "Sun",
           "Dinner",
           4
          ],
          [
           19.77,
           2,
           "Male",
           "No",
           "Sun",
           "Dinner",
           4
          ],
          [
           48.17,
           5,
           "Male",
           "No",
           "Sun",
           "Dinner",
           6
          ],
          [
           16.49,
           2,
           "Male",
           "No",
           "Sun",
           "Dinner",
           4
          ],
          [
           21.5,
           3.5,
           "Male",
           "No",
           "Sun",
           "Dinner",
           4
          ],
          [
           12.66,
           2.5,
           "Male",
           "No",
           "Sun",
           "Dinner",
           2
          ],
          [
           13.81,
           2,
           "Male",
           "No",
           "Sun",
           "Dinner",
           2
          ],
          [
           24.52,
           3.48,
           "Male",
           "No",
           "Sun",
           "Dinner",
           3
          ],
          [
           20.76,
           2.24,
           "Male",
           "No",
           "Sun",
           "Dinner",
           2
          ],
          [
           31.71,
           4.5,
           "Male",
           "No",
           "Sun",
           "Dinner",
           4
          ],
          [
           50.81,
           10,
           "Male",
           "Yes",
           "Sat",
           "Dinner",
           3
          ],
          [
           15.81,
           3.16,
           "Male",
           "Yes",
           "Sat",
           "Dinner",
           2
          ],
          [
           7.25,
           5.15,
           "Male",
           "Yes",
           "Sun",
           "Dinner",
           2
          ],
          [
           31.85,
           3.18,
           "Male",
           "Yes",
           "Sun",
           "Dinner",
           2
          ],
          [
           16.82,
           4,
           "Male",
           "Yes",
           "Sun",
           "Dinner",
           2
          ],
          [
           32.9,
           3.11,
           "Male",
           "Yes",
           "Sun",
           "Dinner",
           2
          ],
          [
           17.89,
           2,
           "Male",
           "Yes",
           "Sun",
           "Dinner",
           2
          ],
          [
           14.48,
           2,
           "Male",
           "Yes",
           "Sun",
           "Dinner",
           2
          ],
          [
           34.63,
           3.55,
           "Male",
           "Yes",
           "Sun",
           "Dinner",
           2
          ],
          [
           34.65,
           3.68,
           "Male",
           "Yes",
           "Sun",
           "Dinner",
           4
          ],
          [
           23.33,
           5.65,
           "Male",
           "Yes",
           "Sun",
           "Dinner",
           2
          ],
          [
           45.35,
           3.5,
           "Male",
           "Yes",
           "Sun",
           "Dinner",
           3
          ],
          [
           23.17,
           6.5,
           "Male",
           "Yes",
           "Sun",
           "Dinner",
           4
          ],
          [
           40.55,
           3,
           "Male",
           "Yes",
           "Sun",
           "Dinner",
           2
          ],
          [
           20.69,
           5,
           "Male",
           "No",
           "Sun",
           "Dinner",
           5
          ],
          [
           30.46,
           2,
           "Male",
           "Yes",
           "Sun",
           "Dinner",
           5
          ],
          [
           23.1,
           4,
           "Male",
           "Yes",
           "Sun",
           "Dinner",
           3
          ],
          [
           15.69,
           1.5,
           "Male",
           "Yes",
           "Sun",
           "Dinner",
           2
          ],
          [
           28.44,
           2.56,
           "Male",
           "Yes",
           "Thur",
           "Lunch",
           2
          ],
          [
           15.48,
           2.02,
           "Male",
           "Yes",
           "Thur",
           "Lunch",
           2
          ],
          [
           16.58,
           4,
           "Male",
           "Yes",
           "Thur",
           "Lunch",
           2
          ],
          [
           7.56,
           1.44,
           "Male",
           "No",
           "Thur",
           "Lunch",
           2
          ],
          [
           10.34,
           2,
           "Male",
           "Yes",
           "Thur",
           "Lunch",
           2
          ],
          [
           13.51,
           2,
           "Male",
           "Yes",
           "Thur",
           "Lunch",
           2
          ],
          [
           18.71,
           4,
           "Male",
           "Yes",
           "Thur",
           "Lunch",
           3
          ],
          [
           20.53,
           4,
           "Male",
           "Yes",
           "Thur",
           "Lunch",
           4
          ],
          [
           26.59,
           3.41,
           "Male",
           "Yes",
           "Sat",
           "Dinner",
           3
          ],
          [
           38.73,
           3,
           "Male",
           "Yes",
           "Sat",
           "Dinner",
           4
          ],
          [
           24.27,
           2.03,
           "Male",
           "Yes",
           "Sat",
           "Dinner",
           2
          ],
          [
           30.06,
           2,
           "Male",
           "Yes",
           "Sat",
           "Dinner",
           3
          ],
          [
           25.89,
           5.16,
           "Male",
           "Yes",
           "Sat",
           "Dinner",
           4
          ],
          [
           48.33,
           9,
           "Male",
           "No",
           "Sat",
           "Dinner",
           4
          ],
          [
           28.15,
           3,
           "Male",
           "Yes",
           "Sat",
           "Dinner",
           5
          ],
          [
           11.59,
           1.5,
           "Male",
           "Yes",
           "Sat",
           "Dinner",
           2
          ],
          [
           7.74,
           1.44,
           "Male",
           "Yes",
           "Sat",
           "Dinner",
           2
          ],
          [
           12.16,
           2.2,
           "Male",
           "Yes",
           "Fri",
           "Lunch",
           2
          ],
          [
           8.58,
           1.92,
           "Male",
           "Yes",
           "Fri",
           "Lunch",
           1
          ],
          [
           13.42,
           1.58,
           "Male",
           "Yes",
           "Fri",
           "Lunch",
           2
          ],
          [
           20.45,
           3,
           "Male",
           "No",
           "Sat",
           "Dinner",
           4
          ],
          [
           13.28,
           2.72,
           "Male",
           "No",
           "Sat",
           "Dinner",
           2
          ],
          [
           24.01,
           2,
           "Male",
           "Yes",
           "Sat",
           "Dinner",
           4
          ],
          [
           15.69,
           3,
           "Male",
           "Yes",
           "Sat",
           "Dinner",
           3
          ],
          [
           11.61,
           3.39,
           "Male",
           "No",
           "Sat",
           "Dinner",
           2
          ],
          [
           10.77,
           1.47,
           "Male",
           "No",
           "Sat",
           "Dinner",
           2
          ],
          [
           15.53,
           3,
           "Male",
           "Yes",
           "Sat",
           "Dinner",
           2
          ],
          [
           10.07,
           1.25,
           "Male",
           "No",
           "Sat",
           "Dinner",
           2
          ],
          [
           12.6,
           1,
           "Male",
           "Yes",
           "Sat",
           "Dinner",
           2
          ],
          [
           32.83,
           1.17,
           "Male",
           "Yes",
           "Sat",
           "Dinner",
           2
          ],
          [
           29.03,
           5.92,
           "Male",
           "No",
           "Sat",
           "Dinner",
           3
          ],
          [
           22.67,
           2,
           "Male",
           "Yes",
           "Sat",
           "Dinner",
           2
          ],
          [
           17.82,
           1.75,
           "Male",
           "No",
           "Sat",
           "Dinner",
           2
          ]
         ],
         "fillcolor": "rgba(255,255,255,0)",
         "hoverlabel": {
          "namelength": 0
         },
         "hoveron": "points",
         "hovertemplate": "sex=%{customdata[2]}<br>total_bill=%{customdata[0]}<br>tip=%{customdata[1]}<br>smoker=%{customdata[3]}<br>day=%{customdata[4]}<br>time=%{customdata[5]}<br>size=%{customdata[6]}",
         "jitter": 0,
         "legendgroup": "Male",
         "line": {
          "color": "rgba(255,255,255,0)"
         },
         "marker": {
          "color": "#EF553B",
          "symbol": "line-ns-open"
         },
         "name": "Male",
         "offsetgroup": "Male",
         "showlegend": false,
         "type": "box",
         "x": [
          10.34,
          21.01,
          23.68,
          25.29,
          8.77,
          26.88,
          15.04,
          14.78,
          10.27,
          15.42,
          18.43,
          21.58,
          16.29,
          20.65,
          17.92,
          39.42,
          19.82,
          17.81,
          13.37,
          12.69,
          21.7,
          9.55,
          18.35,
          17.78,
          24.06,
          16.31,
          18.69,
          31.27,
          16.04,
          17.46,
          13.94,
          9.68,
          30.4,
          18.29,
          22.23,
          32.4,
          28.55,
          18.04,
          12.54,
          9.94,
          25.56,
          19.49,
          38.01,
          11.24,
          48.27,
          20.29,
          13.81,
          11.02,
          18.29,
          17.59,
          20.08,
          20.23,
          15.01,
          12.02,
          10.51,
          17.92,
          27.2,
          22.76,
          17.29,
          19.44,
          16.66,
          32.68,
          15.98,
          13.03,
          18.28,
          24.71,
          21.16,
          28.97,
          22.49,
          40.17,
          27.28,
          12.03,
          21.01,
          12.46,
          15.36,
          20.49,
          25.21,
          18.24,
          14,
          38.07,
          23.95,
          29.93,
          11.69,
          14.26,
          15.95,
          8.52,
          22.82,
          19.08,
          16,
          34.3,
          41.19,
          9.78,
          7.51,
          14.07,
          13.13,
          17.26,
          24.55,
          19.77,
          48.17,
          16.49,
          21.5,
          12.66,
          13.81,
          24.52,
          20.76,
          31.71,
          50.81,
          15.81,
          7.25,
          31.85,
          16.82,
          32.9,
          17.89,
          14.48,
          34.63,
          34.65,
          23.33,
          45.35,
          23.17,
          40.55,
          20.69,
          30.46,
          23.1,
          15.69,
          28.44,
          15.48,
          16.58,
          7.56,
          10.34,
          13.51,
          18.71,
          20.53,
          26.59,
          38.73,
          24.27,
          30.06,
          25.89,
          48.33,
          28.15,
          11.59,
          7.74,
          12.16,
          8.58,
          13.42,
          20.45,
          13.28,
          24.01,
          15.69,
          11.61,
          10.77,
          15.53,
          10.07,
          12.6,
          32.83,
          29.03,
          22.67,
          17.82
         ],
         "xaxis": "x2",
         "yaxis": "y2"
        }
       ],
       "layout": {
        "barmode": "relative",
        "legend": {
         "title": {
          "text": "sex"
         },
         "tracegroupgap": 0
        },
        "margin": {
         "t": 60
        },
        "template": {
         "data": {
          "bar": [
           {
            "error_x": {
             "color": "#2a3f5f"
            },
            "error_y": {
             "color": "#2a3f5f"
            },
            "marker": {
             "line": {
              "color": "#E5ECF6",
              "width": 0.5
             }
            },
            "type": "bar"
           }
          ],
          "barpolar": [
           {
            "marker": {
             "line": {
              "color": "#E5ECF6",
              "width": 0.5
             }
            },
            "type": "barpolar"
           }
          ],
          "carpet": [
           {
            "aaxis": {
             "endlinecolor": "#2a3f5f",
             "gridcolor": "white",
             "linecolor": "white",
             "minorgridcolor": "white",
             "startlinecolor": "#2a3f5f"
            },
            "baxis": {
             "endlinecolor": "#2a3f5f",
             "gridcolor": "white",
             "linecolor": "white",
             "minorgridcolor": "white",
             "startlinecolor": "#2a3f5f"
            },
            "type": "carpet"
           }
          ],
          "choropleth": [
           {
            "colorbar": {
             "outlinewidth": 0,
             "ticks": ""
            },
            "type": "choropleth"
           }
          ],
          "contour": [
           {
            "colorbar": {
             "outlinewidth": 0,
             "ticks": ""
            },
            "colorscale": [
             [
              0,
              "#0d0887"
             ],
             [
              0.1111111111111111,
              "#46039f"
             ],
             [
              0.2222222222222222,
              "#7201a8"
             ],
             [
              0.3333333333333333,
              "#9c179e"
             ],
             [
              0.4444444444444444,
              "#bd3786"
             ],
             [
              0.5555555555555556,
              "#d8576b"
             ],
             [
              0.6666666666666666,
              "#ed7953"
             ],
             [
              0.7777777777777778,
              "#fb9f3a"
             ],
             [
              0.8888888888888888,
              "#fdca26"
             ],
             [
              1,
              "#f0f921"
             ]
            ],
            "type": "contour"
           }
          ],
          "contourcarpet": [
           {
            "colorbar": {
             "outlinewidth": 0,
             "ticks": ""
            },
            "type": "contourcarpet"
           }
          ],
          "heatmap": [
           {
            "colorbar": {
             "outlinewidth": 0,
             "ticks": ""
            },
            "colorscale": [
             [
              0,
              "#0d0887"
             ],
             [
              0.1111111111111111,
              "#46039f"
             ],
             [
              0.2222222222222222,
              "#7201a8"
             ],
             [
              0.3333333333333333,
              "#9c179e"
             ],
             [
              0.4444444444444444,
              "#bd3786"
             ],
             [
              0.5555555555555556,
              "#d8576b"
             ],
             [
              0.6666666666666666,
              "#ed7953"
             ],
             [
              0.7777777777777778,
              "#fb9f3a"
             ],
             [
              0.8888888888888888,
              "#fdca26"
             ],
             [
              1,
              "#f0f921"
             ]
            ],
            "type": "heatmap"
           }
          ],
          "heatmapgl": [
           {
            "colorbar": {
             "outlinewidth": 0,
             "ticks": ""
            },
            "colorscale": [
             [
              0,
              "#0d0887"
             ],
             [
              0.1111111111111111,
              "#46039f"
             ],
             [
              0.2222222222222222,
              "#7201a8"
             ],
             [
              0.3333333333333333,
              "#9c179e"
             ],
             [
              0.4444444444444444,
              "#bd3786"
             ],
             [
              0.5555555555555556,
              "#d8576b"
             ],
             [
              0.6666666666666666,
              "#ed7953"
             ],
             [
              0.7777777777777778,
              "#fb9f3a"
             ],
             [
              0.8888888888888888,
              "#fdca26"
             ],
             [
              1,
              "#f0f921"
             ]
            ],
            "type": "heatmapgl"
           }
          ],
          "histogram": [
           {
            "marker": {
             "colorbar": {
              "outlinewidth": 0,
              "ticks": ""
             }
            },
            "type": "histogram"
           }
          ],
          "histogram2d": [
           {
            "colorbar": {
             "outlinewidth": 0,
             "ticks": ""
            },
            "colorscale": [
             [
              0,
              "#0d0887"
             ],
             [
              0.1111111111111111,
              "#46039f"
             ],
             [
              0.2222222222222222,
              "#7201a8"
             ],
             [
              0.3333333333333333,
              "#9c179e"
             ],
             [
              0.4444444444444444,
              "#bd3786"
             ],
             [
              0.5555555555555556,
              "#d8576b"
             ],
             [
              0.6666666666666666,
              "#ed7953"
             ],
             [
              0.7777777777777778,
              "#fb9f3a"
             ],
             [
              0.8888888888888888,
              "#fdca26"
             ],
             [
              1,
              "#f0f921"
             ]
            ],
            "type": "histogram2d"
           }
          ],
          "histogram2dcontour": [
           {
            "colorbar": {
             "outlinewidth": 0,
             "ticks": ""
            },
            "colorscale": [
             [
              0,
              "#0d0887"
             ],
             [
              0.1111111111111111,
              "#46039f"
             ],
             [
              0.2222222222222222,
              "#7201a8"
             ],
             [
              0.3333333333333333,
              "#9c179e"
             ],
             [
              0.4444444444444444,
              "#bd3786"
             ],
             [
              0.5555555555555556,
              "#d8576b"
             ],
             [
              0.6666666666666666,
              "#ed7953"
             ],
             [
              0.7777777777777778,
              "#fb9f3a"
             ],
             [
              0.8888888888888888,
              "#fdca26"
             ],
             [
              1,
              "#f0f921"
             ]
            ],
            "type": "histogram2dcontour"
           }
          ],
          "mesh3d": [
           {
            "colorbar": {
             "outlinewidth": 0,
             "ticks": ""
            },
            "type": "mesh3d"
           }
          ],
          "parcoords": [
           {
            "line": {
             "colorbar": {
              "outlinewidth": 0,
              "ticks": ""
             }
            },
            "type": "parcoords"
           }
          ],
          "pie": [
           {
            "automargin": true,
            "type": "pie"
           }
          ],
          "scatter": [
           {
            "marker": {
             "colorbar": {
              "outlinewidth": 0,
              "ticks": ""
             }
            },
            "type": "scatter"
           }
          ],
          "scatter3d": [
           {
            "line": {
             "colorbar": {
              "outlinewidth": 0,
              "ticks": ""
             }
            },
            "marker": {
             "colorbar": {
              "outlinewidth": 0,
              "ticks": ""
             }
            },
            "type": "scatter3d"
           }
          ],
          "scattercarpet": [
           {
            "marker": {
             "colorbar": {
              "outlinewidth": 0,
              "ticks": ""
             }
            },
            "type": "scattercarpet"
           }
          ],
          "scattergeo": [
           {
            "marker": {
             "colorbar": {
              "outlinewidth": 0,
              "ticks": ""
             }
            },
            "type": "scattergeo"
           }
          ],
          "scattergl": [
           {
            "marker": {
             "colorbar": {
              "outlinewidth": 0,
              "ticks": ""
             }
            },
            "type": "scattergl"
           }
          ],
          "scattermapbox": [
           {
            "marker": {
             "colorbar": {
              "outlinewidth": 0,
              "ticks": ""
             }
            },
            "type": "scattermapbox"
           }
          ],
          "scatterpolar": [
           {
            "marker": {
             "colorbar": {
              "outlinewidth": 0,
              "ticks": ""
             }
            },
            "type": "scatterpolar"
           }
          ],
          "scatterpolargl": [
           {
            "marker": {
             "colorbar": {
              "outlinewidth": 0,
              "ticks": ""
             }
            },
            "type": "scatterpolargl"
           }
          ],
          "scatterternary": [
           {
            "marker": {
             "colorbar": {
              "outlinewidth": 0,
              "ticks": ""
             }
            },
            "type": "scatterternary"
           }
          ],
          "surface": [
           {
            "colorbar": {
             "outlinewidth": 0,
             "ticks": ""
            },
            "colorscale": [
             [
              0,
              "#0d0887"
             ],
             [
              0.1111111111111111,
              "#46039f"
             ],
             [
              0.2222222222222222,
              "#7201a8"
             ],
             [
              0.3333333333333333,
              "#9c179e"
             ],
             [
              0.4444444444444444,
              "#bd3786"
             ],
             [
              0.5555555555555556,
              "#d8576b"
             ],
             [
              0.6666666666666666,
              "#ed7953"
             ],
             [
              0.7777777777777778,
              "#fb9f3a"
             ],
             [
              0.8888888888888888,
              "#fdca26"
             ],
             [
              1,
              "#f0f921"
             ]
            ],
            "type": "surface"
           }
          ],
          "table": [
           {
            "cells": {
             "fill": {
              "color": "#EBF0F8"
             },
             "line": {
              "color": "white"
             }
            },
            "header": {
             "fill": {
              "color": "#C8D4E3"
             },
             "line": {
              "color": "white"
             }
            },
            "type": "table"
           }
          ]
         },
         "layout": {
          "annotationdefaults": {
           "arrowcolor": "#2a3f5f",
           "arrowhead": 0,
           "arrowwidth": 1
          },
          "coloraxis": {
           "colorbar": {
            "outlinewidth": 0,
            "ticks": ""
           }
          },
          "colorscale": {
           "diverging": [
            [
             0,
             "#8e0152"
            ],
            [
             0.1,
             "#c51b7d"
            ],
            [
             0.2,
             "#de77ae"
            ],
            [
             0.3,
             "#f1b6da"
            ],
            [
             0.4,
             "#fde0ef"
            ],
            [
             0.5,
             "#f7f7f7"
            ],
            [
             0.6,
             "#e6f5d0"
            ],
            [
             0.7,
             "#b8e186"
            ],
            [
             0.8,
             "#7fbc41"
            ],
            [
             0.9,
             "#4d9221"
            ],
            [
             1,
             "#276419"
            ]
           ],
           "sequential": [
            [
             0,
             "#0d0887"
            ],
            [
             0.1111111111111111,
             "#46039f"
            ],
            [
             0.2222222222222222,
             "#7201a8"
            ],
            [
             0.3333333333333333,
             "#9c179e"
            ],
            [
             0.4444444444444444,
             "#bd3786"
            ],
            [
             0.5555555555555556,
             "#d8576b"
            ],
            [
             0.6666666666666666,
             "#ed7953"
            ],
            [
             0.7777777777777778,
             "#fb9f3a"
            ],
            [
             0.8888888888888888,
             "#fdca26"
            ],
            [
             1,
             "#f0f921"
            ]
           ],
           "sequentialminus": [
            [
             0,
             "#0d0887"
            ],
            [
             0.1111111111111111,
             "#46039f"
            ],
            [
             0.2222222222222222,
             "#7201a8"
            ],
            [
             0.3333333333333333,
             "#9c179e"
            ],
            [
             0.4444444444444444,
             "#bd3786"
            ],
            [
             0.5555555555555556,
             "#d8576b"
            ],
            [
             0.6666666666666666,
             "#ed7953"
            ],
            [
             0.7777777777777778,
             "#fb9f3a"
            ],
            [
             0.8888888888888888,
             "#fdca26"
            ],
            [
             1,
             "#f0f921"
            ]
           ]
          },
          "colorway": [
           "#636efa",
           "#EF553B",
           "#00cc96",
           "#ab63fa",
           "#FFA15A",
           "#19d3f3",
           "#FF6692",
           "#B6E880",
           "#FF97FF",
           "#FECB52"
          ],
          "font": {
           "color": "#2a3f5f"
          },
          "geo": {
           "bgcolor": "white",
           "lakecolor": "white",
           "landcolor": "#E5ECF6",
           "showlakes": true,
           "showland": true,
           "subunitcolor": "white"
          },
          "hoverlabel": {
           "align": "left"
          },
          "hovermode": "closest",
          "mapbox": {
           "style": "light"
          },
          "paper_bgcolor": "white",
          "plot_bgcolor": "#E5ECF6",
          "polar": {
           "angularaxis": {
            "gridcolor": "white",
            "linecolor": "white",
            "ticks": ""
           },
           "bgcolor": "#E5ECF6",
           "radialaxis": {
            "gridcolor": "white",
            "linecolor": "white",
            "ticks": ""
           }
          },
          "scene": {
           "xaxis": {
            "backgroundcolor": "#E5ECF6",
            "gridcolor": "white",
            "gridwidth": 2,
            "linecolor": "white",
            "showbackground": true,
            "ticks": "",
            "zerolinecolor": "white"
           },
           "yaxis": {
            "backgroundcolor": "#E5ECF6",
            "gridcolor": "white",
            "gridwidth": 2,
            "linecolor": "white",
            "showbackground": true,
            "ticks": "",
            "zerolinecolor": "white"
           },
           "zaxis": {
            "backgroundcolor": "#E5ECF6",
            "gridcolor": "white",
            "gridwidth": 2,
            "linecolor": "white",
            "showbackground": true,
            "ticks": "",
            "zerolinecolor": "white"
           }
          },
          "shapedefaults": {
           "line": {
            "color": "#2a3f5f"
           }
          },
          "ternary": {
           "aaxis": {
            "gridcolor": "white",
            "linecolor": "white",
            "ticks": ""
           },
           "baxis": {
            "gridcolor": "white",
            "linecolor": "white",
            "ticks": ""
           },
           "bgcolor": "#E5ECF6",
           "caxis": {
            "gridcolor": "white",
            "linecolor": "white",
            "ticks": ""
           }
          },
          "title": {
           "x": 0.05
          },
          "xaxis": {
           "automargin": true,
           "gridcolor": "white",
           "linecolor": "white",
           "ticks": "",
           "title": {
            "standoff": 15
           },
           "zerolinecolor": "white",
           "zerolinewidth": 2
          },
          "yaxis": {
           "automargin": true,
           "gridcolor": "white",
           "linecolor": "white",
           "ticks": "",
           "title": {
            "standoff": 15
           },
           "zerolinecolor": "white",
           "zerolinewidth": 2
          }
         }
        },
        "xaxis": {
         "anchor": "y",
         "domain": [
          0,
          1
         ],
         "title": {
          "text": "total_bill"
         }
        },
        "xaxis2": {
         "anchor": "y2",
         "domain": [
          0,
          1
         ],
         "matches": "x",
         "showgrid": true,
         "showticklabels": false
        },
        "yaxis": {
         "anchor": "x",
         "domain": [
          0,
          0.7326
         ],
         "title": {
          "text": "count"
         }
        },
        "yaxis2": {
         "anchor": "x2",
         "domain": [
          0.7426,
          1
         ],
         "matches": "y2",
         "showgrid": false,
         "showline": false,
         "showticklabels": false,
         "ticks": ""
        }
       }
      }
     },
     "metadata": {},
     "output_type": "display_data"
    }
   ],
   "source": [
    "import plotly.express as px\n",
    "df = px.data.tips()\n",
    "fig = px.histogram(df, x=\"total_bill\", color=\"sex\", marginal=\"rug\", hover_data=df.columns)\n",
    "fig.show()"
   ]
  },
  {
   "cell_type": "code",
   "execution_count": 12,
   "metadata": {},
   "outputs": [
    {
     "data": {
      "application/vnd.plotly.v1+json": {
       "config": {
        "plotlyServerURL": "https://plot.ly"
       },
       "data": [
        {
         "alignmentgroup": "True",
         "bingroup": "x",
         "histfunc": "avg",
         "hoverlabel": {
          "namelength": 0
         },
         "hovertemplate": "smoker=No<br>time=Lunch<br>day=Thur<br>sex=%{x}<br>avg of tip=%{y}",
         "legendgroup": "No",
         "marker": {
          "color": "#636efa"
         },
         "name": "No",
         "offsetgroup": "No",
         "orientation": "v",
         "showlegend": true,
         "type": "histogram",
         "x": [
          "Male",
          "Male",
          "Male",
          "Male",
          "Female",
          "Male",
          "Female",
          "Male",
          "Male",
          "Male",
          "Male",
          "Female",
          "Female",
          "Female",
          "Male",
          "Female",
          "Male",
          "Male",
          "Female",
          "Female",
          "Male",
          "Female",
          "Female",
          "Male",
          "Male",
          "Female",
          "Female",
          "Female",
          "Female",
          "Female",
          "Female",
          "Female",
          "Female",
          "Female",
          "Male",
          "Male",
          "Female",
          "Female",
          "Female",
          "Female",
          "Female",
          "Male",
          "Male",
          "Male"
         ],
         "xaxis": "x5",
         "y": [
          4,
          3,
          2.71,
          3.4,
          1.83,
          2.03,
          5.17,
          2,
          4,
          5.85,
          3,
          1.5,
          1.8,
          2.92,
          2.31,
          1.68,
          2.5,
          2,
          2.52,
          4.2,
          1.48,
          2,
          2,
          2.18,
          1.5,
          2.83,
          1.5,
          2,
          3.25,
          1.25,
          2,
          2,
          2.75,
          3.5,
          6.7,
          5,
          5,
          2.3,
          1.5,
          1.36,
          1.63,
          1.73,
          2,
          1.44
         ],
         "yaxis": "y5"
        },
        {
         "alignmentgroup": "True",
         "bingroup": "x",
         "histfunc": "avg",
         "hoverlabel": {
          "namelength": 0
         },
         "hovertemplate": "smoker=No<br>time=Lunch<br>day=Fri<br>sex=%{x}<br>avg of tip=%{y}",
         "legendgroup": "No",
         "marker": {
          "color": "#636efa"
         },
         "name": "No",
         "offsetgroup": "No",
         "orientation": "v",
         "showlegend": false,
         "type": "histogram",
         "x": [
          "Female"
         ],
         "xaxis": "x6",
         "y": [
          3
         ],
         "yaxis": "y6"
        },
        {
         "alignmentgroup": "True",
         "bingroup": "x",
         "histfunc": "avg",
         "hoverlabel": {
          "namelength": 0
         },
         "hovertemplate": "smoker=No<br>time=Dinner<br>day=Thur<br>sex=%{x}<br>avg of tip=%{y}",
         "legendgroup": "No",
         "marker": {
          "color": "#636efa"
         },
         "name": "No",
         "offsetgroup": "No",
         "orientation": "v",
         "showlegend": false,
         "type": "histogram",
         "x": [
          "Female"
         ],
         "xaxis": "x",
         "y": [
          3
         ],
         "yaxis": "y"
        },
        {
         "alignmentgroup": "True",
         "bingroup": "x",
         "histfunc": "avg",
         "hoverlabel": {
          "namelength": 0
         },
         "hovertemplate": "smoker=No<br>time=Dinner<br>day=Fri<br>sex=%{x}<br>avg of tip=%{y}",
         "legendgroup": "No",
         "marker": {
          "color": "#636efa"
         },
         "name": "No",
         "offsetgroup": "No",
         "orientation": "v",
         "showlegend": false,
         "type": "histogram",
         "x": [
          "Male",
          "Female",
          "Male"
         ],
         "xaxis": "x2",
         "y": [
          3.5,
          3.25,
          1.5
         ],
         "yaxis": "y2"
        },
        {
         "alignmentgroup": "True",
         "bingroup": "x",
         "histfunc": "avg",
         "hoverlabel": {
          "namelength": 0
         },
         "hovertemplate": "smoker=No<br>time=Dinner<br>day=Sat<br>sex=%{x}<br>avg of tip=%{y}",
         "legendgroup": "No",
         "marker": {
          "color": "#636efa"
         },
         "name": "No",
         "offsetgroup": "No",
         "orientation": "v",
         "showlegend": false,
         "type": "histogram",
         "x": [
          "Male",
          "Male",
          "Female",
          "Female",
          "Male",
          "Male",
          "Male",
          "Male",
          "Male",
          "Male",
          "Female",
          "Male",
          "Male",
          "Female",
          "Female",
          "Male",
          "Male",
          "Male",
          "Female",
          "Male",
          "Male",
          "Male",
          "Female",
          "Male",
          "Male",
          "Male",
          "Female",
          "Male",
          "Male",
          "Female",
          "Female",
          "Male",
          "Female",
          "Male",
          "Male",
          "Female",
          "Male",
          "Male",
          "Male",
          "Male",
          "Male",
          "Male",
          "Female",
          "Male",
          "Male"
         ],
         "xaxis": "x3",
         "y": [
          3.35,
          4.08,
          2.75,
          2.23,
          7.58,
          3.18,
          2.34,
          2,
          2,
          4.3,
          3,
          1.45,
          2.5,
          3,
          2.45,
          3.27,
          3.6,
          2,
          3.07,
          2.31,
          5,
          2.24,
          1.5,
          6.73,
          2.64,
          3.15,
          2.47,
          2.01,
          1.97,
          3,
          2.2,
          1.25,
          4.08,
          3.76,
          3,
          1,
          9,
          3,
          2.72,
          3.39,
          1.47,
          1.25,
          4.67,
          5.92,
          1.75
         ],
         "yaxis": "y3"
        },
        {
         "alignmentgroup": "True",
         "bingroup": "x",
         "histfunc": "avg",
         "hoverlabel": {
          "namelength": 0
         },
         "hovertemplate": "smoker=No<br>time=Dinner<br>day=Sun<br>sex=%{x}<br>avg of tip=%{y}",
         "legendgroup": "No",
         "marker": {
          "color": "#636efa"
         },
         "name": "No",
         "offsetgroup": "No",
         "orientation": "v",
         "showlegend": false,
         "type": "histogram",
         "x": [
          "Female",
          "Male",
          "Male",
          "Male",
          "Female",
          "Male",
          "Male",
          "Male",
          "Male",
          "Male",
          "Male",
          "Female",
          "Male",
          "Male",
          "Female",
          "Male",
          "Female",
          "Male",
          "Female",
          "Male",
          "Male",
          "Male",
          "Male",
          "Male",
          "Male",
          "Male",
          "Male",
          "Male",
          "Male",
          "Female",
          "Female",
          "Male",
          "Male",
          "Male",
          "Male",
          "Male",
          "Female",
          "Female",
          "Male",
          "Male",
          "Male",
          "Male",
          "Male",
          "Male",
          "Female",
          "Male",
          "Female",
          "Female",
          "Male",
          "Male",
          "Male",
          "Female",
          "Male",
          "Male",
          "Male",
          "Male",
          "Male"
         ],
         "xaxis": "x4",
         "y": [
          1.01,
          1.66,
          3.5,
          3.31,
          3.61,
          4.71,
          2,
          3.12,
          1.96,
          3.23,
          1.71,
          5,
          1.57,
          3,
          3.02,
          3.92,
          1.67,
          3.71,
          3.5,
          2.54,
          3.06,
          1.32,
          5.6,
          3,
          5,
          6,
          2.05,
          3,
          2.5,
          2.6,
          5.2,
          1.56,
          4.34,
          3.51,
          4,
          2.55,
          4,
          3.5,
          5.07,
          2.5,
          2,
          2.74,
          2,
          2,
          5.14,
          5,
          3.75,
          2.61,
          2,
          3.5,
          2.5,
          2,
          2,
          3.48,
          2.24,
          4.5,
          5
         ],
         "yaxis": "y4"
        },
        {
         "alignmentgroup": "True",
         "bingroup": "x",
         "histfunc": "avg",
         "hoverlabel": {
          "namelength": 0
         },
         "hovertemplate": "smoker=Yes<br>time=Lunch<br>day=Thur<br>sex=%{x}<br>avg of tip=%{y}",
         "legendgroup": "Yes",
         "marker": {
          "color": "#EF553B"
         },
         "name": "Yes",
         "offsetgroup": "Yes",
         "orientation": "v",
         "showlegend": true,
         "type": "histogram",
         "x": [
          "Male",
          "Male",
          "Male",
          "Female",
          "Male",
          "Male",
          "Male",
          "Male",
          "Female",
          "Female",
          "Male",
          "Male",
          "Female",
          "Female",
          "Female",
          "Male",
          "Female"
         ],
         "xaxis": "x5",
         "y": [
          3,
          5,
          2,
          4.19,
          2.56,
          2.02,
          4,
          2,
          5,
          2,
          2,
          4,
          2.01,
          2,
          2.5,
          4,
          3.23
         ],
         "yaxis": "y5"
        },
        {
         "alignmentgroup": "True",
         "bingroup": "x",
         "histfunc": "avg",
         "hoverlabel": {
          "namelength": 0
         },
         "hovertemplate": "smoker=Yes<br>time=Lunch<br>day=Fri<br>sex=%{x}<br>avg of tip=%{y}",
         "legendgroup": "Yes",
         "marker": {
          "color": "#EF553B"
         },
         "name": "Yes",
         "offsetgroup": "Yes",
         "orientation": "v",
         "showlegend": false,
         "type": "histogram",
         "x": [
          "Male",
          "Female",
          "Male",
          "Male",
          "Female",
          "Female"
         ],
         "xaxis": "x6",
         "y": [
          2.2,
          3.48,
          1.92,
          1.58,
          2.5,
          2
         ],
         "yaxis": "y6"
        },
        {
         "alignmentgroup": "True",
         "bingroup": "x",
         "histfunc": "avg",
         "hoverlabel": {
          "namelength": 0
         },
         "hovertemplate": "smoker=Yes<br>time=Dinner<br>day=Fri<br>sex=%{x}<br>avg of tip=%{y}",
         "legendgroup": "Yes",
         "marker": {
          "color": "#EF553B"
         },
         "name": "Yes",
         "offsetgroup": "Yes",
         "orientation": "v",
         "showlegend": false,
         "type": "histogram",
         "x": [
          "Male",
          "Female",
          "Female",
          "Male",
          "Male",
          "Male",
          "Male",
          "Female",
          "Female"
         ],
         "xaxis": "x2",
         "y": [
          3,
          1,
          4.3,
          4.73,
          4,
          1.5,
          3,
          2.5,
          3
         ],
         "yaxis": "y2"
        },
        {
         "alignmentgroup": "True",
         "bingroup": "x",
         "histfunc": "avg",
         "hoverlabel": {
          "namelength": 0
         },
         "hovertemplate": "smoker=Yes<br>time=Dinner<br>day=Sat<br>sex=%{x}<br>avg of tip=%{y}",
         "legendgroup": "Yes",
         "marker": {
          "color": "#EF553B"
         },
         "name": "Yes",
         "offsetgroup": "Yes",
         "orientation": "v",
         "showlegend": false,
         "type": "histogram",
         "x": [
          "Male",
          "Male",
          "Male",
          "Male",
          "Male",
          "Male",
          "Female",
          "Male",
          "Female",
          "Female",
          "Male",
          "Female",
          "Female",
          "Male",
          "Male",
          "Male",
          "Female",
          "Female",
          "Female",
          "Male",
          "Male",
          "Male",
          "Male",
          "Male",
          "Female",
          "Male",
          "Male",
          "Female",
          "Female",
          "Female",
          "Male",
          "Male",
          "Male",
          "Female",
          "Female",
          "Male",
          "Male",
          "Male",
          "Male",
          "Male",
          "Female",
          "Male"
         ],
         "xaxis": "x3",
         "y": [
          3,
          1.76,
          3.21,
          2,
          1.98,
          3.76,
          1,
          2.09,
          3.14,
          5,
          3.08,
          2.5,
          3.48,
          1.64,
          4.06,
          4.29,
          4,
          1.61,
          2,
          10,
          3.16,
          3.41,
          3,
          2.03,
          2.23,
          2,
          5.16,
          2.5,
          6.5,
          1.1,
          3,
          1.5,
          1.44,
          3.09,
          2.88,
          2,
          3,
          3,
          1,
          1.17,
          2,
          2
         ],
         "yaxis": "y3"
        },
        {
         "alignmentgroup": "True",
         "bingroup": "x",
         "histfunc": "avg",
         "hoverlabel": {
          "namelength": 0
         },
         "hovertemplate": "smoker=Yes<br>time=Dinner<br>day=Sun<br>sex=%{x}<br>avg of tip=%{y}",
         "legendgroup": "Yes",
         "marker": {
          "color": "#EF553B"
         },
         "name": "Yes",
         "offsetgroup": "Yes",
         "orientation": "v",
         "showlegend": false,
         "type": "histogram",
         "x": [
          "Female",
          "Male",
          "Male",
          "Male",
          "Male",
          "Male",
          "Male",
          "Female",
          "Male",
          "Male",
          "Male",
          "Male",
          "Male",
          "Male",
          "Female",
          "Male",
          "Female",
          "Male",
          "Male"
         ],
         "xaxis": "x4",
         "y": [
          3,
          5.15,
          3.18,
          4,
          3.11,
          2,
          2,
          4,
          3.55,
          3.68,
          5.65,
          3.5,
          6.5,
          3,
          3.5,
          2,
          3.5,
          4,
          1.5
         ],
         "yaxis": "y4"
        }
       ],
       "layout": {
        "annotations": [
         {
          "font": {},
          "showarrow": false,
          "text": "day=Thur",
          "x": 0.11499999999999999,
          "xanchor": "center",
          "xref": "paper",
          "y": 1,
          "yanchor": "bottom",
          "yref": "paper"
         },
         {
          "font": {},
          "showarrow": false,
          "text": "day=Fri",
          "x": 0.365,
          "xanchor": "center",
          "xref": "paper",
          "y": 1,
          "yanchor": "bottom",
          "yref": "paper"
         },
         {
          "font": {},
          "showarrow": false,
          "text": "day=Sat",
          "x": 0.615,
          "xanchor": "center",
          "xref": "paper",
          "y": 1,
          "yanchor": "bottom",
          "yref": "paper"
         },
         {
          "font": {},
          "showarrow": false,
          "text": "day=Sun",
          "x": 0.865,
          "xanchor": "center",
          "xref": "paper",
          "y": 1,
          "yanchor": "bottom",
          "yref": "paper"
         },
         {
          "font": {},
          "showarrow": false,
          "text": "time=Dinner",
          "textangle": 90,
          "x": 0.98,
          "xanchor": "left",
          "xref": "paper",
          "y": 0.2425,
          "yanchor": "middle",
          "yref": "paper"
         },
         {
          "font": {},
          "showarrow": false,
          "text": "time=Lunch",
          "textangle": 90,
          "x": 0.98,
          "xanchor": "left",
          "xref": "paper",
          "y": 0.7575000000000001,
          "yanchor": "middle",
          "yref": "paper"
         }
        ],
        "barmode": "group",
        "legend": {
         "title": {
          "text": "smoker"
         },
         "tracegroupgap": 0
        },
        "margin": {
         "t": 60
        },
        "template": {
         "data": {
          "bar": [
           {
            "error_x": {
             "color": "#2a3f5f"
            },
            "error_y": {
             "color": "#2a3f5f"
            },
            "marker": {
             "line": {
              "color": "#E5ECF6",
              "width": 0.5
             }
            },
            "type": "bar"
           }
          ],
          "barpolar": [
           {
            "marker": {
             "line": {
              "color": "#E5ECF6",
              "width": 0.5
             }
            },
            "type": "barpolar"
           }
          ],
          "carpet": [
           {
            "aaxis": {
             "endlinecolor": "#2a3f5f",
             "gridcolor": "white",
             "linecolor": "white",
             "minorgridcolor": "white",
             "startlinecolor": "#2a3f5f"
            },
            "baxis": {
             "endlinecolor": "#2a3f5f",
             "gridcolor": "white",
             "linecolor": "white",
             "minorgridcolor": "white",
             "startlinecolor": "#2a3f5f"
            },
            "type": "carpet"
           }
          ],
          "choropleth": [
           {
            "colorbar": {
             "outlinewidth": 0,
             "ticks": ""
            },
            "type": "choropleth"
           }
          ],
          "contour": [
           {
            "colorbar": {
             "outlinewidth": 0,
             "ticks": ""
            },
            "colorscale": [
             [
              0,
              "#0d0887"
             ],
             [
              0.1111111111111111,
              "#46039f"
             ],
             [
              0.2222222222222222,
              "#7201a8"
             ],
             [
              0.3333333333333333,
              "#9c179e"
             ],
             [
              0.4444444444444444,
              "#bd3786"
             ],
             [
              0.5555555555555556,
              "#d8576b"
             ],
             [
              0.6666666666666666,
              "#ed7953"
             ],
             [
              0.7777777777777778,
              "#fb9f3a"
             ],
             [
              0.8888888888888888,
              "#fdca26"
             ],
             [
              1,
              "#f0f921"
             ]
            ],
            "type": "contour"
           }
          ],
          "contourcarpet": [
           {
            "colorbar": {
             "outlinewidth": 0,
             "ticks": ""
            },
            "type": "contourcarpet"
           }
          ],
          "heatmap": [
           {
            "colorbar": {
             "outlinewidth": 0,
             "ticks": ""
            },
            "colorscale": [
             [
              0,
              "#0d0887"
             ],
             [
              0.1111111111111111,
              "#46039f"
             ],
             [
              0.2222222222222222,
              "#7201a8"
             ],
             [
              0.3333333333333333,
              "#9c179e"
             ],
             [
              0.4444444444444444,
              "#bd3786"
             ],
             [
              0.5555555555555556,
              "#d8576b"
             ],
             [
              0.6666666666666666,
              "#ed7953"
             ],
             [
              0.7777777777777778,
              "#fb9f3a"
             ],
             [
              0.8888888888888888,
              "#fdca26"
             ],
             [
              1,
              "#f0f921"
             ]
            ],
            "type": "heatmap"
           }
          ],
          "heatmapgl": [
           {
            "colorbar": {
             "outlinewidth": 0,
             "ticks": ""
            },
            "colorscale": [
             [
              0,
              "#0d0887"
             ],
             [
              0.1111111111111111,
              "#46039f"
             ],
             [
              0.2222222222222222,
              "#7201a8"
             ],
             [
              0.3333333333333333,
              "#9c179e"
             ],
             [
              0.4444444444444444,
              "#bd3786"
             ],
             [
              0.5555555555555556,
              "#d8576b"
             ],
             [
              0.6666666666666666,
              "#ed7953"
             ],
             [
              0.7777777777777778,
              "#fb9f3a"
             ],
             [
              0.8888888888888888,
              "#fdca26"
             ],
             [
              1,
              "#f0f921"
             ]
            ],
            "type": "heatmapgl"
           }
          ],
          "histogram": [
           {
            "marker": {
             "colorbar": {
              "outlinewidth": 0,
              "ticks": ""
             }
            },
            "type": "histogram"
           }
          ],
          "histogram2d": [
           {
            "colorbar": {
             "outlinewidth": 0,
             "ticks": ""
            },
            "colorscale": [
             [
              0,
              "#0d0887"
             ],
             [
              0.1111111111111111,
              "#46039f"
             ],
             [
              0.2222222222222222,
              "#7201a8"
             ],
             [
              0.3333333333333333,
              "#9c179e"
             ],
             [
              0.4444444444444444,
              "#bd3786"
             ],
             [
              0.5555555555555556,
              "#d8576b"
             ],
             [
              0.6666666666666666,
              "#ed7953"
             ],
             [
              0.7777777777777778,
              "#fb9f3a"
             ],
             [
              0.8888888888888888,
              "#fdca26"
             ],
             [
              1,
              "#f0f921"
             ]
            ],
            "type": "histogram2d"
           }
          ],
          "histogram2dcontour": [
           {
            "colorbar": {
             "outlinewidth": 0,
             "ticks": ""
            },
            "colorscale": [
             [
              0,
              "#0d0887"
             ],
             [
              0.1111111111111111,
              "#46039f"
             ],
             [
              0.2222222222222222,
              "#7201a8"
             ],
             [
              0.3333333333333333,
              "#9c179e"
             ],
             [
              0.4444444444444444,
              "#bd3786"
             ],
             [
              0.5555555555555556,
              "#d8576b"
             ],
             [
              0.6666666666666666,
              "#ed7953"
             ],
             [
              0.7777777777777778,
              "#fb9f3a"
             ],
             [
              0.8888888888888888,
              "#fdca26"
             ],
             [
              1,
              "#f0f921"
             ]
            ],
            "type": "histogram2dcontour"
           }
          ],
          "mesh3d": [
           {
            "colorbar": {
             "outlinewidth": 0,
             "ticks": ""
            },
            "type": "mesh3d"
           }
          ],
          "parcoords": [
           {
            "line": {
             "colorbar": {
              "outlinewidth": 0,
              "ticks": ""
             }
            },
            "type": "parcoords"
           }
          ],
          "pie": [
           {
            "automargin": true,
            "type": "pie"
           }
          ],
          "scatter": [
           {
            "marker": {
             "colorbar": {
              "outlinewidth": 0,
              "ticks": ""
             }
            },
            "type": "scatter"
           }
          ],
          "scatter3d": [
           {
            "line": {
             "colorbar": {
              "outlinewidth": 0,
              "ticks": ""
             }
            },
            "marker": {
             "colorbar": {
              "outlinewidth": 0,
              "ticks": ""
             }
            },
            "type": "scatter3d"
           }
          ],
          "scattercarpet": [
           {
            "marker": {
             "colorbar": {
              "outlinewidth": 0,
              "ticks": ""
             }
            },
            "type": "scattercarpet"
           }
          ],
          "scattergeo": [
           {
            "marker": {
             "colorbar": {
              "outlinewidth": 0,
              "ticks": ""
             }
            },
            "type": "scattergeo"
           }
          ],
          "scattergl": [
           {
            "marker": {
             "colorbar": {
              "outlinewidth": 0,
              "ticks": ""
             }
            },
            "type": "scattergl"
           }
          ],
          "scattermapbox": [
           {
            "marker": {
             "colorbar": {
              "outlinewidth": 0,
              "ticks": ""
             }
            },
            "type": "scattermapbox"
           }
          ],
          "scatterpolar": [
           {
            "marker": {
             "colorbar": {
              "outlinewidth": 0,
              "ticks": ""
             }
            },
            "type": "scatterpolar"
           }
          ],
          "scatterpolargl": [
           {
            "marker": {
             "colorbar": {
              "outlinewidth": 0,
              "ticks": ""
             }
            },
            "type": "scatterpolargl"
           }
          ],
          "scatterternary": [
           {
            "marker": {
             "colorbar": {
              "outlinewidth": 0,
              "ticks": ""
             }
            },
            "type": "scatterternary"
           }
          ],
          "surface": [
           {
            "colorbar": {
             "outlinewidth": 0,
             "ticks": ""
            },
            "colorscale": [
             [
              0,
              "#0d0887"
             ],
             [
              0.1111111111111111,
              "#46039f"
             ],
             [
              0.2222222222222222,
              "#7201a8"
             ],
             [
              0.3333333333333333,
              "#9c179e"
             ],
             [
              0.4444444444444444,
              "#bd3786"
             ],
             [
              0.5555555555555556,
              "#d8576b"
             ],
             [
              0.6666666666666666,
              "#ed7953"
             ],
             [
              0.7777777777777778,
              "#fb9f3a"
             ],
             [
              0.8888888888888888,
              "#fdca26"
             ],
             [
              1,
              "#f0f921"
             ]
            ],
            "type": "surface"
           }
          ],
          "table": [
           {
            "cells": {
             "fill": {
              "color": "#EBF0F8"
             },
             "line": {
              "color": "white"
             }
            },
            "header": {
             "fill": {
              "color": "#C8D4E3"
             },
             "line": {
              "color": "white"
             }
            },
            "type": "table"
           }
          ]
         },
         "layout": {
          "annotationdefaults": {
           "arrowcolor": "#2a3f5f",
           "arrowhead": 0,
           "arrowwidth": 1
          },
          "coloraxis": {
           "colorbar": {
            "outlinewidth": 0,
            "ticks": ""
           }
          },
          "colorscale": {
           "diverging": [
            [
             0,
             "#8e0152"
            ],
            [
             0.1,
             "#c51b7d"
            ],
            [
             0.2,
             "#de77ae"
            ],
            [
             0.3,
             "#f1b6da"
            ],
            [
             0.4,
             "#fde0ef"
            ],
            [
             0.5,
             "#f7f7f7"
            ],
            [
             0.6,
             "#e6f5d0"
            ],
            [
             0.7,
             "#b8e186"
            ],
            [
             0.8,
             "#7fbc41"
            ],
            [
             0.9,
             "#4d9221"
            ],
            [
             1,
             "#276419"
            ]
           ],
           "sequential": [
            [
             0,
             "#0d0887"
            ],
            [
             0.1111111111111111,
             "#46039f"
            ],
            [
             0.2222222222222222,
             "#7201a8"
            ],
            [
             0.3333333333333333,
             "#9c179e"
            ],
            [
             0.4444444444444444,
             "#bd3786"
            ],
            [
             0.5555555555555556,
             "#d8576b"
            ],
            [
             0.6666666666666666,
             "#ed7953"
            ],
            [
             0.7777777777777778,
             "#fb9f3a"
            ],
            [
             0.8888888888888888,
             "#fdca26"
            ],
            [
             1,
             "#f0f921"
            ]
           ],
           "sequentialminus": [
            [
             0,
             "#0d0887"
            ],
            [
             0.1111111111111111,
             "#46039f"
            ],
            [
             0.2222222222222222,
             "#7201a8"
            ],
            [
             0.3333333333333333,
             "#9c179e"
            ],
            [
             0.4444444444444444,
             "#bd3786"
            ],
            [
             0.5555555555555556,
             "#d8576b"
            ],
            [
             0.6666666666666666,
             "#ed7953"
            ],
            [
             0.7777777777777778,
             "#fb9f3a"
            ],
            [
             0.8888888888888888,
             "#fdca26"
            ],
            [
             1,
             "#f0f921"
            ]
           ]
          },
          "colorway": [
           "#636efa",
           "#EF553B",
           "#00cc96",
           "#ab63fa",
           "#FFA15A",
           "#19d3f3",
           "#FF6692",
           "#B6E880",
           "#FF97FF",
           "#FECB52"
          ],
          "font": {
           "color": "#2a3f5f"
          },
          "geo": {
           "bgcolor": "white",
           "lakecolor": "white",
           "landcolor": "#E5ECF6",
           "showlakes": true,
           "showland": true,
           "subunitcolor": "white"
          },
          "hoverlabel": {
           "align": "left"
          },
          "hovermode": "closest",
          "mapbox": {
           "style": "light"
          },
          "paper_bgcolor": "white",
          "plot_bgcolor": "#E5ECF6",
          "polar": {
           "angularaxis": {
            "gridcolor": "white",
            "linecolor": "white",
            "ticks": ""
           },
           "bgcolor": "#E5ECF6",
           "radialaxis": {
            "gridcolor": "white",
            "linecolor": "white",
            "ticks": ""
           }
          },
          "scene": {
           "xaxis": {
            "backgroundcolor": "#E5ECF6",
            "gridcolor": "white",
            "gridwidth": 2,
            "linecolor": "white",
            "showbackground": true,
            "ticks": "",
            "zerolinecolor": "white"
           },
           "yaxis": {
            "backgroundcolor": "#E5ECF6",
            "gridcolor": "white",
            "gridwidth": 2,
            "linecolor": "white",
            "showbackground": true,
            "ticks": "",
            "zerolinecolor": "white"
           },
           "zaxis": {
            "backgroundcolor": "#E5ECF6",
            "gridcolor": "white",
            "gridwidth": 2,
            "linecolor": "white",
            "showbackground": true,
            "ticks": "",
            "zerolinecolor": "white"
           }
          },
          "shapedefaults": {
           "line": {
            "color": "#2a3f5f"
           }
          },
          "ternary": {
           "aaxis": {
            "gridcolor": "white",
            "linecolor": "white",
            "ticks": ""
           },
           "baxis": {
            "gridcolor": "white",
            "linecolor": "white",
            "ticks": ""
           },
           "bgcolor": "#E5ECF6",
           "caxis": {
            "gridcolor": "white",
            "linecolor": "white",
            "ticks": ""
           }
          },
          "title": {
           "x": 0.05
          },
          "xaxis": {
           "automargin": true,
           "gridcolor": "white",
           "linecolor": "white",
           "ticks": "",
           "title": {
            "standoff": 15
           },
           "zerolinecolor": "white",
           "zerolinewidth": 2
          },
          "yaxis": {
           "automargin": true,
           "gridcolor": "white",
           "linecolor": "white",
           "ticks": "",
           "title": {
            "standoff": 15
           },
           "zerolinecolor": "white",
           "zerolinewidth": 2
          }
         }
        },
        "xaxis": {
         "anchor": "y",
         "domain": [
          0,
          0.22999999999999998
         ],
         "title": {
          "text": "sex"
         }
        },
        "xaxis2": {
         "anchor": "y2",
         "domain": [
          0.24999999999999997,
          0.48
         ],
         "matches": "x",
         "title": {
          "text": "sex"
         }
        },
        "xaxis3": {
         "anchor": "y3",
         "domain": [
          0.49999999999999994,
          0.73
         ],
         "matches": "x",
         "title": {
          "text": "sex"
         }
        },
        "xaxis4": {
         "anchor": "y4",
         "domain": [
          0.75,
          0.98
         ],
         "matches": "x",
         "title": {
          "text": "sex"
         }
        },
        "xaxis5": {
         "anchor": "y5",
         "domain": [
          0,
          0.22999999999999998
         ],
         "matches": "x",
         "showticklabels": false
        },
        "xaxis6": {
         "anchor": "y6",
         "domain": [
          0.24999999999999997,
          0.48
         ],
         "matches": "x",
         "showticklabels": false
        },
        "xaxis7": {
         "anchor": "y7",
         "domain": [
          0.49999999999999994,
          0.73
         ],
         "matches": "x",
         "showticklabels": false
        },
        "xaxis8": {
         "anchor": "y8",
         "domain": [
          0.75,
          0.98
         ],
         "matches": "x",
         "showticklabels": false
        },
        "yaxis": {
         "anchor": "x",
         "domain": [
          0,
          0.485
         ],
         "title": {
          "text": "avg of tip"
         }
        },
        "yaxis2": {
         "anchor": "x2",
         "domain": [
          0,
          0.485
         ],
         "matches": "y",
         "showticklabels": false
        },
        "yaxis3": {
         "anchor": "x3",
         "domain": [
          0,
          0.485
         ],
         "matches": "y",
         "showticklabels": false
        },
        "yaxis4": {
         "anchor": "x4",
         "domain": [
          0,
          0.485
         ],
         "matches": "y",
         "showticklabels": false
        },
        "yaxis5": {
         "anchor": "x5",
         "domain": [
          0.515,
          1
         ],
         "matches": "y",
         "title": {
          "text": "avg of tip"
         }
        },
        "yaxis6": {
         "anchor": "x6",
         "domain": [
          0.515,
          1
         ],
         "matches": "y",
         "showticklabels": false
        },
        "yaxis7": {
         "anchor": "x7",
         "domain": [
          0.515,
          1
         ],
         "matches": "y",
         "showticklabels": false
        },
        "yaxis8": {
         "anchor": "x8",
         "domain": [
          0.515,
          1
         ],
         "matches": "y",
         "showticklabels": false
        }
       }
      }
     },
     "metadata": {},
     "output_type": "display_data"
    }
   ],
   "source": [
    "import plotly.express as px\n",
    "df = px.data.tips()\n",
    "fig = px.histogram(df, x=\"sex\", y=\"tip\", histfunc=\"avg\", color=\"smoker\", barmode=\"group\",\n",
    "             facet_row=\"time\", facet_col=\"day\", category_orders={\"day\": [\"Thur\", \"Fri\", \"Sat\", \"Sun\"],\n",
    "                                                                \"time\": [\"Lunch\", \"Dinner\"]})\n",
    "fig.show()"
   ]
  }
 ]
}