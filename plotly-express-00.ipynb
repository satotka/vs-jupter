{
 "nbformat": 4,
 "nbformat_minor": 2,
 "metadata": {
  "language_info": {
   "name": "python",
   "codemirror_mode": {
    "name": "ipython",
    "version": 3
   },
   "version": "3.7.4-final"
  },
  "orig_nbformat": 2,
  "file_extension": ".py",
  "mimetype": "text/x-python",
  "name": "python",
  "npconvert_exporter": "python",
  "pygments_lexer": "ipython3",
  "version": 3,
  "kernelspec": {
   "name": "python37464bitvenvvenv7c84bf66d1c3488bbf5f4c87725ef740",
   "display_name": "Python 3.7.4 64-bit ('venv': venv)"
  }
 },
 "cells": [
  {
   "cell_type": "markdown",
   "execution_count": null,
   "metadata": {},
   "outputs": [],
   "source": [
    "# Plotly Express in Python\n",
    "\n",
    "Plotly Express is a terse, consistent, high-level API for rapid data exploration and figure generation. \n",
    "\n",
    "https://plot.ly/python/plotly-express/\n",
    "\n",
    "## Plotly Express Arguments in Python \n",
    "\n",
    "https://plot.ly/python/px-arguments/\n",
    "\n",
    "## Styling Plotly Express Figures in Python \n",
    "\n",
    "https://plot.ly/python/styling-plotly-express/\n"
   ]
  }
 ]
}