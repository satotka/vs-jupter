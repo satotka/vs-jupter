{
 "nbformat": 4,
 "nbformat_minor": 2,
 "metadata": {
  "language_info": {
   "name": "python",
   "codemirror_mode": {
    "name": "ipython",
    "version": 3
   },
   "version": "3.7.4-final"
  },
  "orig_nbformat": 2,
  "file_extension": ".py",
  "mimetype": "text/x-python",
  "name": "python",
  "npconvert_exporter": "python",
  "pygments_lexer": "ipython3",
  "version": 3,
  "kernelspec": {
   "name": "python37464bitvenvvenv7c84bf66d1c3488bbf5f4c87725ef740",
   "display_name": "Python 3.7.4 64-bit ('venv': venv)"
  }
 },
 "cells": [
  {
   "source": [
    "import plotly.express as px\n",
    "df = px.data.tips()\n",
    "fig = px.scatter(df, x=\"total_bill\", y=\"tip\", facet_row=\"time\", facet_col=\"smoker\", color=\"day\", trendline=\"ols\")\n",
    "fig.show()"
   ],
   "cell_type": "code",
   "outputs": [
    {
     "output_type": "display_data",
     "data": {
      "application/vnd.plotly.v1+json": {
       "config": {
        "plotlyServerURL": "https://plot.ly"
       },
       "data": [
        {
         "hoverlabel": {
          "namelength": 0
         },
         "hovertemplate": "day=Sun<br>time=Dinner<br>smoker=No<br>total_bill=%{x}<br>tip=%{y}",
         "legendgroup": "Sun",
         "marker": {
          "color": "#636efa",
          "symbol": "circle"
         },
         "mode": "markers",
         "name": "Sun",
         "showlegend": true,
         "type": "scatter",
         "x": [
          16.99,
          10.34,
          21.01,
          23.68,
          24.59,
          25.29,
          8.77,
          26.88,
          15.04,
          14.78,
          10.27,
          35.26,
          15.42,
          18.43,
          14.83,
          21.58,
          10.33,
          16.29,
          16.97,
          17.46,
          13.94,
          9.68,
          30.4,
          18.29,
          22.23,
          32.4,
          28.55,
          18.04,
          12.54,
          10.29,
          34.81,
          9.94,
          25.56,
          19.49,
          38.07,
          23.95,
          25.71,
          17.31,
          29.93,
          14.07,
          13.13,
          17.26,
          24.55,
          19.77,
          29.85,
          48.17,
          25,
          13.39,
          16.49,
          21.5,
          12.66,
          16.21,
          13.81,
          24.52,
          20.76,
          31.71,
          20.69
         ],
         "xaxis": "x3",
         "y": [
          1.01,
          1.66,
          3.5,
          3.31,
          3.61,
          4.71,
          2,
          3.12,
          1.96,
          3.23,
          1.71,
          5,
          1.57,
          3,
          3.02,
          3.92,
          1.67,
          3.71,
          3.5,
          2.54,
          3.06,
          1.32,
          5.6,
          3,
          5,
          6,
          2.05,
          3,
          2.5,
          2.6,
          5.2,
          1.56,
          4.34,
          3.51,
          4,
          2.55,
          4,
          3.5,
          5.07,
          2.5,
          2,
          2.74,
          2,
          2,
          5.14,
          5,
          3.75,
          2.61,
          2,
          3.5,
          2.5,
          2,
          2,
          3.48,
          2.24,
          4.5,
          5
         ],
         "yaxis": "y3"
        },
        {
         "hoverlabel": {
          "namelength": 0
         },
         "hovertemplate": "<b>OLS trendline</b><br>tip = 0.111709 * total_bill + 0.877124<br>R<sup>2</sup>=0.549863<br><br>day=Sun<br>time=Dinner<br>smoker=No<br>total_bill=%{x}<br>tip=%{y} <b>(trend)</b>",
         "legendgroup": "Sun",
         "marker": {
          "color": "#636efa",
          "symbol": "circle"
         },
         "mode": "lines",
         "name": "Sun",
         "showlegend": false,
         "type": "scatter",
         "x": [
          8.77,
          9.68,
          9.94,
          10.27,
          10.29,
          10.33,
          10.34,
          12.54,
          12.66,
          13.13,
          13.39,
          13.81,
          13.94,
          14.07,
          14.78,
          14.83,
          15.04,
          15.42,
          16.21,
          16.29,
          16.49,
          16.97,
          16.99,
          17.26,
          17.31,
          17.46,
          18.04,
          18.29,
          18.43,
          19.49,
          19.77,
          20.69,
          20.76,
          21.01,
          21.5,
          21.58,
          22.23,
          23.68,
          23.95,
          24.52,
          24.55,
          24.59,
          25,
          25.29,
          25.56,
          25.71,
          26.88,
          28.55,
          29.85,
          29.93,
          30.4,
          31.71,
          32.4,
          34.81,
          35.26,
          38.07,
          48.17
         ],
         "xaxis": "x3",
         "y": [
          1.8568085380187955,
          1.9584633327585748,
          1.9875075598270833,
          2.024371386490959,
          2.0266055578039213,
          2.031073900429846,
          2.032190986086327,
          2.277949830512167,
          2.29135485838994,
          2.3438578842445517,
          2.37290211131306,
          2.4198197088852655,
          2.43434182241952,
          2.4488639359537743,
          2.5281770175639315,
          2.533762445846337,
          2.55722124463244,
          2.599670499578721,
          2.687920266440728,
          2.6968569516925767,
          2.719198664822198,
          2.7728187763332905,
          2.7750529476462527,
          2.805214260371242,
          2.8107996886536477,
          2.827555973500864,
          2.8923469415767675,
          2.9202740829887945,
          2.9359132821795297,
          3.0543243617665254,
          3.085602760147996,
          3.1883746405442572,
          3.196194240139625,
          3.224121381551652,
          3.278858578719225,
          3.2877952639710735,
          3.3604058316423453,
          3.522383251832103,
          3.5525445645570928,
          3.6162184469765144,
          3.619569703945958,
          3.624038046571882,
          3.6698385584876068,
          3.702234042525559,
          3.7323953552505484,
          3.7491516400977645,
          3.879850661906052,
          4.066403966538394,
          4.211625101880937,
          4.220561787132786,
          4.273064812987396,
          4.41940303398642,
          4.496481944283615,
          4.7656995874955586,
          4.815968442037207,
          5.129869511508394,
          6.258126024554296
         ],
         "yaxis": "y3"
        },
        {
         "hoverlabel": {
          "namelength": 0
         },
         "hovertemplate": "day=Sun<br>time=Dinner<br>smoker=Yes<br>total_bill=%{x}<br>tip=%{y}",
         "legendgroup": "Sun",
         "marker": {
          "color": "#636efa",
          "symbol": "circle"
         },
         "mode": "markers",
         "name": "Sun",
         "showlegend": false,
         "type": "scatter",
         "x": [
          17.51,
          7.25,
          31.85,
          16.82,
          32.9,
          17.89,
          14.48,
          9.6,
          34.63,
          34.65,
          23.33,
          45.35,
          23.17,
          40.55,
          20.9,
          30.46,
          18.15,
          23.1,
          15.69
         ],
         "xaxis": "x4",
         "y": [
          3,
          5.15,
          3.18,
          4,
          3.11,
          2,
          2,
          4,
          3.55,
          3.68,
          5.65,
          3.5,
          6.5,
          3,
          3.5,
          2,
          3.5,
          4,
          1.5
         ],
         "yaxis": "y4"
        },
        {
         "hoverlabel": {
          "namelength": 0
         },
         "hovertemplate": "<b>OLS trendline</b><br>tip = -0.0107171 * total_bill + 3.77534<br>R<sup>2</sup>=0.007875<br><br>day=Sun<br>time=Dinner<br>smoker=Yes<br>total_bill=%{x}<br>tip=%{y} <b>(trend)</b>",
         "legendgroup": "Sun",
         "marker": {
          "color": "#636efa",
          "symbol": "circle"
         },
         "mode": "lines",
         "name": "Sun",
         "showlegend": false,
         "type": "scatter",
         "x": [
          7.25,
          9.6,
          14.48,
          15.69,
          16.82,
          17.51,
          17.89,
          18.15,
          20.9,
          23.1,
          23.17,
          23.33,
          30.46,
          31.85,
          32.9,
          34.63,
          34.65,
          40.55,
          45.35
         ],
         "xaxis": "x4",
         "y": [
          3.6976401621288417,
          3.672454896353243,
          3.6201552806149775,
          3.607187548024137,
          3.5950771861831043,
          3.5876823634660138,
          3.5836098524044275,
          3.5808233974675527,
          3.5513512779429153,
          3.5277735823232055,
          3.527023382917124,
          3.5253086414175088,
          3.448895473340904,
          3.4339986565629967,
          3.4227456654717714,
          3.4042050230071816,
          3.4039906803197297,
          3.340759587521417,
          3.2893173425329594
         ],
         "yaxis": "y4"
        },
        {
         "hoverlabel": {
          "namelength": 0
         },
         "hovertemplate": "day=Sat<br>time=Dinner<br>smoker=No<br>total_bill=%{x}<br>tip=%{y}",
         "legendgroup": "Sat",
         "marker": {
          "color": "#EF553B",
          "symbol": "circle"
         },
         "mode": "markers",
         "name": "Sat",
         "showlegend": true,
         "type": "scatter",
         "x": [
          20.65,
          17.92,
          20.29,
          15.77,
          39.42,
          19.82,
          17.81,
          13.37,
          12.69,
          21.7,
          19.65,
          9.55,
          18.35,
          15.06,
          20.69,
          17.78,
          24.06,
          16.31,
          16.93,
          18.69,
          31.27,
          16.04,
          26.41,
          48.27,
          17.59,
          20.08,
          16.45,
          20.23,
          12.02,
          17.07,
          14.73,
          10.51,
          20.92,
          18.24,
          14,
          7.25,
          48.33,
          20.45,
          13.28,
          11.61,
          10.77,
          10.07,
          35.83,
          29.03,
          17.82
         ],
         "xaxis": "x3",
         "y": [
          3.35,
          4.08,
          2.75,
          2.23,
          7.58,
          3.18,
          2.34,
          2,
          2,
          4.3,
          3,
          1.45,
          2.5,
          3,
          2.45,
          3.27,
          3.6,
          2,
          3.07,
          2.31,
          5,
          2.24,
          1.5,
          6.73,
          2.64,
          3.15,
          2.47,
          2.01,
          1.97,
          3,
          2.2,
          1.25,
          4.08,
          3.76,
          3,
          1,
          9,
          3,
          2.72,
          3.39,
          1.47,
          1.25,
          4.67,
          5.92,
          1.75
         ],
         "yaxis": "y3"
        },
        {
         "hoverlabel": {
          "namelength": 0
         },
         "hovertemplate": "<b>OLS trendline</b><br>tip = 0.16093 * total_bill + -0.0612781<br>R<sup>2</sup>=0.767496<br><br>day=Sat<br>time=Dinner<br>smoker=No<br>total_bill=%{x}<br>tip=%{y} <b>(trend)</b>",
         "legendgroup": "Sat",
         "marker": {
          "color": "#EF553B",
          "symbol": "circle"
         },
         "mode": "lines",
         "name": "Sat",
         "showlegend": false,
         "type": "scatter",
         "x": [
          7.25,
          9.55,
          10.07,
          10.51,
          10.77,
          11.61,
          12.02,
          12.69,
          13.28,
          13.37,
          14,
          14.73,
          15.06,
          15.77,
          16.04,
          16.31,
          16.45,
          16.93,
          17.07,
          17.59,
          17.78,
          17.81,
          17.82,
          17.92,
          18.24,
          18.35,
          18.69,
          19.65,
          19.82,
          20.08,
          20.23,
          20.29,
          20.45,
          20.65,
          20.69,
          20.92,
          21.7,
          24.06,
          26.41,
          29.03,
          31.27,
          35.83,
          39.42,
          48.27,
          48.33
         ],
         "xaxis": "x3",
         "y": [
          1.1054633239385225,
          1.475601984301194,
          1.559285507513624,
          1.6300946425395264,
          1.6719364041457414,
          1.8071174801042822,
          1.8730987195602367,
          1.9809217206224061,
          2.075870333498048,
          2.0903540202078914,
          2.1917398271767974,
          2.309218619378863,
          2.3623254706482895,
          2.476585665803723,
          2.5200367259332537,
          2.5634877860627845,
          2.586017965389208,
          2.6632642945083744,
          2.685794473834798,
          2.769477997047228,
          2.8000546689902315,
          2.804882564560179,
          2.806491863083495,
          2.822584848316655,
          2.8740824010627652,
          2.8917846848192417,
          2.9465008346119843,
          3.100993492850316,
          3.1283515677466878,
          3.1701933293529025,
          3.1943328072026422,
          3.203988598342538,
          3.2297373747155933,
          3.2619233451819123,
          3.268360539275177,
          3.305374405311444,
          3.4308996901300888,
          3.810694141632656,
          4.188879294611907,
          4.61051550772069,
          4.970998376943466,
          5.7048385035755445,
          6.282576673445975,
          7.706805866580603,
          7.716461657720497
         ],
         "yaxis": "y3"
        },
        {
         "hoverlabel": {
          "namelength": 0
         },
         "hovertemplate": "day=Sat<br>time=Dinner<br>smoker=Yes<br>total_bill=%{x}<br>tip=%{y}",
         "legendgroup": "Sat",
         "marker": {
          "color": "#EF553B",
          "symbol": "circle"
         },
         "mode": "markers",
         "name": "Sat",
         "showlegend": false,
         "type": "scatter",
         "x": [
          38.01,
          11.24,
          20.29,
          13.81,
          11.02,
          18.29,
          3.07,
          15.01,
          26.86,
          25.28,
          17.92,
          44.3,
          22.42,
          15.36,
          20.49,
          25.21,
          14.31,
          10.59,
          10.63,
          50.81,
          15.81,
          26.59,
          38.73,
          24.27,
          12.76,
          30.06,
          25.89,
          13.27,
          28.17,
          12.9,
          28.15,
          11.59,
          7.74,
          30.14,
          22.12,
          24.01,
          15.69,
          15.53,
          12.6,
          32.83,
          27.18,
          22.67
         ],
         "xaxis": "x4",
         "y": [
          3,
          1.76,
          3.21,
          2,
          1.98,
          3.76,
          1,
          2.09,
          3.14,
          5,
          3.08,
          2.5,
          3.48,
          1.64,
          4.06,
          4.29,
          4,
          1.61,
          2,
          10,
          3.16,
          3.41,
          3,
          2.03,
          2.23,
          2,
          5.16,
          2.5,
          6.5,
          1.1,
          3,
          1.5,
          1.44,
          3.09,
          2.88,
          2,
          3,
          3,
          1,
          1.17,
          2,
          2
         ],
         "yaxis": "y4"
        },
        {
         "hoverlabel": {
          "namelength": 0
         },
         "hovertemplate": "<b>OLS trendline</b><br>tip = 0.0908935 * total_bill + 0.941566<br>R<sup>2</sup>=0.315040<br><br>day=Sat<br>time=Dinner<br>smoker=Yes<br>total_bill=%{x}<br>tip=%{y} <b>(trend)</b>",
         "legendgroup": "Sat",
         "marker": {
          "color": "#EF553B",
          "symbol": "circle"
         },
         "mode": "lines",
         "name": "Sat",
         "showlegend": false,
         "type": "scatter",
         "x": [
          3.07,
          7.74,
          10.59,
          10.63,
          11.02,
          11.24,
          11.59,
          12.6,
          12.76,
          12.9,
          13.27,
          13.81,
          14.31,
          15.01,
          15.36,
          15.53,
          15.69,
          15.81,
          17.92,
          18.29,
          20.29,
          20.49,
          22.12,
          22.42,
          22.67,
          24.01,
          24.27,
          25.21,
          25.28,
          25.89,
          26.59,
          26.86,
          27.18,
          28.15,
          28.17,
          30.06,
          30.14,
          32.83,
          38.01,
          38.73,
          44.3,
          50.81
         ],
         "xaxis": "x4",
         "y": [
          1.2206090488624528,
          1.6450815617516594,
          1.9041279561272995,
          1.9077636949957295,
          1.9432121489629222,
          1.9632087127392874,
          1.9950214278380503,
          2.0868238342659087,
          2.101366789739629,
          2.114091875779134,
          2.147722460312112,
          2.1968049350359173,
          2.2422516708912927,
          2.305877101088818,
          2.3376898161875808,
          2.3531417063784086,
          2.367684661852129,
          2.378591878457419,
          2.570377103767103,
          2.604007688300081,
          2.7857946317215827,
          2.8039733260637325,
          2.952129684952257,
          2.979397726465482,
          3.0021210943931695,
          3.123918346485576,
          3.1475506491303715,
          3.2329905125384775,
          3.2393530555582295,
          3.294798073301788,
          3.3584235034993135,
          3.3829647408612162,
          3.4120506518086566,
          3.500217319368084,
          3.5020351888022994,
          3.6738238503356184,
          3.6810953280724785,
          3.9255987669743986,
          4.396426950436088,
          4.461870250067828,
          4.968146887496711,
          5.559863388333699
         ],
         "yaxis": "y4"
        },
        {
         "hoverlabel": {
          "namelength": 0
         },
         "hovertemplate": "day=Thur<br>time=Dinner<br>smoker=No<br>total_bill=%{x}<br>tip=%{y}",
         "legendgroup": "Thur",
         "marker": {
          "color": "#00cc96",
          "symbol": "circle"
         },
         "mode": "markers",
         "name": "Thur",
         "showlegend": true,
         "type": "scatter",
         "x": [
          18.78
         ],
         "xaxis": "x3",
         "y": [
          3
         ],
         "yaxis": "y3"
        },
        {
         "hoverlabel": {
          "namelength": 0
         },
         "hovertemplate": "day=Thur<br>time=Dinner<br>smoker=No",
         "legendgroup": "Thur",
         "marker": {
          "color": "#00cc96",
          "symbol": "circle"
         },
         "mode": "lines",
         "name": "Thur",
         "showlegend": false,
         "type": "scatter",
         "xaxis": "x3",
         "yaxis": "y3"
        },
        {
         "hoverlabel": {
          "namelength": 0
         },
         "hovertemplate": "day=Thur<br>time=Lunch<br>smoker=No<br>total_bill=%{x}<br>tip=%{y}",
         "legendgroup": "Thur",
         "marker": {
          "color": "#00cc96",
          "symbol": "circle"
         },
         "mode": "markers",
         "name": "Thur",
         "showlegend": false,
         "type": "scatter",
         "x": [
          27.2,
          22.76,
          17.29,
          16.66,
          10.07,
          15.98,
          34.83,
          13.03,
          18.28,
          24.71,
          21.16,
          10.65,
          12.43,
          24.08,
          11.69,
          13.42,
          14.26,
          15.95,
          12.48,
          29.8,
          8.52,
          14.52,
          11.38,
          22.82,
          19.08,
          20.27,
          11.17,
          12.26,
          18.26,
          8.51,
          10.33,
          14.15,
          13.16,
          17.47,
          34.3,
          41.19,
          27.05,
          16.43,
          8.35,
          18.64,
          11.87,
          9.78,
          7.51,
          7.56
         ],
         "xaxis": "x",
         "y": [
          4,
          3,
          2.71,
          3.4,
          1.83,
          2.03,
          5.17,
          2,
          4,
          5.85,
          3,
          1.5,
          1.8,
          2.92,
          2.31,
          1.68,
          2.5,
          2,
          2.52,
          4.2,
          1.48,
          2,
          2,
          2.18,
          1.5,
          2.83,
          1.5,
          2,
          3.25,
          1.25,
          2,
          2,
          2.75,
          3.5,
          6.7,
          5,
          5,
          2.3,
          1.5,
          1.36,
          1.63,
          1.73,
          2,
          1.44
         ],
         "yaxis": "y"
        },
        {
         "hoverlabel": {
          "namelength": 0
         },
         "hovertemplate": "<b>OLS trendline</b><br>tip = 0.139041 * total_bill + 0.292202<br>R<sup>2</sup>=0.700600<br><br>day=Thur<br>time=Lunch<br>smoker=No<br>total_bill=%{x}<br>tip=%{y} <b>(trend)</b>",
         "legendgroup": "Thur",
         "marker": {
          "color": "#00cc96",
          "symbol": "circle"
         },
         "mode": "lines",
         "name": "Thur",
         "showlegend": false,
         "type": "scatter",
         "x": [
          7.51,
          7.56,
          8.35,
          8.51,
          8.52,
          9.78,
          10.07,
          10.33,
          10.65,
          11.17,
          11.38,
          11.69,
          11.87,
          12.26,
          12.43,
          12.48,
          13.03,
          13.16,
          13.42,
          14.15,
          14.26,
          14.52,
          15.95,
          15.98,
          16.43,
          16.66,
          17.29,
          17.47,
          18.26,
          18.28,
          18.64,
          19.08,
          20.27,
          21.16,
          22.76,
          22.82,
          24.08,
          24.71,
          27.05,
          27.2,
          29.8,
          34.3,
          34.83,
          41.19
         ],
         "xaxis": "x",
         "y": [
          1.3364023693233607,
          1.343354432401006,
          1.453197029027803,
          1.475443630876268,
          1.476834043491797,
          1.6520260330484604,
          1.6923479988988035,
          1.7284987269025596,
          1.77299193059949,
          1.8452933866070016,
          1.8744920515331123,
          1.9175948426145135,
          1.9426222696940367,
          1.9968483616996706,
          2.020485376163665,
          2.0274374392413104,
          2.1039101330954093,
          2.1219854970972873,
          2.1581362251010434,
          2.259636346034666,
          2.2749308848054857,
          2.3110816128092413,
          2.509910616829899,
          2.514081854676486,
          2.576650422375294,
          2.608629912532463,
          2.6962259073107946,
          2.721253334390318,
          2.831095931017115,
          2.833876756248173,
          2.88393161040722,
          2.9451097654904985,
          3.1105688667384586,
          3.234315589520546,
          3.456781608005198,
          3.4651240836983725,
          3.6403160732550353,
          3.7279120680333673,
          4.053268620067171,
          4.074124809300106,
          4.435632089337666,
          5.0613177663257485,
          5.13500963494879,
          6.01931205842528
         ],
         "yaxis": "y"
        },
        {
         "hoverlabel": {
          "namelength": 0
         },
         "hovertemplate": "day=Thur<br>time=Lunch<br>smoker=Yes<br>total_bill=%{x}<br>tip=%{y}",
         "legendgroup": "Thur",
         "marker": {
          "color": "#00cc96",
          "symbol": "circle"
         },
         "mode": "markers",
         "name": "Thur",
         "showlegend": false,
         "type": "scatter",
         "x": [
          19.44,
          32.68,
          16,
          19.81,
          28.44,
          15.48,
          16.58,
          10.34,
          43.11,
          13,
          13.51,
          18.71,
          12.74,
          13,
          16.4,
          20.53,
          16.47
         ],
         "xaxis": "x2",
         "y": [
          3,
          5,
          2,
          4.19,
          2.56,
          2.02,
          4,
          2,
          5,
          2,
          2,
          4,
          2.01,
          2,
          2.5,
          4,
          3.23
         ],
         "yaxis": "y2"
        },
        {
         "hoverlabel": {
          "namelength": 0
         },
         "hovertemplate": "<b>OLS trendline</b><br>tip = 0.0990461 * total_bill + 1.12925<br>R<sup>2</sup>=0.552344<br><br>day=Thur<br>time=Lunch<br>smoker=Yes<br>total_bill=%{x}<br>tip=%{y} <b>(trend)</b>",
         "legendgroup": "Thur",
         "marker": {
          "color": "#00cc96",
          "symbol": "circle"
         },
         "mode": "lines",
         "name": "Thur",
         "showlegend": false,
         "type": "scatter",
         "x": [
          10.34,
          12.74,
          13,
          13,
          13.51,
          15.48,
          16,
          16.4,
          16.47,
          16.58,
          18.71,
          19.44,
          19.81,
          20.53,
          28.44,
          32.68,
          43.11
         ],
         "xaxis": "x2",
         "y": [
          2.1533836248599556,
          2.3910942994958306,
          2.416846289248051,
          2.416846289248051,
          2.467359807608174,
          2.662480653038455,
          2.7139846325428945,
          2.75360307831554,
          2.7605363063257533,
          2.7714313789132308,
          2.98239960265257,
          3.0547032661876488,
          3.091350328527346,
          3.162663530918109,
          3.9461182960721803,
          4.366073821262226,
          5.399124794783966
         ],
         "yaxis": "y2"
        },
        {
         "hoverlabel": {
          "namelength": 0
         },
         "hovertemplate": "day=Fri<br>time=Dinner<br>smoker=No<br>total_bill=%{x}<br>tip=%{y}",
         "legendgroup": "Fri",
         "marker": {
          "color": "#ab63fa",
          "symbol": "circle"
         },
         "mode": "markers",
         "name": "Fri",
         "showlegend": true,
         "type": "scatter",
         "x": [
          22.49,
          22.75,
          12.46
         ],
         "xaxis": "x3",
         "y": [
          3.5,
          3.25,
          1.5
         ],
         "yaxis": "y3"
        },
        {
         "hoverlabel": {
          "namelength": 0
         },
         "hovertemplate": "<b>OLS trendline</b><br>tip = 0.183985 * total_bill + -0.788637<br>R<sup>2</sup>=0.981316<br><br>day=Fri<br>time=Dinner<br>smoker=No<br>total_bill=%{x}<br>tip=%{y} <b>(trend)</b>",
         "legendgroup": "Fri",
         "marker": {
          "color": "#ab63fa",
          "symbol": "circle"
         },
         "mode": "lines",
         "name": "Fri",
         "showlegend": false,
         "type": "scatter",
         "x": [
          12.46,
          22.49,
          22.75
         ],
         "xaxis": "x3",
         "y": [
          1.5038108936900336,
          3.3491765535752163,
          3.3970125527347528
         ],
         "yaxis": "y3"
        },
        {
         "hoverlabel": {
          "namelength": 0
         },
         "hovertemplate": "day=Fri<br>time=Dinner<br>smoker=Yes<br>total_bill=%{x}<br>tip=%{y}",
         "legendgroup": "Fri",
         "marker": {
          "color": "#ab63fa",
          "symbol": "circle"
         },
         "mode": "markers",
         "name": "Fri",
         "showlegend": false,
         "type": "scatter",
         "x": [
          28.97,
          5.75,
          16.32,
          40.17,
          27.28,
          12.03,
          21.01,
          11.35,
          15.38
         ],
         "xaxis": "x4",
         "y": [
          3,
          1,
          4.3,
          4.73,
          4,
          1.5,
          3,
          2.5,
          3
         ],
         "yaxis": "y4"
        },
        {
         "hoverlabel": {
          "namelength": 0
         },
         "hovertemplate": "<b>OLS trendline</b><br>tip = 0.089588 * total_bill + 1.22889<br>R<sup>2</sup>=0.604292<br><br>day=Fri<br>time=Dinner<br>smoker=Yes<br>total_bill=%{x}<br>tip=%{y} <b>(trend)</b>",
         "legendgroup": "Fri",
         "marker": {
          "color": "#ab63fa",
          "symbol": "circle"
         },
         "mode": "lines",
         "name": "Fri",
         "showlegend": false,
         "type": "scatter",
         "x": [
          5.75,
          11.35,
          12.03,
          15.38,
          16.32,
          21.01,
          27.28,
          28.97,
          40.17
         ],
         "xaxis": "x4",
         "y": [
          1.7440246950916172,
          2.2457174890793064,
          2.30663732834924,
          2.60675712475259,
          2.690969843743381,
          3.1111375587080707,
          3.67285431197643,
          3.8242580301620004,
          4.82764361813738
         ],
         "yaxis": "y4"
        },
        {
         "hoverlabel": {
          "namelength": 0
         },
         "hovertemplate": "day=Fri<br>time=Lunch<br>smoker=No<br>total_bill=%{x}<br>tip=%{y}",
         "legendgroup": "Fri",
         "marker": {
          "color": "#ab63fa",
          "symbol": "circle"
         },
         "mode": "markers",
         "name": "Fri",
         "showlegend": false,
         "type": "scatter",
         "x": [
          15.98
         ],
         "xaxis": "x",
         "y": [
          3
         ],
         "yaxis": "y"
        },
        {
         "hoverlabel": {
          "namelength": 0
         },
         "hovertemplate": "day=Fri<br>time=Lunch<br>smoker=No",
         "legendgroup": "Fri",
         "marker": {
          "color": "#ab63fa",
          "symbol": "circle"
         },
         "mode": "lines",
         "name": "Fri",
         "showlegend": false,
         "type": "scatter",
         "xaxis": "x",
         "yaxis": "y"
        },
        {
         "hoverlabel": {
          "namelength": 0
         },
         "hovertemplate": "day=Fri<br>time=Lunch<br>smoker=Yes<br>total_bill=%{x}<br>tip=%{y}",
         "legendgroup": "Fri",
         "marker": {
          "color": "#ab63fa",
          "symbol": "circle"
         },
         "mode": "markers",
         "name": "Fri",
         "showlegend": false,
         "type": "scatter",
         "x": [
          12.16,
          13.42,
          8.58,
          13.42,
          16.27,
          10.09
         ],
         "xaxis": "x2",
         "y": [
          2.2,
          3.48,
          1.92,
          1.58,
          2.5,
          2
         ],
         "yaxis": "y2"
        },
        {
         "hoverlabel": {
          "namelength": 0
         },
         "hovertemplate": "<b>OLS trendline</b><br>tip = 0.091941 * total_bill + 1.14698<br>R<sup>2</sup>=0.142666<br><br>day=Fri<br>time=Lunch<br>smoker=Yes<br>total_bill=%{x}<br>tip=%{y} <b>(trend)</b>",
         "legendgroup": "Fri",
         "marker": {
          "color": "#ab63fa",
          "symbol": "circle"
         },
         "mode": "lines",
         "name": "Fri",
         "showlegend": false,
         "type": "scatter",
         "x": [
          8.58,
          10.09,
          12.16,
          13.42,
          13.42,
          16.27
         ],
         "xaxis": "x2",
         "y": [
          1.9358343481143097,
          2.07466519433356,
          2.264982976899022,
          2.3808285836779985,
          2.3808285836779985,
          2.6428603132971134
         ],
         "yaxis": "y2"
        }
       ],
       "layout": {
        "annotations": [
         {
          "font": {},
          "showarrow": false,
          "text": "smoker=No",
          "x": 0.24,
          "xanchor": "center",
          "xref": "paper",
          "y": 1,
          "yanchor": "bottom",
          "yref": "paper"
         },
         {
          "font": {},
          "showarrow": false,
          "text": "smoker=Yes",
          "x": 0.74,
          "xanchor": "center",
          "xref": "paper",
          "y": 1,
          "yanchor": "bottom",
          "yref": "paper"
         },
         {
          "font": {},
          "showarrow": false,
          "text": "time=Lunch",
          "textangle": 90,
          "x": 0.98,
          "xanchor": "left",
          "xref": "paper",
          "y": 0.2425,
          "yanchor": "middle",
          "yref": "paper"
         },
         {
          "font": {},
          "showarrow": false,
          "text": "time=Dinner",
          "textangle": 90,
          "x": 0.98,
          "xanchor": "left",
          "xref": "paper",
          "y": 0.7575000000000001,
          "yanchor": "middle",
          "yref": "paper"
         }
        ],
        "legend": {
         "title": {
          "text": "day"
         },
         "tracegroupgap": 0
        },
        "margin": {
         "t": 60
        },
        "template": {
         "data": {
          "bar": [
           {
            "error_x": {
             "color": "#2a3f5f"
            },
            "error_y": {
             "color": "#2a3f5f"
            },
            "marker": {
             "line": {
              "color": "#E5ECF6",
              "width": 0.5
             }
            },
            "type": "bar"
           }
          ],
          "barpolar": [
           {
            "marker": {
             "line": {
              "color": "#E5ECF6",
              "width": 0.5
             }
            },
            "type": "barpolar"
           }
          ],
          "carpet": [
           {
            "aaxis": {
             "endlinecolor": "#2a3f5f",
             "gridcolor": "white",
             "linecolor": "white",
             "minorgridcolor": "white",
             "startlinecolor": "#2a3f5f"
            },
            "baxis": {
             "endlinecolor": "#2a3f5f",
             "gridcolor": "white",
             "linecolor": "white",
             "minorgridcolor": "white",
             "startlinecolor": "#2a3f5f"
            },
            "type": "carpet"
           }
          ],
          "choropleth": [
           {
            "colorbar": {
             "outlinewidth": 0,
             "ticks": ""
            },
            "type": "choropleth"
           }
          ],
          "contour": [
           {
            "colorbar": {
             "outlinewidth": 0,
             "ticks": ""
            },
            "colorscale": [
             [
              0,
              "#0d0887"
             ],
             [
              0.1111111111111111,
              "#46039f"
             ],
             [
              0.2222222222222222,
              "#7201a8"
             ],
             [
              0.3333333333333333,
              "#9c179e"
             ],
             [
              0.4444444444444444,
              "#bd3786"
             ],
             [
              0.5555555555555556,
              "#d8576b"
             ],
             [
              0.6666666666666666,
              "#ed7953"
             ],
             [
              0.7777777777777778,
              "#fb9f3a"
             ],
             [
              0.8888888888888888,
              "#fdca26"
             ],
             [
              1,
              "#f0f921"
             ]
            ],
            "type": "contour"
           }
          ],
          "contourcarpet": [
           {
            "colorbar": {
             "outlinewidth": 0,
             "ticks": ""
            },
            "type": "contourcarpet"
           }
          ],
          "heatmap": [
           {
            "colorbar": {
             "outlinewidth": 0,
             "ticks": ""
            },
            "colorscale": [
             [
              0,
              "#0d0887"
             ],
             [
              0.1111111111111111,
              "#46039f"
             ],
             [
              0.2222222222222222,
              "#7201a8"
             ],
             [
              0.3333333333333333,
              "#9c179e"
             ],
             [
              0.4444444444444444,
              "#bd3786"
             ],
             [
              0.5555555555555556,
              "#d8576b"
             ],
             [
              0.6666666666666666,
              "#ed7953"
             ],
             [
              0.7777777777777778,
              "#fb9f3a"
             ],
             [
              0.8888888888888888,
              "#fdca26"
             ],
             [
              1,
              "#f0f921"
             ]
            ],
            "type": "heatmap"
           }
          ],
          "heatmapgl": [
           {
            "colorbar": {
             "outlinewidth": 0,
             "ticks": ""
            },
            "colorscale": [
             [
              0,
              "#0d0887"
             ],
             [
              0.1111111111111111,
              "#46039f"
             ],
             [
              0.2222222222222222,
              "#7201a8"
             ],
             [
              0.3333333333333333,
              "#9c179e"
             ],
             [
              0.4444444444444444,
              "#bd3786"
             ],
             [
              0.5555555555555556,
              "#d8576b"
             ],
             [
              0.6666666666666666,
              "#ed7953"
             ],
             [
              0.7777777777777778,
              "#fb9f3a"
             ],
             [
              0.8888888888888888,
              "#fdca26"
             ],
             [
              1,
              "#f0f921"
             ]
            ],
            "type": "heatmapgl"
           }
          ],
          "histogram": [
           {
            "marker": {
             "colorbar": {
              "outlinewidth": 0,
              "ticks": ""
             }
            },
            "type": "histogram"
           }
          ],
          "histogram2d": [
           {
            "colorbar": {
             "outlinewidth": 0,
             "ticks": ""
            },
            "colorscale": [
             [
              0,
              "#0d0887"
             ],
             [
              0.1111111111111111,
              "#46039f"
             ],
             [
              0.2222222222222222,
              "#7201a8"
             ],
             [
              0.3333333333333333,
              "#9c179e"
             ],
             [
              0.4444444444444444,
              "#bd3786"
             ],
             [
              0.5555555555555556,
              "#d8576b"
             ],
             [
              0.6666666666666666,
              "#ed7953"
             ],
             [
              0.7777777777777778,
              "#fb9f3a"
             ],
             [
              0.8888888888888888,
              "#fdca26"
             ],
             [
              1,
              "#f0f921"
             ]
            ],
            "type": "histogram2d"
           }
          ],
          "histogram2dcontour": [
           {
            "colorbar": {
             "outlinewidth": 0,
             "ticks": ""
            },
            "colorscale": [
             [
              0,
              "#0d0887"
             ],
             [
              0.1111111111111111,
              "#46039f"
             ],
             [
              0.2222222222222222,
              "#7201a8"
             ],
             [
              0.3333333333333333,
              "#9c179e"
             ],
             [
              0.4444444444444444,
              "#bd3786"
             ],
             [
              0.5555555555555556,
              "#d8576b"
             ],
             [
              0.6666666666666666,
              "#ed7953"
             ],
             [
              0.7777777777777778,
              "#fb9f3a"
             ],
             [
              0.8888888888888888,
              "#fdca26"
             ],
             [
              1,
              "#f0f921"
             ]
            ],
            "type": "histogram2dcontour"
           }
          ],
          "mesh3d": [
           {
            "colorbar": {
             "outlinewidth": 0,
             "ticks": ""
            },
            "type": "mesh3d"
           }
          ],
          "parcoords": [
           {
            "line": {
             "colorbar": {
              "outlinewidth": 0,
              "ticks": ""
             }
            },
            "type": "parcoords"
           }
          ],
          "pie": [
           {
            "automargin": true,
            "type": "pie"
           }
          ],
          "scatter": [
           {
            "marker": {
             "colorbar": {
              "outlinewidth": 0,
              "ticks": ""
             }
            },
            "type": "scatter"
           }
          ],
          "scatter3d": [
           {
            "line": {
             "colorbar": {
              "outlinewidth": 0,
              "ticks": ""
             }
            },
            "marker": {
             "colorbar": {
              "outlinewidth": 0,
              "ticks": ""
             }
            },
            "type": "scatter3d"
           }
          ],
          "scattercarpet": [
           {
            "marker": {
             "colorbar": {
              "outlinewidth": 0,
              "ticks": ""
             }
            },
            "type": "scattercarpet"
           }
          ],
          "scattergeo": [
           {
            "marker": {
             "colorbar": {
              "outlinewidth": 0,
              "ticks": ""
             }
            },
            "type": "scattergeo"
           }
          ],
          "scattergl": [
           {
            "marker": {
             "colorbar": {
              "outlinewidth": 0,
              "ticks": ""
             }
            },
            "type": "scattergl"
           }
          ],
          "scattermapbox": [
           {
            "marker": {
             "colorbar": {
              "outlinewidth": 0,
              "ticks": ""
             }
            },
            "type": "scattermapbox"
           }
          ],
          "scatterpolar": [
           {
            "marker": {
             "colorbar": {
              "outlinewidth": 0,
              "ticks": ""
             }
            },
            "type": "scatterpolar"
           }
          ],
          "scatterpolargl": [
           {
            "marker": {
             "colorbar": {
              "outlinewidth": 0,
              "ticks": ""
             }
            },
            "type": "scatterpolargl"
           }
          ],
          "scatterternary": [
           {
            "marker": {
             "colorbar": {
              "outlinewidth": 0,
              "ticks": ""
             }
            },
            "type": "scatterternary"
           }
          ],
          "surface": [
           {
            "colorbar": {
             "outlinewidth": 0,
             "ticks": ""
            },
            "colorscale": [
             [
              0,
              "#0d0887"
             ],
             [
              0.1111111111111111,
              "#46039f"
             ],
             [
              0.2222222222222222,
              "#7201a8"
             ],
             [
              0.3333333333333333,
              "#9c179e"
             ],
             [
              0.4444444444444444,
              "#bd3786"
             ],
             [
              0.5555555555555556,
              "#d8576b"
             ],
             [
              0.6666666666666666,
              "#ed7953"
             ],
             [
              0.7777777777777778,
              "#fb9f3a"
             ],
             [
              0.8888888888888888,
              "#fdca26"
             ],
             [
              1,
              "#f0f921"
             ]
            ],
            "type": "surface"
           }
          ],
          "table": [
           {
            "cells": {
             "fill": {
              "color": "#EBF0F8"
             },
             "line": {
              "color": "white"
             }
            },
            "header": {
             "fill": {
              "color": "#C8D4E3"
             },
             "line": {
              "color": "white"
             }
            },
            "type": "table"
           }
          ]
         },
         "layout": {
          "annotationdefaults": {
           "arrowcolor": "#2a3f5f",
           "arrowhead": 0,
           "arrowwidth": 1
          },
          "coloraxis": {
           "colorbar": {
            "outlinewidth": 0,
            "ticks": ""
           }
          },
          "colorscale": {
           "diverging": [
            [
             0,
             "#8e0152"
            ],
            [
             0.1,
             "#c51b7d"
            ],
            [
             0.2,
             "#de77ae"
            ],
            [
             0.3,
             "#f1b6da"
            ],
            [
             0.4,
             "#fde0ef"
            ],
            [
             0.5,
             "#f7f7f7"
            ],
            [
             0.6,
             "#e6f5d0"
            ],
            [
             0.7,
             "#b8e186"
            ],
            [
             0.8,
             "#7fbc41"
            ],
            [
             0.9,
             "#4d9221"
            ],
            [
             1,
             "#276419"
            ]
           ],
           "sequential": [
            [
             0,
             "#0d0887"
            ],
            [
             0.1111111111111111,
             "#46039f"
            ],
            [
             0.2222222222222222,
             "#7201a8"
            ],
            [
             0.3333333333333333,
             "#9c179e"
            ],
            [
             0.4444444444444444,
             "#bd3786"
            ],
            [
             0.5555555555555556,
             "#d8576b"
            ],
            [
             0.6666666666666666,
             "#ed7953"
            ],
            [
             0.7777777777777778,
             "#fb9f3a"
            ],
            [
             0.8888888888888888,
             "#fdca26"
            ],
            [
             1,
             "#f0f921"
            ]
           ],
           "sequentialminus": [
            [
             0,
             "#0d0887"
            ],
            [
             0.1111111111111111,
             "#46039f"
            ],
            [
             0.2222222222222222,
             "#7201a8"
            ],
            [
             0.3333333333333333,
             "#9c179e"
            ],
            [
             0.4444444444444444,
             "#bd3786"
            ],
            [
             0.5555555555555556,
             "#d8576b"
            ],
            [
             0.6666666666666666,
             "#ed7953"
            ],
            [
             0.7777777777777778,
             "#fb9f3a"
            ],
            [
             0.8888888888888888,
             "#fdca26"
            ],
            [
             1,
             "#f0f921"
            ]
           ]
          },
          "colorway": [
           "#636efa",
           "#EF553B",
           "#00cc96",
           "#ab63fa",
           "#FFA15A",
           "#19d3f3",
           "#FF6692",
           "#B6E880",
           "#FF97FF",
           "#FECB52"
          ],
          "font": {
           "color": "#2a3f5f"
          },
          "geo": {
           "bgcolor": "white",
           "lakecolor": "white",
           "landcolor": "#E5ECF6",
           "showlakes": true,
           "showland": true,
           "subunitcolor": "white"
          },
          "hoverlabel": {
           "align": "left"
          },
          "hovermode": "closest",
          "mapbox": {
           "style": "light"
          },
          "paper_bgcolor": "white",
          "plot_bgcolor": "#E5ECF6",
          "polar": {
           "angularaxis": {
            "gridcolor": "white",
            "linecolor": "white",
            "ticks": ""
           },
           "bgcolor": "#E5ECF6",
           "radialaxis": {
            "gridcolor": "white",
            "linecolor": "white",
            "ticks": ""
           }
          },
          "scene": {
           "xaxis": {
            "backgroundcolor": "#E5ECF6",
            "gridcolor": "white",
            "gridwidth": 2,
            "linecolor": "white",
            "showbackground": true,
            "ticks": "",
            "zerolinecolor": "white"
           },
           "yaxis": {
            "backgroundcolor": "#E5ECF6",
            "gridcolor": "white",
            "gridwidth": 2,
            "linecolor": "white",
            "showbackground": true,
            "ticks": "",
            "zerolinecolor": "white"
           },
           "zaxis": {
            "backgroundcolor": "#E5ECF6",
            "gridcolor": "white",
            "gridwidth": 2,
            "linecolor": "white",
            "showbackground": true,
            "ticks": "",
            "zerolinecolor": "white"
           }
          },
          "shapedefaults": {
           "line": {
            "color": "#2a3f5f"
           }
          },
          "ternary": {
           "aaxis": {
            "gridcolor": "white",
            "linecolor": "white",
            "ticks": ""
           },
           "baxis": {
            "gridcolor": "white",
            "linecolor": "white",
            "ticks": ""
           },
           "bgcolor": "#E5ECF6",
           "caxis": {
            "gridcolor": "white",
            "linecolor": "white",
            "ticks": ""
           }
          },
          "title": {
           "x": 0.05
          },
          "xaxis": {
           "automargin": true,
           "gridcolor": "white",
           "linecolor": "white",
           "ticks": "",
           "title": {
            "standoff": 15
           },
           "zerolinecolor": "white",
           "zerolinewidth": 2
          },
          "yaxis": {
           "automargin": true,
           "gridcolor": "white",
           "linecolor": "white",
           "ticks": "",
           "title": {
            "standoff": 15
           },
           "zerolinecolor": "white",
           "zerolinewidth": 2
          }
         }
        },
        "xaxis": {
         "anchor": "y",
         "domain": [
          0,
          0.48
         ],
         "title": {
          "text": "total_bill"
         }
        },
        "xaxis2": {
         "anchor": "y2",
         "domain": [
          0.5,
          0.98
         ],
         "matches": "x",
         "title": {
          "text": "total_bill"
         }
        },
        "xaxis3": {
         "anchor": "y3",
         "domain": [
          0,
          0.48
         ],
         "matches": "x",
         "showticklabels": false
        },
        "xaxis4": {
         "anchor": "y4",
         "domain": [
          0.5,
          0.98
         ],
         "matches": "x",
         "showticklabels": false
        },
        "yaxis": {
         "anchor": "x",
         "domain": [
          0,
          0.485
         ],
         "title": {
          "text": "tip"
         }
        },
        "yaxis2": {
         "anchor": "x2",
         "domain": [
          0,
          0.485
         ],
         "matches": "y",
         "showticklabels": false
        },
        "yaxis3": {
         "anchor": "x3",
         "domain": [
          0.515,
          1
         ],
         "matches": "y",
         "title": {
          "text": "tip"
         }
        },
        "yaxis4": {
         "anchor": "x4",
         "domain": [
          0.515,
          1
         ],
         "matches": "y",
         "showticklabels": false
        }
       }
      }
     },
     "metadata": {}
    }
   ],
   "metadata": {},
   "execution_count": 4
  }
 ]
}